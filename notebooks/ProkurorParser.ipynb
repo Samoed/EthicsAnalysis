{
 "cells": [
  {
   "cell_type": "code",
   "execution_count": 1,
   "metadata": {},
   "outputs": [],
   "source": [
    "import pandas as pd\n",
    "import numpy as np\n",
    "from tqdm import tqdm\n",
    "import re\n",
    "\n",
    "tqdm.pandas()"
   ]
  },
  {
   "cell_type": "markdown",
   "metadata": {},
   "source": [
    "# result_1.csv"
   ]
  },
  {
   "cell_type": "code",
   "execution_count": 72,
   "metadata": {},
   "outputs": [],
   "source": [
    "prokuror_df1 = pd.read_csv(\"/home/rsolomatin/metalurgi/site-prokuror/prokuror/result_1.csv\", index_col=0)"
   ]
  },
  {
   "cell_type": "code",
   "execution_count": 73,
   "metadata": {},
   "outputs": [
    {
     "data": {
      "text/html": [
       "<div>\n",
       "<style scoped>\n",
       "    .dataframe tbody tr th:only-of-type {\n",
       "        vertical-align: middle;\n",
       "    }\n",
       "\n",
       "    .dataframe tbody tr th {\n",
       "        vertical-align: top;\n",
       "    }\n",
       "\n",
       "    .dataframe thead th {\n",
       "        text-align: right;\n",
       "    }\n",
       "</style>\n",
       "<table border=\"1\" class=\"dataframe\">\n",
       "  <thead>\n",
       "    <tr style=\"text-align: right;\">\n",
       "      <th></th>\n",
       "      <th>DATE</th>\n",
       "      <th>INN</th>\n",
       "      <th>OGRN</th>\n",
       "      <th>OKVEDS</th>\n",
       "      <th>REASON</th>\n",
       "      <th>WARNING_INFO</th>\n",
       "      <th>ACTION_INFO</th>\n",
       "    </tr>\n",
       "  </thead>\n",
       "  <tbody>\n",
       "    <tr>\n",
       "      <th>0</th>\n",
       "      <td>2021-10-16</td>\n",
       "      <td>7325142233</td>\n",
       "      <td>1.167325e+12</td>\n",
       "      <td>[('56.10', 'Деятельность ресторанов и услуги п...</td>\n",
       "      <td>[('(ФЗ 248) Наличие у контрольного (надзорного...</td>\n",
       "      <td>Обеспечить начисление месячной заработной плат...</td>\n",
       "      <td>NaN</td>\n",
       "    </tr>\n",
       "    <tr>\n",
       "      <th>1</th>\n",
       "      <td>2021-10-16</td>\n",
       "      <td>7325143371</td>\n",
       "      <td>1.167325e+12</td>\n",
       "      <td>[('56.10', 'Деятельность ресторанов и услуги п...</td>\n",
       "      <td>[('(ФЗ 248) Наличие у контрольного (надзорного...</td>\n",
       "      <td>Обеспечить начисление месячной заработной плат...</td>\n",
       "      <td>NaN</td>\n",
       "    </tr>\n",
       "    <tr>\n",
       "      <th>2</th>\n",
       "      <td>2021-10-16</td>\n",
       "      <td>5610096550</td>\n",
       "      <td>1.065610e+12</td>\n",
       "      <td>[('49.4', 'Деятельность автомобильного грузово...</td>\n",
       "      <td>[('(ФЗ 248) Наличие у контрольного (надзорного...</td>\n",
       "      <td>Принять меры по оснащению транспортного средст...</td>\n",
       "      <td>NaN</td>\n",
       "    </tr>\n",
       "    <tr>\n",
       "      <th>3</th>\n",
       "      <td>2021-10-16</td>\n",
       "      <td>7325145749</td>\n",
       "      <td>1.167325e+12</td>\n",
       "      <td>[('46.51', 'Торговля оптовая компьютерами, пер...</td>\n",
       "      <td>[('(ФЗ 248) Наличие у контрольного (надзорного...</td>\n",
       "      <td>Обеспечить начисление месячной заработной плат...</td>\n",
       "      <td>NaN</td>\n",
       "    </tr>\n",
       "    <tr>\n",
       "      <th>4</th>\n",
       "      <td>2021-10-16</td>\n",
       "      <td>7325145925</td>\n",
       "      <td>1.167325e+12</td>\n",
       "      <td>[('41.20', 'Строительство жилых и нежилых здан...</td>\n",
       "      <td>[('(ФЗ 248) Наличие у контрольного (надзорного...</td>\n",
       "      <td>Обеспечить начисление месячной заработной плат...</td>\n",
       "      <td>NaN</td>\n",
       "    </tr>\n",
       "  </tbody>\n",
       "</table>\n",
       "</div>"
      ],
      "text/plain": [
       "         DATE         INN          OGRN  \\\n",
       "0  2021-10-16  7325142233  1.167325e+12   \n",
       "1  2021-10-16  7325143371  1.167325e+12   \n",
       "2  2021-10-16  5610096550  1.065610e+12   \n",
       "3  2021-10-16  7325145749  1.167325e+12   \n",
       "4  2021-10-16  7325145925  1.167325e+12   \n",
       "\n",
       "                                              OKVEDS  \\\n",
       "0  [('56.10', 'Деятельность ресторанов и услуги п...   \n",
       "1  [('56.10', 'Деятельность ресторанов и услуги п...   \n",
       "2  [('49.4', 'Деятельность автомобильного грузово...   \n",
       "3  [('46.51', 'Торговля оптовая компьютерами, пер...   \n",
       "4  [('41.20', 'Строительство жилых и нежилых здан...   \n",
       "\n",
       "                                              REASON  \\\n",
       "0  [('(ФЗ 248) Наличие у контрольного (надзорного...   \n",
       "1  [('(ФЗ 248) Наличие у контрольного (надзорного...   \n",
       "2  [('(ФЗ 248) Наличие у контрольного (надзорного...   \n",
       "3  [('(ФЗ 248) Наличие у контрольного (надзорного...   \n",
       "4  [('(ФЗ 248) Наличие у контрольного (надзорного...   \n",
       "\n",
       "                                        WARNING_INFO ACTION_INFO  \n",
       "0  Обеспечить начисление месячной заработной плат...         NaN  \n",
       "1  Обеспечить начисление месячной заработной плат...         NaN  \n",
       "2  Принять меры по оснащению транспортного средст...         NaN  \n",
       "3  Обеспечить начисление месячной заработной плат...         NaN  \n",
       "4  Обеспечить начисление месячной заработной плат...         NaN  "
      ]
     },
     "execution_count": 73,
     "metadata": {},
     "output_type": "execute_result"
    }
   ],
   "source": [
    "prokuror_df1.head()"
   ]
  },
  {
   "cell_type": "code",
   "execution_count": 74,
   "metadata": {},
   "outputs": [],
   "source": [
    "def get_reason(prokuror_row, col=None):\n",
    "    if prokuror_row[col] == \"[]\":\n",
    "        return \"\"\n",
    "    if col==\"OKVEDS\":\n",
    "        text = eval(prokuror_row[\"OKVEDS\"])[0][1]\n",
    "    else:    \n",
    "        text = eval(prokuror_row[\"REASON\"])[0][0]\n",
    "    text = re.sub(\"\\n\", \" \", text)\n",
    "    text = re.sub(\"\\.\\.\\.\", \"\", text)\n",
    "    return text"
   ]
  },
  {
   "cell_type": "code",
   "execution_count": 75,
   "metadata": {},
   "outputs": [
    {
     "name": "stderr",
     "output_type": "stream",
     "text": [
      "100%|██████████| 976216/976216 [00:27<00:00, 35210.52it/s]\n",
      "100%|██████████| 976216/976216 [00:31<00:00, 31243.17it/s]\n"
     ]
    }
   ],
   "source": [
    "prokuror_df1[\"OKVEDS\"] = prokuror_df1.progress_apply(get_reason, axis=1, col='OKVEDS')\n",
    "prokuror_df1[\"REASON\"] = prokuror_df1.progress_apply(get_reason, axis=1, col='REASON')"
   ]
  },
  {
   "cell_type": "code",
   "execution_count": 78,
   "metadata": {},
   "outputs": [
    {
     "data": {
      "text/html": [
       "<div>\n",
       "<style scoped>\n",
       "    .dataframe tbody tr th:only-of-type {\n",
       "        vertical-align: middle;\n",
       "    }\n",
       "\n",
       "    .dataframe tbody tr th {\n",
       "        vertical-align: top;\n",
       "    }\n",
       "\n",
       "    .dataframe thead th {\n",
       "        text-align: right;\n",
       "    }\n",
       "</style>\n",
       "<table border=\"1\" class=\"dataframe\">\n",
       "  <thead>\n",
       "    <tr style=\"text-align: right;\">\n",
       "      <th></th>\n",
       "      <th>DATE</th>\n",
       "      <th>INN</th>\n",
       "      <th>OGRN</th>\n",
       "      <th>OKVEDS</th>\n",
       "      <th>REASON</th>\n",
       "      <th>WARNING_INFO</th>\n",
       "      <th>ACTION_INFO</th>\n",
       "    </tr>\n",
       "  </thead>\n",
       "  <tbody>\n",
       "    <tr>\n",
       "      <th>0</th>\n",
       "      <td>2021-10-16</td>\n",
       "      <td>7325142233</td>\n",
       "      <td>1.167325e+12</td>\n",
       "      <td>Деятельность ресторанов и услуги по доставке п...</td>\n",
       "      <td>(ФЗ 248) Наличие у контрольного (надзорного) о...</td>\n",
       "      <td>Обеспечить начисление месячной заработной плат...</td>\n",
       "      <td>NaN</td>\n",
       "    </tr>\n",
       "    <tr>\n",
       "      <th>1</th>\n",
       "      <td>2021-10-16</td>\n",
       "      <td>7325143371</td>\n",
       "      <td>1.167325e+12</td>\n",
       "      <td>Деятельность ресторанов и услуги по доставке п...</td>\n",
       "      <td>(ФЗ 248) Наличие у контрольного (надзорного) о...</td>\n",
       "      <td>Обеспечить начисление месячной заработной плат...</td>\n",
       "      <td>NaN</td>\n",
       "    </tr>\n",
       "    <tr>\n",
       "      <th>2</th>\n",
       "      <td>2021-10-16</td>\n",
       "      <td>5610096550</td>\n",
       "      <td>1.065610e+12</td>\n",
       "      <td>Деятельность автомобильного грузового транспор...</td>\n",
       "      <td>(ФЗ 248) Наличие у контрольного (надзорного) о...</td>\n",
       "      <td>Принять меры по оснащению транспортного средст...</td>\n",
       "      <td>NaN</td>\n",
       "    </tr>\n",
       "    <tr>\n",
       "      <th>3</th>\n",
       "      <td>2021-10-16</td>\n",
       "      <td>7325145749</td>\n",
       "      <td>1.167325e+12</td>\n",
       "      <td>Торговля оптовая компьютерами, периферийными у...</td>\n",
       "      <td>(ФЗ 248) Наличие у контрольного (надзорного) о...</td>\n",
       "      <td>Обеспечить начисление месячной заработной плат...</td>\n",
       "      <td>NaN</td>\n",
       "    </tr>\n",
       "    <tr>\n",
       "      <th>4</th>\n",
       "      <td>2021-10-16</td>\n",
       "      <td>7325145925</td>\n",
       "      <td>1.167325e+12</td>\n",
       "      <td>Строительство жилых и нежилых зданий</td>\n",
       "      <td>(ФЗ 248) Наличие у контрольного (надзорного) о...</td>\n",
       "      <td>Обеспечить начисление месячной заработной плат...</td>\n",
       "      <td>NaN</td>\n",
       "    </tr>\n",
       "  </tbody>\n",
       "</table>\n",
       "</div>"
      ],
      "text/plain": [
       "         DATE         INN          OGRN  \\\n",
       "0  2021-10-16  7325142233  1.167325e+12   \n",
       "1  2021-10-16  7325143371  1.167325e+12   \n",
       "2  2021-10-16  5610096550  1.065610e+12   \n",
       "3  2021-10-16  7325145749  1.167325e+12   \n",
       "4  2021-10-16  7325145925  1.167325e+12   \n",
       "\n",
       "                                              OKVEDS  \\\n",
       "0  Деятельность ресторанов и услуги по доставке п...   \n",
       "1  Деятельность ресторанов и услуги по доставке п...   \n",
       "2  Деятельность автомобильного грузового транспор...   \n",
       "3  Торговля оптовая компьютерами, периферийными у...   \n",
       "4               Строительство жилых и нежилых зданий   \n",
       "\n",
       "                                              REASON  \\\n",
       "0  (ФЗ 248) Наличие у контрольного (надзорного) о...   \n",
       "1  (ФЗ 248) Наличие у контрольного (надзорного) о...   \n",
       "2  (ФЗ 248) Наличие у контрольного (надзорного) о...   \n",
       "3  (ФЗ 248) Наличие у контрольного (надзорного) о...   \n",
       "4  (ФЗ 248) Наличие у контрольного (надзорного) о...   \n",
       "\n",
       "                                        WARNING_INFO ACTION_INFO  \n",
       "0  Обеспечить начисление месячной заработной плат...         NaN  \n",
       "1  Обеспечить начисление месячной заработной плат...         NaN  \n",
       "2  Принять меры по оснащению транспортного средст...         NaN  \n",
       "3  Обеспечить начисление месячной заработной плат...         NaN  \n",
       "4  Обеспечить начисление месячной заработной плат...         NaN  "
      ]
     },
     "execution_count": 78,
     "metadata": {},
     "output_type": "execute_result"
    }
   ],
   "source": [
    "prokuror_df1.head()"
   ]
  },
  {
   "cell_type": "code",
   "execution_count": 79,
   "metadata": {},
   "outputs": [],
   "source": [
    "prokuror_df1.to_csv(\"prokuror_1.csv\")"
   ]
  },
  {
   "cell_type": "markdown",
   "metadata": {},
   "source": [
    "# result_2.csv"
   ]
  },
  {
   "cell_type": "code",
   "execution_count": 46,
   "metadata": {},
   "outputs": [
    {
     "name": "stderr",
     "output_type": "stream",
     "text": [
      "<ipython-input-46-f95cd3009426>:1: DtypeWarning: Columns (2,3) have mixed types. Specify dtype option on import or set low_memory=False.\n",
      "  prokuror_df2 = pd.read_csv(\"/home/rsolomatin/metalurgi/site-prokuror/prokuror/result_2.csv\", index_col=0)\n"
     ]
    },
    {
     "data": {
      "text/html": [
       "<div>\n",
       "<style scoped>\n",
       "    .dataframe tbody tr th:only-of-type {\n",
       "        vertical-align: middle;\n",
       "    }\n",
       "\n",
       "    .dataframe tbody tr th {\n",
       "        vertical-align: top;\n",
       "    }\n",
       "\n",
       "    .dataframe thead th {\n",
       "        text-align: right;\n",
       "    }\n",
       "</style>\n",
       "<table border=\"1\" class=\"dataframe\">\n",
       "  <thead>\n",
       "    <tr style=\"text-align: right;\">\n",
       "      <th></th>\n",
       "      <th>DATE</th>\n",
       "      <th>INN</th>\n",
       "      <th>OGRN</th>\n",
       "      <th>VIOLATIONS</th>\n",
       "      <th>CLASSIF_LB</th>\n",
       "      <th>RESULT_INFO</th>\n",
       "      <th>CARRY_OUT_EVENTS</th>\n",
       "    </tr>\n",
       "  </thead>\n",
       "  <tbody>\n",
       "    <tr>\n",
       "      <th>0</th>\n",
       "      <td>2021-04-22</td>\n",
       "      <td>1431007235</td>\n",
       "      <td>1021400944245</td>\n",
       "      <td>[]</td>\n",
       "      <td>[]</td>\n",
       "      <td>[]</td>\n",
       "      <td>['рассмотреть представленные застройщиком, тех...</td>\n",
       "    </tr>\n",
       "    <tr>\n",
       "      <th>1</th>\n",
       "      <td>2021-04-22</td>\n",
       "      <td>2461038874</td>\n",
       "      <td>1172468053647</td>\n",
       "      <td>[('абз. 5 ч. 1 ст. 21 ТК РФ ст. 136 ТК РФ\\nст....</td>\n",
       "      <td>['ТК РФ']</td>\n",
       "      <td>[]</td>\n",
       "      <td>['Рассмотреть документы юридического лица согл...</td>\n",
       "    </tr>\n",
       "    <tr>\n",
       "      <th>2</th>\n",
       "      <td>2021-04-22</td>\n",
       "      <td>2465306186</td>\n",
       "      <td>1142468004800</td>\n",
       "      <td>[]</td>\n",
       "      <td>['ТК РФ']</td>\n",
       "      <td>[]</td>\n",
       "      <td>['Рассмотреть документы юридического лица согл...</td>\n",
       "    </tr>\n",
       "    <tr>\n",
       "      <th>3</th>\n",
       "      <td>2021-04-22</td>\n",
       "      <td>6725008449</td>\n",
       "      <td>1026700927747</td>\n",
       "      <td>[('- директором школы разработана и утверждена...</td>\n",
       "      <td>['Пункт 3 части 2 статьи 10 Федерального закон...</td>\n",
       "      <td>[('Сведения об ознакомлении или отказе ознаком...</td>\n",
       "      <td>['1. рассмотрение документов лиц, подлежащих п...</td>\n",
       "    </tr>\n",
       "    <tr>\n",
       "      <th>4</th>\n",
       "      <td>2021-04-22</td>\n",
       "      <td>6514008993</td>\n",
       "      <td>1116507000191</td>\n",
       "      <td>[('ФЗ от 21.04.2014 №209-ФЗ; Приказ Минкомсвяз...</td>\n",
       "      <td>['Жилищный кодекс Российской Федерации']</td>\n",
       "      <td>[('Сведения об ознакомлении или отказе ознаком...</td>\n",
       "      <td>['- изучение размещенной информации в ГИС ЖКХ....</td>\n",
       "    </tr>\n",
       "  </tbody>\n",
       "</table>\n",
       "</div>"
      ],
      "text/plain": [
       "         DATE         INN           OGRN  \\\n",
       "0  2021-04-22  1431007235  1021400944245   \n",
       "1  2021-04-22  2461038874  1172468053647   \n",
       "2  2021-04-22  2465306186  1142468004800   \n",
       "3  2021-04-22  6725008449  1026700927747   \n",
       "4  2021-04-22  6514008993  1116507000191   \n",
       "\n",
       "                                          VIOLATIONS  \\\n",
       "0                                                 []   \n",
       "1  [('абз. 5 ч. 1 ст. 21 ТК РФ ст. 136 ТК РФ\\nст....   \n",
       "2                                                 []   \n",
       "3  [('- директором школы разработана и утверждена...   \n",
       "4  [('ФЗ от 21.04.2014 №209-ФЗ; Приказ Минкомсвяз...   \n",
       "\n",
       "                                          CLASSIF_LB  \\\n",
       "0                                                 []   \n",
       "1                                          ['ТК РФ']   \n",
       "2                                          ['ТК РФ']   \n",
       "3  ['Пункт 3 части 2 статьи 10 Федерального закон...   \n",
       "4           ['Жилищный кодекс Российской Федерации']   \n",
       "\n",
       "                                         RESULT_INFO  \\\n",
       "0                                                 []   \n",
       "1                                                 []   \n",
       "2                                                 []   \n",
       "3  [('Сведения об ознакомлении или отказе ознаком...   \n",
       "4  [('Сведения об ознакомлении или отказе ознаком...   \n",
       "\n",
       "                                    CARRY_OUT_EVENTS  \n",
       "0  ['рассмотреть представленные застройщиком, тех...  \n",
       "1  ['Рассмотреть документы юридического лица согл...  \n",
       "2  ['Рассмотреть документы юридического лица согл...  \n",
       "3  ['1. рассмотрение документов лиц, подлежащих п...  \n",
       "4  ['- изучение размещенной информации в ГИС ЖКХ....  "
      ]
     },
     "execution_count": 46,
     "metadata": {},
     "output_type": "execute_result"
    }
   ],
   "source": [
    "prokuror_df2 = pd.read_csv(\"/home/rsolomatin/metalurgi/site-prokuror/prokuror/result_2.csv\", index_col=0)\n",
    "prokuror_df2.head()"
   ]
  },
  {
   "cell_type": "code",
   "execution_count": 47,
   "metadata": {},
   "outputs": [],
   "source": [
    "def parse_row(row, col=None):\n",
    "    if row[col] == \"[]\":\n",
    "        return \"\"\n",
    "    row_val = eval(row[col])\n",
    "    if row[col][1] == \"(\":\n",
    "        row_val = row_val[0]\n",
    "    return_str = \"\"\n",
    "    for text in row_val:\n",
    "        text = re.sub(\"\\n\", \" \", text)\n",
    "        text = re.sub(\"\\.\\.\\.\", \"\", text)\n",
    "        text = re.sub('\"', \" \", text)\n",
    "        text = re.sub('№ \\d*-ФЗ', \" \", text)\n",
    "        return_str += text\n",
    "    return return_str.strip()[:1000]"
   ]
  },
  {
   "cell_type": "code",
   "execution_count": 48,
   "metadata": {},
   "outputs": [
    {
     "name": "stderr",
     "output_type": "stream",
     "text": [
      "100%|██████████| 527727/527727 [00:28<00:00, 18473.37it/s]\n",
      "100%|██████████| 527727/527727 [00:31<00:00, 16886.88it/s]\n",
      "100%|██████████| 527727/527727 [00:22<00:00, 23841.13it/s]\n",
      "100%|██████████| 527727/527727 [00:30<00:00, 17556.21it/s]\n"
     ]
    }
   ],
   "source": [
    "for col in [\"VIOLATIONS\", \"CLASSIF_LB\", \"RESULT_INFO\", \"CARRY_OUT_EVENTS\"]:\n",
    "    prokuror_df2[col] = prokuror_df2.progress_apply(parse_row, axis=1, col=col)"
   ]
  },
  {
   "cell_type": "code",
   "execution_count": 49,
   "metadata": {},
   "outputs": [],
   "source": [
    "def parse_inn(row):\n",
    "    inn = row[\"INN\"]\n",
    "    if type(inn) == float or type(inn) == int:\n",
    "        return inn\n",
    "    if inn == \"-\" or inn == \"\" or inn is np.nan or inn is None:\n",
    "        return np.nan\n",
    "    inn = inn.strip()\n",
    "    if inn.isnumeric():\n",
    "        return int(inn)\n",
    "    inn = re.sub(\"ИНН\", \"\", inn)\n",
    "    inn = re.sub(\"_\", \"\", inn)\n",
    "    inn = re.sub(\".\", \"\", inn)\n",
    "    inn = re.sub(\"ё\", \"\", inn)\n",
    "    arr = inn.strip().split()\n",
    "    if len(arr) == 0:\n",
    "        return np.nan\n",
    "    for elem in arr:\n",
    "        if elem.isnumeric() or elem[:-1].isnumeric():\n",
    "            return int(elem)\n",
    "    if elem is str:\n",
    "        return np.nan"
   ]
  },
  {
   "cell_type": "code",
   "execution_count": 50,
   "metadata": {},
   "outputs": [
    {
     "name": "stderr",
     "output_type": "stream",
     "text": [
      "100%|██████████| 527727/527727 [00:06<00:00, 87521.17it/s]\n"
     ]
    }
   ],
   "source": [
    "prokuror_df2[\"INN\"] = prokuror_df2.progress_apply(parse_inn, axis=1)"
   ]
  },
  {
   "cell_type": "code",
   "execution_count": 129,
   "metadata": {},
   "outputs": [],
   "source": [
    "prokuror_df2.loc[prokuror_df2[\"INN\"] > 1e14, \"INN\"] = np.nan\n",
    "prokuror_df2[\"INN\"] = prokuror_df2[\"INN\"].fillna(0).astype(np.int64)"
   ]
  },
  {
   "cell_type": "code",
   "execution_count": 130,
   "metadata": {},
   "outputs": [
    {
     "data": {
      "text/html": [
       "<div>\n",
       "<style scoped>\n",
       "    .dataframe tbody tr th:only-of-type {\n",
       "        vertical-align: middle;\n",
       "    }\n",
       "\n",
       "    .dataframe tbody tr th {\n",
       "        vertical-align: top;\n",
       "    }\n",
       "\n",
       "    .dataframe thead th {\n",
       "        text-align: right;\n",
       "    }\n",
       "</style>\n",
       "<table border=\"1\" class=\"dataframe\">\n",
       "  <thead>\n",
       "    <tr style=\"text-align: right;\">\n",
       "      <th></th>\n",
       "      <th>DATE</th>\n",
       "      <th>INN</th>\n",
       "      <th>OGRN</th>\n",
       "      <th>VIOLATIONS</th>\n",
       "      <th>CLASSIF_LB</th>\n",
       "      <th>RESULT_INFO</th>\n",
       "      <th>CARRY_OUT_EVENTS</th>\n",
       "    </tr>\n",
       "  </thead>\n",
       "  <tbody>\n",
       "    <tr>\n",
       "      <th>527722</th>\n",
       "      <td>2021-09-19</td>\n",
       "      <td>4024007517</td>\n",
       "      <td>1034004100558.0</td>\n",
       "      <td></td>\n",
       "      <td></td>\n",
       "      <td></td>\n",
       "      <td>1 Проверить качество предоставления коммунальн...</td>\n",
       "    </tr>\n",
       "    <tr>\n",
       "      <th>527723</th>\n",
       "      <td>2021-09-19</td>\n",
       "      <td>5032247578</td>\n",
       "      <td>1125032000675.0</td>\n",
       "      <td>9101155 не приняты меры для очередной поверки ...</td>\n",
       "      <td>Федеральный закон от 26 декабря 2008 г.    О з...</td>\n",
       "      <td></td>\n",
       "      <td>Проверка соблюдения лицензиатом лицензионных т...</td>\n",
       "    </tr>\n",
       "    <tr>\n",
       "      <th>527724</th>\n",
       "      <td>2021-09-19</td>\n",
       "      <td>4023010813</td>\n",
       "      <td>1144023000208.0</td>\n",
       "      <td></td>\n",
       "      <td>Федеральный закон от 26 декабря 2008 г.    О з...</td>\n",
       "      <td></td>\n",
       "      <td>Проверить техническое состояние многоквартирно...</td>\n",
       "    </tr>\n",
       "    <tr>\n",
       "      <th>527725</th>\n",
       "      <td>2021-09-19</td>\n",
       "      <td>4024007517</td>\n",
       "      <td>1034004100558.0</td>\n",
       "      <td></td>\n",
       "      <td>Федеральный закон от 26 декабря 2008 г.    О з...</td>\n",
       "      <td></td>\n",
       "      <td>Проверить качество предоставления коммунальной...</td>\n",
       "    </tr>\n",
       "    <tr>\n",
       "      <th>527726</th>\n",
       "      <td>2021-09-19</td>\n",
       "      <td>5032199740</td>\n",
       "      <td>1085032325542.0</td>\n",
       "      <td>9101810 Ненадлежащее содержание общего имущест...</td>\n",
       "      <td>Федеральный закон от 26 декабря 2008 г.    О з...</td>\n",
       "      <td></td>\n",
       "      <td>Проверка документовПроверка соблюдения лицензи...</td>\n",
       "    </tr>\n",
       "  </tbody>\n",
       "</table>\n",
       "</div>"
      ],
      "text/plain": [
       "              DATE         INN             OGRN  \\\n",
       "527722  2021-09-19  4024007517  1034004100558.0   \n",
       "527723  2021-09-19  5032247578  1125032000675.0   \n",
       "527724  2021-09-19  4023010813  1144023000208.0   \n",
       "527725  2021-09-19  4024007517  1034004100558.0   \n",
       "527726  2021-09-19  5032199740  1085032325542.0   \n",
       "\n",
       "                                               VIOLATIONS  \\\n",
       "527722                                                      \n",
       "527723  9101155 не приняты меры для очередной поверки ...   \n",
       "527724                                                      \n",
       "527725                                                      \n",
       "527726  9101810 Ненадлежащее содержание общего имущест...   \n",
       "\n",
       "                                               CLASSIF_LB RESULT_INFO  \\\n",
       "527722                                                                  \n",
       "527723  Федеральный закон от 26 декабря 2008 г.    О з...               \n",
       "527724  Федеральный закон от 26 декабря 2008 г.    О з...               \n",
       "527725  Федеральный закон от 26 декабря 2008 г.    О з...               \n",
       "527726  Федеральный закон от 26 декабря 2008 г.    О з...               \n",
       "\n",
       "                                         CARRY_OUT_EVENTS  \n",
       "527722  1 Проверить качество предоставления коммунальн...  \n",
       "527723  Проверка соблюдения лицензиатом лицензионных т...  \n",
       "527724  Проверить техническое состояние многоквартирно...  \n",
       "527725  Проверить качество предоставления коммунальной...  \n",
       "527726  Проверка документовПроверка соблюдения лицензи...  "
      ]
     },
     "execution_count": 130,
     "metadata": {},
     "output_type": "execute_result"
    }
   ],
   "source": [
    "prokuror_df2.tail()"
   ]
  },
  {
   "cell_type": "code",
   "execution_count": 51,
   "metadata": {},
   "outputs": [],
   "source": [
    "prokuror_df2.to_csv(\"prokuror_2.csv\")"
   ]
  },
  {
   "cell_type": "code",
   "execution_count": 52,
   "metadata": {},
   "outputs": [
    {
     "name": "stdout",
     "output_type": "stream",
     "text": [
      "<class 'pandas.core.frame.DataFrame'>\n",
      "Int64Index: 527727 entries, 0 to 527726\n",
      "Data columns (total 7 columns):\n",
      " #   Column            Non-Null Count   Dtype \n",
      "---  ------            --------------   ----- \n",
      " 0   DATE              527727 non-null  object\n",
      " 1   INN               526992 non-null  object\n",
      " 2   OGRN              512925 non-null  object\n",
      " 3   VIOLATIONS        527727 non-null  object\n",
      " 4   CLASSIF_LB        527727 non-null  object\n",
      " 5   RESULT_INFO       527727 non-null  object\n",
      " 6   CARRY_OUT_EVENTS  527727 non-null  object\n",
      "dtypes: object(7)\n",
      "memory usage: 32.2+ MB\n"
     ]
    }
   ],
   "source": [
    "prokuror_df2.info()"
   ]
  },
  {
   "cell_type": "code",
   "execution_count": 53,
   "metadata": {},
   "outputs": [
    {
     "data": {
      "text/plain": [
       "Index(['DATE', 'INN', 'OGRN', 'VIOLATIONS', 'CLASSIF_LB', 'RESULT_INFO',\n",
       "       'CARRY_OUT_EVENTS'],\n",
       "      dtype='object')"
      ]
     },
     "execution_count": 53,
     "metadata": {},
     "output_type": "execute_result"
    }
   ],
   "source": [
    "prokuror_df2.columns"
   ]
  },
  {
   "cell_type": "code",
   "execution_count": 54,
   "metadata": {},
   "outputs": [
    {
     "ename": "ParserError",
     "evalue": "Error tokenizing data. C error: Buffer overflow caught - possible malformed input file.\n",
     "output_type": "error",
     "traceback": [
      "\u001b[0;31m---------------------------------------------------------------------------\u001b[0m",
      "\u001b[0;31mParserError\u001b[0m                               Traceback (most recent call last)",
      "\u001b[0;32m<ipython-input-54-a063877ac9fe>\u001b[0m in \u001b[0;36m<module>\u001b[0;34m\u001b[0m\n\u001b[0;32m----> 1\u001b[0;31m \u001b[0mtest\u001b[0m \u001b[0;34m=\u001b[0m \u001b[0mpd\u001b[0m\u001b[0;34m.\u001b[0m\u001b[0mread_csv\u001b[0m\u001b[0;34m(\u001b[0m\u001b[0;34m\"prokuror_2.csv\"\u001b[0m\u001b[0;34m,\u001b[0m \u001b[0mindex_col\u001b[0m\u001b[0;34m=\u001b[0m\u001b[0;36m0\u001b[0m\u001b[0;34m)\u001b[0m\u001b[0;34m\u001b[0m\u001b[0;34m\u001b[0m\u001b[0m\n\u001b[0m\u001b[1;32m      2\u001b[0m \u001b[0mtest\u001b[0m\u001b[0;34m.\u001b[0m\u001b[0mhead\u001b[0m\u001b[0;34m(\u001b[0m\u001b[0;34m)\u001b[0m\u001b[0;31m#\u001b[0m\u001b[0;34m\u001b[0m\u001b[0;34m\u001b[0m\u001b[0m\n",
      "\u001b[0;32m~/.local/lib/python3.8/site-packages/pandas/util/_decorators.py\u001b[0m in \u001b[0;36mwrapper\u001b[0;34m(*args, **kwargs)\u001b[0m\n\u001b[1;32m    309\u001b[0m                     \u001b[0mstacklevel\u001b[0m\u001b[0;34m=\u001b[0m\u001b[0mstacklevel\u001b[0m\u001b[0;34m,\u001b[0m\u001b[0;34m\u001b[0m\u001b[0;34m\u001b[0m\u001b[0m\n\u001b[1;32m    310\u001b[0m                 )\n\u001b[0;32m--> 311\u001b[0;31m             \u001b[0;32mreturn\u001b[0m \u001b[0mfunc\u001b[0m\u001b[0;34m(\u001b[0m\u001b[0;34m*\u001b[0m\u001b[0margs\u001b[0m\u001b[0;34m,\u001b[0m \u001b[0;34m**\u001b[0m\u001b[0mkwargs\u001b[0m\u001b[0;34m)\u001b[0m\u001b[0;34m\u001b[0m\u001b[0;34m\u001b[0m\u001b[0m\n\u001b[0m\u001b[1;32m    312\u001b[0m \u001b[0;34m\u001b[0m\u001b[0m\n\u001b[1;32m    313\u001b[0m         \u001b[0;32mreturn\u001b[0m \u001b[0mwrapper\u001b[0m\u001b[0;34m\u001b[0m\u001b[0;34m\u001b[0m\u001b[0m\n",
      "\u001b[0;32m~/.local/lib/python3.8/site-packages/pandas/io/parsers/readers.py\u001b[0m in \u001b[0;36mread_csv\u001b[0;34m(filepath_or_buffer, sep, delimiter, header, names, index_col, usecols, squeeze, prefix, mangle_dupe_cols, dtype, engine, converters, true_values, false_values, skipinitialspace, skiprows, skipfooter, nrows, na_values, keep_default_na, na_filter, verbose, skip_blank_lines, parse_dates, infer_datetime_format, keep_date_col, date_parser, dayfirst, cache_dates, iterator, chunksize, compression, thousands, decimal, lineterminator, quotechar, quoting, doublequote, escapechar, comment, encoding, encoding_errors, dialect, error_bad_lines, warn_bad_lines, on_bad_lines, delim_whitespace, low_memory, memory_map, float_precision, storage_options)\u001b[0m\n\u001b[1;32m    676\u001b[0m     \u001b[0mkwds\u001b[0m\u001b[0;34m.\u001b[0m\u001b[0mupdate\u001b[0m\u001b[0;34m(\u001b[0m\u001b[0mkwds_defaults\u001b[0m\u001b[0;34m)\u001b[0m\u001b[0;34m\u001b[0m\u001b[0;34m\u001b[0m\u001b[0m\n\u001b[1;32m    677\u001b[0m \u001b[0;34m\u001b[0m\u001b[0m\n\u001b[0;32m--> 678\u001b[0;31m     \u001b[0;32mreturn\u001b[0m \u001b[0m_read\u001b[0m\u001b[0;34m(\u001b[0m\u001b[0mfilepath_or_buffer\u001b[0m\u001b[0;34m,\u001b[0m \u001b[0mkwds\u001b[0m\u001b[0;34m)\u001b[0m\u001b[0;34m\u001b[0m\u001b[0;34m\u001b[0m\u001b[0m\n\u001b[0m\u001b[1;32m    679\u001b[0m \u001b[0;34m\u001b[0m\u001b[0m\n\u001b[1;32m    680\u001b[0m \u001b[0;34m\u001b[0m\u001b[0m\n",
      "\u001b[0;32m~/.local/lib/python3.8/site-packages/pandas/io/parsers/readers.py\u001b[0m in \u001b[0;36m_read\u001b[0;34m(filepath_or_buffer, kwds)\u001b[0m\n\u001b[1;32m    579\u001b[0m \u001b[0;34m\u001b[0m\u001b[0m\n\u001b[1;32m    580\u001b[0m     \u001b[0;32mwith\u001b[0m \u001b[0mparser\u001b[0m\u001b[0;34m:\u001b[0m\u001b[0;34m\u001b[0m\u001b[0;34m\u001b[0m\u001b[0m\n\u001b[0;32m--> 581\u001b[0;31m         \u001b[0;32mreturn\u001b[0m \u001b[0mparser\u001b[0m\u001b[0;34m.\u001b[0m\u001b[0mread\u001b[0m\u001b[0;34m(\u001b[0m\u001b[0mnrows\u001b[0m\u001b[0;34m)\u001b[0m\u001b[0;34m\u001b[0m\u001b[0;34m\u001b[0m\u001b[0m\n\u001b[0m\u001b[1;32m    582\u001b[0m \u001b[0;34m\u001b[0m\u001b[0m\n\u001b[1;32m    583\u001b[0m \u001b[0;34m\u001b[0m\u001b[0m\n",
      "\u001b[0;32m~/.local/lib/python3.8/site-packages/pandas/io/parsers/readers.py\u001b[0m in \u001b[0;36mread\u001b[0;34m(self, nrows)\u001b[0m\n\u001b[1;32m   1251\u001b[0m             \u001b[0mnrows\u001b[0m \u001b[0;34m=\u001b[0m \u001b[0mvalidate_integer\u001b[0m\u001b[0;34m(\u001b[0m\u001b[0;34m\"nrows\"\u001b[0m\u001b[0;34m,\u001b[0m \u001b[0mnrows\u001b[0m\u001b[0;34m)\u001b[0m\u001b[0;34m\u001b[0m\u001b[0;34m\u001b[0m\u001b[0m\n\u001b[1;32m   1252\u001b[0m             \u001b[0;32mtry\u001b[0m\u001b[0;34m:\u001b[0m\u001b[0;34m\u001b[0m\u001b[0;34m\u001b[0m\u001b[0m\n\u001b[0;32m-> 1253\u001b[0;31m                 \u001b[0mindex\u001b[0m\u001b[0;34m,\u001b[0m \u001b[0mcolumns\u001b[0m\u001b[0;34m,\u001b[0m \u001b[0mcol_dict\u001b[0m \u001b[0;34m=\u001b[0m \u001b[0mself\u001b[0m\u001b[0;34m.\u001b[0m\u001b[0m_engine\u001b[0m\u001b[0;34m.\u001b[0m\u001b[0mread\u001b[0m\u001b[0;34m(\u001b[0m\u001b[0mnrows\u001b[0m\u001b[0;34m)\u001b[0m\u001b[0;34m\u001b[0m\u001b[0;34m\u001b[0m\u001b[0m\n\u001b[0m\u001b[1;32m   1254\u001b[0m             \u001b[0;32mexcept\u001b[0m \u001b[0mException\u001b[0m\u001b[0;34m:\u001b[0m\u001b[0;34m\u001b[0m\u001b[0;34m\u001b[0m\u001b[0m\n\u001b[1;32m   1255\u001b[0m                 \u001b[0mself\u001b[0m\u001b[0;34m.\u001b[0m\u001b[0mclose\u001b[0m\u001b[0;34m(\u001b[0m\u001b[0;34m)\u001b[0m\u001b[0;34m\u001b[0m\u001b[0;34m\u001b[0m\u001b[0m\n",
      "\u001b[0;32m~/.local/lib/python3.8/site-packages/pandas/io/parsers/c_parser_wrapper.py\u001b[0m in \u001b[0;36mread\u001b[0;34m(self, nrows)\u001b[0m\n\u001b[1;32m    223\u001b[0m         \u001b[0;32mtry\u001b[0m\u001b[0;34m:\u001b[0m\u001b[0;34m\u001b[0m\u001b[0;34m\u001b[0m\u001b[0m\n\u001b[1;32m    224\u001b[0m             \u001b[0;32mif\u001b[0m \u001b[0mself\u001b[0m\u001b[0;34m.\u001b[0m\u001b[0mlow_memory\u001b[0m\u001b[0;34m:\u001b[0m\u001b[0;34m\u001b[0m\u001b[0;34m\u001b[0m\u001b[0m\n\u001b[0;32m--> 225\u001b[0;31m                 \u001b[0mchunks\u001b[0m \u001b[0;34m=\u001b[0m \u001b[0mself\u001b[0m\u001b[0;34m.\u001b[0m\u001b[0m_reader\u001b[0m\u001b[0;34m.\u001b[0m\u001b[0mread_low_memory\u001b[0m\u001b[0;34m(\u001b[0m\u001b[0mnrows\u001b[0m\u001b[0;34m)\u001b[0m\u001b[0;34m\u001b[0m\u001b[0;34m\u001b[0m\u001b[0m\n\u001b[0m\u001b[1;32m    226\u001b[0m                 \u001b[0;31m# destructive to chunks\u001b[0m\u001b[0;34m\u001b[0m\u001b[0;34m\u001b[0m\u001b[0;34m\u001b[0m\u001b[0m\n\u001b[1;32m    227\u001b[0m                 \u001b[0mdata\u001b[0m \u001b[0;34m=\u001b[0m \u001b[0m_concatenate_chunks\u001b[0m\u001b[0;34m(\u001b[0m\u001b[0mchunks\u001b[0m\u001b[0;34m)\u001b[0m\u001b[0;34m\u001b[0m\u001b[0;34m\u001b[0m\u001b[0m\n",
      "\u001b[0;32m~/.local/lib/python3.8/site-packages/pandas/_libs/parsers.pyx\u001b[0m in \u001b[0;36mpandas._libs.parsers.TextReader.read_low_memory\u001b[0;34m()\u001b[0m\n",
      "\u001b[0;32m~/.local/lib/python3.8/site-packages/pandas/_libs/parsers.pyx\u001b[0m in \u001b[0;36mpandas._libs.parsers.TextReader._read_rows\u001b[0;34m()\u001b[0m\n",
      "\u001b[0;32m~/.local/lib/python3.8/site-packages/pandas/_libs/parsers.pyx\u001b[0m in \u001b[0;36mpandas._libs.parsers.TextReader._tokenize_rows\u001b[0;34m()\u001b[0m\n",
      "\u001b[0;32m~/.local/lib/python3.8/site-packages/pandas/_libs/parsers.pyx\u001b[0m in \u001b[0;36mpandas._libs.parsers.raise_parser_error\u001b[0;34m()\u001b[0m\n",
      "\u001b[0;31mParserError\u001b[0m: Error tokenizing data. C error: Buffer overflow caught - possible malformed input file.\n"
     ]
    }
   ],
   "source": [
    "test = pd.read_csv(\"prokuror_2.csv\", index_col=0)\n",
    "test.head()# "
   ]
  },
  {
   "cell_type": "code",
   "execution_count": 135,
   "metadata": {},
   "outputs": [],
   "source": [
    "import csv\n",
    "with open(\"prokuror_2.csv\", 'r') as f:\n",
    "    reader = csv.reader(f)\n",
    "    linenumber = 1\n",
    "    try:\n",
    "        for row in reader:\n",
    "            linenumber += 1\n",
    "    except Exception as e:\n",
    "        print(f\"Error line {linenumber}: {e}\")"
   ]
  },
  {
   "cell_type": "code",
   "execution_count": 37,
   "metadata": {},
   "outputs": [
    {
     "name": "stderr",
     "output_type": "stream",
     "text": [
      "100%|██████████| 3200/3200 [00:00<00:00, 91746.46it/s]"
     ]
    },
    {
     "name": "stdout",
     "output_type": "stream",
     "text": [
      "3186 3136,2021-04-02,7728050994,1037728027590,\"Выборочная проверка полноты и достоверности размещенной в ГИС ЖКХ информации показала, что объединение собственников жилья (далее – ОСЖ) ЖСК «ЭЛАН» не в полном объеме размещена в ГИС ЖКХ информация об ОСЖ, об объектах государственного учета жилищного фонда, находящихся в управлении ОСЖ, включая их технические характеристики и состояние, информация о договорах, в соответствии с которыми собственники помещений в многоквартирном доме, не являющиеся членами ОСЖ, вносят плату за содержание жилого помещения и плату за коммунальные услуги, о выбранном собственниками помещений способе формирования фонда капитального ремонта в многоквартирном доме, а также документы, подтверждающие принятие соответствующих решений\",,,\"a) анализ соответствия размещенной в государственной информационной системе жилищно-коммунального хозяйства информации об объектах жилищного фонда, находящихся в управлении, фактической категории объектов жилищного фонда 6) анализ полноты и достоверности размещенных в отношении каждого объекта жилищного фонда сведений о лицах, предоставляющих жилищно-коммунальные услуги, лицах, осуществляющих управление многоквартирными домами, информации.\"\n",
      "\n",
      "3187 3137,2021-04-02,7727185325,1037739519443,\"Выборочная проверка полноты и достоверности размещенной в ГИС ЖКХ информации показала, что объединение собственников жилья (далее – ОСЖ) ТСЖ «АВРОРА» не в полном объеме размещена в ГИС ЖКХ информация об ОСЖ, об объектах государственного учета жилищного фонда, находящихся в управлении ОСЖ, включая их технические характеристики и состояние, информация о договорах, в соответствии с которыми собственники помещений в многоквартирном доме, не являющиеся членами ОСЖ, вносят плату за содержание жилого помещения и плату за коммунальные услуги, о выбранном собственниками помещений способе формирования фонда капитального ремонта в многоквартирном доме, а также документы, подтверждающие принятие соответствующих решений\",,\"Сведения об ознакомлении или отказе ознакомления с актом КНМ руководителя, иного должностного лица или уполномоченного представителя юридического лица, индивидуального предпринимателя, его уполномоченного представителя, присутствовавших при проведении КНМ, о наличии их подписей или об отказе от совершения подписипредписание\",\"a) анализ соответствия размещенной в государственной информационной системе жилищно-коммунального хозяйства информации об объектах жилищного фонда, находящихся в управлении, фактической категории объектов жилищного фонда 6) анализ полноты и достоверности размещенных в отношении каждого объекта жилищного фонда сведений о лицах, предоставляющих жилищно-коммунальные услуги, лицах, осуществляющих управление многоквартирными домами, информации.\"\n",
      "\n",
      "3188 3138,2021-04-02,7727193090,1037700082353,\"Выборочная проверка полноты и достоверности размещенной в ГИС ЖКХ информации показала, что ТСЖ «Альфа» не в полном объеме размещена в ГИС ЖКХ информация об ОСЖ, об объектах государственного учета жилищного фонда, находящихся в управлении ОСЖ, включая их технические характеристики и состояние, информация о договорах, в соответствии с которыми собственники помещений в многоквартирном доме, не являющиеся членами ОСЖ, вносят плату за содержание жилого помещения и плату за коммунальные услуги, о выбранном собственниками помещений способе формирования фонда капитального ремонта в многоквартирном доме , а также документы, подтверждающие принятие соответствующих решений\",,\"Сведения об ознакомлении или отказе ознакомления с актом КНМ руководителя, иного должностного лица или уполномоченного представителя юридического лица, индивидуального предпринимателя, его уполномоченного представителя, присутствовавших при проведении КНМ, о наличии их подписей или об отказе от совершения подписипредписание\",\"a) анализ соответствия размещенной в государственной информационной системе жилищно-коммунального хозяйства информации об объектах жилищного фонда, находящихся в управлении, фактической категории объектов жилищного фонда 6) анализ полноты и достоверности размещенных в отношении каждого объекта жилищного фонда сведений о лицах, предоставляющих жилищно-коммунальные услуги, лицах, осуществляющих управление многоквартирными домами, информации.\"\n",
      "\n",
      "3189 3139,2021-04-02,7727167005,1037739140295,\"Выборочная проверка полноты и достоверности размещенной в ГИС ЖКХ информации показала, что объединение собственников жилья (далее – ОСЖ) ТСЖ «ПРЕСТИЖ» не в полном объеме размещена в ГИС ЖКХ информация об ОСЖ, об объектах государственного учета жилищного фонда, находящихся в управлении ОСЖ, включая их технические характеристики и состояние, информация о договорах, в соответствии с которыми собственники помещений в многоквартирном доме, не являющиеся членами ОСЖ, вносят плату за содержание жилого помещения и плату за коммунальные услуги, о выбранном собственниками помещений способе формирования фонда капитального ремонта в многоквартирном доме, а также документы, подтверждающие принятие соответствующих решений\",,\"Сведения об ознакомлении или отказе ознакомления с актом КНМ руководителя, иного должностного лица или уполномоченного представителя юридического лица, индивидуального предпринимателя, его уполномоченного представителя, присутствовавших при проведении КНМ, о наличии их подписей или об отказе от совершения подписипредписание\",\"a) анализ соответствия размещенной в государственной информационной системе жилищно-коммунального хозяйства информации об объектах жилищного фонда, находящихся в управлении, фактической категории объектов жилищного фонда 6) анализ полноты и достоверности размещенных в отношении каждого объекта жилищного фонда сведений о лицах, предоставляющих жилищно-коммунальные услуги, лицах, осуществляющих управление многоквартирными домами, информации.\"\n",
      "\n",
      "3190 3140,2021-04-02,7727166971,1037739224181,,,,\"a) анализ соответствия размещенной в государственной информационной системе жилищно-коммунального хозяйства информации об объектах жилищного фонда, находящихся в управлении, фактической категории объектов жилищного фонда 6) анализ полноты и достоверности размещенных в отношении каждого объекта жилищного фонда сведений о лицах, предоставляющих жилищно-коммунальные услуги, лицах, осуществляющих управление многоквартирными домами, информации.\"\n",
      "\n",
      "3191 3141,2021-04-02,7727183198,1027739299752,\"Выборочная проверка полноты и достоверности размещенной в ГИС ЖКХ информации показала, что ТСЖ «СТРИЖ» не в полном объеме размещена в ГИС ЖКХ информация об ОСЖ, об объектах государственного учета жилищного фонда, находящихся в управлении ОСЖ, включая их технические характеристики и состояние, информация о договорах, в соответствии с которыми собственники помещений в многоквартирном доме, не являющиеся членами ОСЖ, вносят плату за содержание жилого помещения и плату за коммунальные услуги, о выбранном собственниками помещений способе формирования фонда капитального ремонта в многоквартирном доме , а также документы, подтверждающие принятие соответствующих решений\",,\"Сведения об ознакомлении или отказе ознакомления с актом КНМ руководителя, иного должностного лица или уполномоченного представителя юридического лица, индивидуального предпринимателя, его уполномоченного представителя, присутствовавших при проведении КНМ, о наличии их подписей или об отказе от совершения подписипредписание\",\"a) анализ соответствия размещенной в государственной информационной системе жилищно-коммунального хозяйства информации об объектах жилищного фонда, находящихся в управлении, фактической категории объектов жилищного фонда 6) анализ полноты и достоверности размещенных в отношении каждого объекта жилищного фонда сведений о лицах, предоставляющих жилищно-коммунальные услуги, лицах, осуществляющих управление многоквартирными домами, информации.\"\n",
      "\n",
      "3192 3142,2021-04-02,3442123614,1123459007374,Выявлен факт неисполнения в установленный срок предписания №8/1/1 от 25.06.2019 (см. акт проверки - документы),\"п. 1  ч. 5 ст. 6.1 Федерального закона от 21 декабря 1994  г.  №69-ФЗ   О  пожарной безопасности ,  п. 1  ч. 2 ст. 10  Федерального закона от 26.12.2008 года №294-ФЗ «О защите прав юридических лиц и индивидуальных предпринимателей при осуществлении государственного контроля (надзора) и муниципального контроля».\",\"Сведения об ознакомлении или отказе ознакомления с актом КНМ руководителя, иного должностного лица или уполномоченного представителя юридического лица, индивидуального предпринимателя, его уполномоченного представителя, присутствовавших при проведении КНМ, о наличии их подписей или об отказе от совершения подписиС актом проверки ознакомлен(а), копию акта со всеми приложениями получил(а): Конкурсный управляющий АО «ВМК «КО» Харченко Сергей Вячеславович\",\"обследование и визуальный осмотр территории и помещений объекта защиты по адресу: г. Волгоград,  пр. им. В.И. Ленина, 110, на предмет выполнения пунктов предписания №8/1/1 от 25.06.2019  года в части: - приведения в работоспособное состояние систем автоматической пожарной сигнализации, автоматического пожаротушения, систем оповещения, систем противодымной вентиляции. Дооборудования помещений данными системами; - приведения путей эвакуации в соответствие нормативным требованиям; - установки противопожарных дверей; - укомплектования электросветильников защитными плафонами; - укомплектования помещений первичными средствами пожаротушения; - проведения огнезащитной обработки; - приведения в соответствие установленным требованиям внутреннего противопожарного водопровода; п.п. 1 – 201   предписания №8/1/1  от 25.06.2019 г. Изучение представленных согласно п.13 настоящего распоряжения документов;\"\n",
      "\n",
      "3193 3143,2021-04-02,7716090248,1037739194536,\"Выборочная проверка полноты и достоверности размещенной в ГИС ЖКХ информации показала, что ЖСК «БУТОВО-26» не в полном объеме размещена в ГИС ЖКХ информация об ОСЖ, об объектах государственного учета жилищного фонда, находящихся в управлении ОСЖ, включая их технические характеристики и состояние, информация о договорах, в соответствии с которыми собственники помещений в многоквартирном доме, не являющиеся членами ОСЖ, вносят плату за содержание жилого помещения и плату за коммунальные услуги, о выбранном собственниками помещений способе формирования фонда капитального ремонта в многоквартирном доме , а также документы, подтверждающие принятие соответствующих решений\",,\"Сведения об ознакомлении или отказе ознакомления с актом КНМ руководителя, иного должностного лица или уполномоченного представителя юридического лица, индивидуального предпринимателя, его уполномоченного представителя, присутствовавших при проведении КНМ, о наличии их подписей или об отказе от совершения подписипредписание\",\"a) анализ соответствия размещенной в государственной информационной системе жилищно-коммунального хозяйства информации об объектах жилищного фонда, находящихся в управлении, фактической категории объектов жилищного фонда 6) анализ полноты и достоверности размещенных в отношении каждого объекта жилищного фонда сведений о лицах, предоставляющих жилищно-коммунальные услуги, лицах, осуществляющих управление многоквартирными домами, информации.\"\n",
      "\n",
      "3194 3144,2021-04-02,7727078570,1037739060116,\"Выборочная проверка полноты и достоверности размещенной в ГИС ЖКХ информации показала, что ЖСК «ЗОЛОТО» не в полном объеме размещена в ГИС ЖКХ информация об ЖСК «ЗОЛОТО», об объектах государственного учета жилищного фонда, находящихся в управлении ЖСК «ЗОЛОТО», включая их технические характеристики и состояние, информация о договорах, в соответствии с которыми собственники помещений в многоквартирном доме, не являющиеся членами ЖСК «ЗОЛОТО», вносят плату за содержание жилого помещения и плату за коммунальные услуги, о выбранном собственниками помещений способе формирования фонда капитального ремонта в многоквартирном доме , а также документы, подтверждающие принятие соответствующих решений\",,\"Сведения об ознакомлении или отказе ознакомления с актом КНМ руководителя, иного должностного лица или уполномоченного представителя юридического лица, индивидуального предпринимателя, его уполномоченного представителя, присутствовавших при проведении КНМ, о наличии их подписей или об отказе от совершения подписипредписание\",\"a) анализ соответствия размещенной в государственной информационной системе жилищно-коммунального хозяйства информации об объектах жилищного фонда, находящихся в управлении, фактической категории объектов жилищного фонда 6) анализ полноты и достоверности размещенных в отношении каждого объекта жилищного фонда сведений о лицах, предоставляющих жилищно-коммунальные услуги, лицах, осуществляющих управление многоквартирными домами, информации.\"\n",
      "\n",
      "3195 3145,2021-04-02,7713059465,1027700438182,\"Выборочная проверка полноты и достоверности размещенной в ГИС ЖКХ информации показала, что ЖСК «БУТОВО-24» не в полном объеме размещена в ГИС ЖКХ информация об ОСЖ, об объектах государственного учета жилищного фонда, находящихся в управлении ОСЖ, включая их технические характеристики и состояние, информация о договорах, в соответствии с которыми собственники помещений в многоквартирном доме, не являющиеся членами ОСЖ, вносят плату за содержание жилого помещения и плату за коммунальные услуги, о выбранном собственниками помещений способе формирования фонда капитального ремонта в многоквартирном доме , а также документы, подтверждающие принятие соответствующих решений\",,\"Сведения об ознакомлении или отказе ознакомления с актом КНМ руководителя, иного должностного лица или уполномоченного представителя юридического лица, индивидуального предпринимателя, его уполномоченного представителя, присутствовавших при проведении КНМ, о наличии их подписей или об отказе от совершения подписипредписание\",\"a) анализ соответствия размещенной в государственной информационной системе жилищно-коммунального хозяйства информации об объектах жилищного фонда, находящихся в управлении, фактической категории объектов жилищного фонда 6) анализ полноты и достоверности размещенных в отношении каждого объекта жилищного фонда сведений о лицах, предоставляющих жилищно-коммунальные услуги, лицах, осуществляющих управление многоквартирными домами, информации.\"\n",
      "\n",
      "3196 3146,2021-04-02,7727099242,1037739024597,\"Выборочная проверка полноты и достоверности размещенной в ГИС ЖКХ информации показала, что ЖСК «ЗЮЗИНО - МГУ» не в полном объеме размещена в ГИС ЖКХ информация об ЖСК «ЗЮЗИНО - МГУ», об объектах государственного учета жилищного фонда, находящихся в управлении ЖСК «ЗЮЗИНО - МГУ», включая их технические характеристики и состояние, информация о договорах, в соответствии с которыми собственники помещений в многоквартирном доме, не являющиеся членами ЖСК «ЗЮЗИНО - МГУ», вносят плату за содержание жилого помещения и плату за коммунальные услуги, о выбранном собственниками помещений способе формирования фонда капитального ремонта в многоквартирном доме , а также документы, подтверждающие принятие соответствующих решений\",,\"Сведения об ознакомлении или отказе ознакомления с актом КНМ руководителя, иного должностного лица или уполномоченного представителя юридического лица, индивидуального предпринимателя, его уполномоченного представителя, присутствовавших при проведении КНМ, о наличии их подписей или об отказе от совершения подписипредписание\",\"a) анализ соответствия размещенной в государственной информационной системе жилищно-коммунального хозяйства информации об объектах жилищного фонда, находящихся в управлении, фактической категории объектов жилищного фонда 6) анализ полноты и достоверности размещенных в отношении каждого объекта жилищного фонда сведений о лицах, предоставляющих жилищно-коммунальные услуги, лицах, осуществляющих управление многоквартирными домами, информации.\"\n",
      "\n"
     ]
    },
    {
     "name": "stderr",
     "output_type": "stream",
     "text": [
      "\n"
     ]
    }
   ],
   "source": [
    "with open(\"prokuror_2.csv\", 'r') as f:\n",
    "    for i in tqdm(range(3200)):\n",
    "        line = f.readline()\n",
    "        if (3191-5)<=i and i<=(3191+5):\n",
    "            print(i, line)"
   ]
  },
  {
   "cell_type": "code",
   "execution_count": 122,
   "metadata": {},
   "outputs": [
    {
     "data": {
      "text/plain": [
       "2239"
      ]
     },
     "execution_count": 122,
     "metadata": {},
     "output_type": "execute_result"
    }
   ],
   "source": [
    "len(\"9100131 На информационном сайте управляющей организации в сети Интернет , раскрытие информации, осуществляется не по формам, утвержденным приказом от 22.12.2014 №882/пр Министерства строительства и жилищно-коммунального хозяйства Российской Федерации «Об утверждении форм раскрытия информации организациями, осуществляющими деятельность в сфере управления многоквартирными домами». Информация, представленная на сайте не соответствует ни одной из 12 форм, утвержденных Министерством строительства и жилищно-коммунального хозяйства РФ.: В результате внеплановой  документарной проверки за соблюдением требований к порядку размещения информации в ГИС ЖКХ, предусмотренной Приказом Минкомсвязи России № 74, Минстроя России № 114/пр от 29.02.2016«Об утверждении состава, сроков и периодичности размещения информации поставщиками информации в государственной информационной системе жилищно-коммунального хозяйства» ( далее-приказа , в рамках контроля за  размещением информации в ГИС ЖКХ, (предусмотренной пунктами 1, 2, 3.1, 11.1, 14 раздела 10 Приказа) 14.04.2021 в 12:30 установлено, что ЖСК «Юность» осуществляет деятельность по управлению многоквартирными домами расположенными на территории Наро-Фоминского г.о. Московской области по адресу: ул. Латышская, д. 10  на основании протокола собрания собственников МКД и устава. Согласно ч. 18 ст. 7 Федерального закона от 21.07.2014  «О государственной информационной системе жилищно-коммунального хозяйства» (далее - Закон) лица, осуществляющие деятельность по оказанию услуг по управлению многоквартирными домами, по договорам оказания услуг по содержанию и (или) выполнению работ по ремонту общего имущества в многоквартирных домах, по предоставлению коммунальных услуг, размещают в системе информацию, предусмотренную пунктами 1, 2, 6, 7, 21 - 25, 28 - 33, 35 - 40 части 1 статьи 6 Закона.  Согласно п. 11 ч. 3 ст. 7 Закона, официальным сайтом государственной информационной системы жилищно-коммунального хозяйства в сети «интернет» является www.dom.gosuslugi.ru далее – сайт.   При провПостановление Правительства РФ от 23 сентября 2010 года №731  Об утверждении стандарта  раскрытия информации организациями, осуществляющими деятельность в сфере управления многоквартирными домами  п. 3\")"
   ]
  },
  {
   "cell_type": "code",
   "execution_count": null,
   "metadata": {},
   "outputs": [],
   "source": []
  }
 ],
 "metadata": {
  "kernelspec": {
   "display_name": "Python [conda env:jupyterbase]",
   "language": "python",
   "name": "conda-env-jupyterbase-py"
  },
  "language_info": {
   "codemirror_mode": {
    "name": "ipython",
    "version": 3
   },
   "file_extension": ".py",
   "mimetype": "text/x-python",
   "name": "python",
   "nbconvert_exporter": "python",
   "pygments_lexer": "ipython3",
   "version": "3.8.8"
  }
 },
 "nbformat": 4,
 "nbformat_minor": 4
}
