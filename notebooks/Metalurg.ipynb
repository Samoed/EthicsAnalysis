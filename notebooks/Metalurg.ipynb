{
 "cells": [
  {
   "cell_type": "code",
   "execution_count": 36,
   "metadata": {},
   "outputs": [],
   "source": [
    "from tqdm import tqdm\n",
    "import pandas as pd\n",
    "import numpy as np\n",
    "import os\n",
    "import re\n",
    "import encodings"
   ]
  },
  {
   "cell_type": "code",
   "execution_count": 26,
   "metadata": {},
   "outputs": [],
   "source": [
    "number_pattern = re.compile('\\w*\\d+\\w*')\n",
    "article_pattern = re.compile('\\w*[d+,-.]\\w+')"
   ]
  },
  {
   "cell_type": "code",
   "execution_count": 27,
   "metadata": {},
   "outputs": [],
   "source": [
    "df = pd.read_csv(\"/home/rsolomatin/metalurgi/companies_info_v2.csv\", index_col=0)\n",
    "df[\"ИНН\"] = df[\"ИНН\"].astype(str)"
   ]
  },
  {
   "cell_type": "code",
   "execution_count": 28,
   "metadata": {},
   "outputs": [
    {
     "data": {
      "text/html": [
       "<div>\n",
       "<style scoped>\n",
       "    .dataframe tbody tr th:only-of-type {\n",
       "        vertical-align: middle;\n",
       "    }\n",
       "\n",
       "    .dataframe tbody tr th {\n",
       "        vertical-align: top;\n",
       "    }\n",
       "\n",
       "    .dataframe thead th {\n",
       "        text-align: right;\n",
       "    }\n",
       "</style>\n",
       "<table border=\"1\" class=\"dataframe\">\n",
       "  <thead>\n",
       "    <tr style=\"text-align: right;\">\n",
       "      <th></th>\n",
       "      <th>Индекс</th>\n",
       "      <th>Название</th>\n",
       "      <th>ИНН</th>\n",
       "      <th>ОГРН</th>\n",
       "      <th>Путь</th>\n",
       "      <th>ВК</th>\n",
       "      <th>Статус</th>\n",
       "      <th>Время</th>\n",
       "    </tr>\n",
       "  </thead>\n",
       "  <tbody>\n",
       "    <tr>\n",
       "      <th>0</th>\n",
       "      <td>1</td>\n",
       "      <td>ЕВРОКОЛОР, ООО</td>\n",
       "      <td>352526947648.0</td>\n",
       "      <td>1153525047092</td>\n",
       "      <td>Sber_parser/1-101/data/ЕВРОКОЛОР, ООО_0</td>\n",
       "      <td>NaN</td>\n",
       "      <td>-1</td>\n",
       "      <td>0.000000</td>\n",
       "    </tr>\n",
       "    <tr>\n",
       "      <th>1</th>\n",
       "      <td>2</td>\n",
       "      <td>ВЮМ, ООО</td>\n",
       "      <td>772503503336.0</td>\n",
       "      <td>1147746090887</td>\n",
       "      <td>Sber_parser/1-101/data/ВЮМ, ООО_0</td>\n",
       "      <td>NaN</td>\n",
       "      <td>1</td>\n",
       "      <td>1.529426</td>\n",
       "    </tr>\n",
       "    <tr>\n",
       "      <th>2</th>\n",
       "      <td>3</td>\n",
       "      <td>НОПРОФ, ООО</td>\n",
       "      <td>781110795023.0</td>\n",
       "      <td>1037825017340</td>\n",
       "      <td>Sber_parser/1-101/data/НОПРОФ, ООО_0</td>\n",
       "      <td>NaN</td>\n",
       "      <td>1</td>\n",
       "      <td>5.654249</td>\n",
       "    </tr>\n",
       "    <tr>\n",
       "      <th>3</th>\n",
       "      <td>4</td>\n",
       "      <td>СТАЙЕР, ООО МПК</td>\n",
       "      <td>741111765876.0</td>\n",
       "      <td>1117411000882</td>\n",
       "      <td>Sber_parser/1-101/data/СТАЙЕР, ООО МПК_0</td>\n",
       "      <td>NaN</td>\n",
       "      <td>-1</td>\n",
       "      <td>0.000000</td>\n",
       "    </tr>\n",
       "    <tr>\n",
       "      <th>4</th>\n",
       "      <td>5</td>\n",
       "      <td>ЗАМОК, ООО</td>\n",
       "      <td>590400687580.0</td>\n",
       "      <td>1105904005833</td>\n",
       "      <td>Sber_parser/1-101/data/ЗАМОК, ООО_0</td>\n",
       "      <td>NaN</td>\n",
       "      <td>-1</td>\n",
       "      <td>0.000000</td>\n",
       "    </tr>\n",
       "  </tbody>\n",
       "</table>\n",
       "</div>"
      ],
      "text/plain": [
       "   Индекс         Название             ИНН           ОГРН  \\\n",
       "0       1   ЕВРОКОЛОР, ООО  352526947648.0  1153525047092   \n",
       "1       2         ВЮМ, ООО  772503503336.0  1147746090887   \n",
       "2       3      НОПРОФ, ООО  781110795023.0  1037825017340   \n",
       "3       4  СТАЙЕР, ООО МПК  741111765876.0  1117411000882   \n",
       "4       5       ЗАМОК, ООО  590400687580.0  1105904005833   \n",
       "\n",
       "                                       Путь   ВК  Статус     Время  \n",
       "0   Sber_parser/1-101/data/ЕВРОКОЛОР, ООО_0  NaN      -1  0.000000  \n",
       "1         Sber_parser/1-101/data/ВЮМ, ООО_0  NaN       1  1.529426  \n",
       "2      Sber_parser/1-101/data/НОПРОФ, ООО_0  NaN       1  5.654249  \n",
       "3  Sber_parser/1-101/data/СТАЙЕР, ООО МПК_0  NaN      -1  0.000000  \n",
       "4       Sber_parser/1-101/data/ЗАМОК, ООО_0  NaN      -1  0.000000  "
      ]
     },
     "execution_count": 28,
     "metadata": {},
     "output_type": "execute_result"
    }
   ],
   "source": [
    "df.head()"
   ]
  },
  {
   "cell_type": "code",
   "execution_count": 5,
   "metadata": {},
   "outputs": [
    {
     "name": "stderr",
     "output_type": "stream",
     "text": [
      "801-901: 100%|██████████| 42/42 [00:04<00:00,  8.48it/s]\n",
      "6401-6601: 100%|██████████| 71/71 [00:16<00:00,  4.37it/s]\n",
      "4001-4201: 100%|██████████| 88/88 [00:22<00:00,  3.86it/s]\n",
      "6201-6401: 100%|██████████| 78/78 [00:08<00:00,  9.33it/s]\n",
      "5201-5401: 100%|██████████| 78/78 [00:12<00:00,  6.24it/s]\n",
      "3401-3601: 100%|██████████| 102/102 [00:26<00:00,  3.92it/s]\n",
      "1201-1401: 100%|██████████| 96/96 [00:22<00:00,  4.32it/s]\n",
      "1-101: 100%|██████████| 48/48 [00:20<00:00,  2.33it/s]\n",
      "1001-1201: 100%|██████████| 105/105 [00:54<00:00,  1.94it/s]\n",
      "201-301: 100%|██████████| 34/34 [00:05<00:00,  6.13it/s]\n",
      "4801-5001: 100%|██████████| 75/75 [00:10<00:00,  7.18it/s]\n",
      "5401-5601: 100%|██████████| 78/78 [00:17<00:00,  4.37it/s]\n",
      "1601-1801: 100%|██████████| 86/86 [00:24<00:00,  3.57it/s]\n",
      "2401-2601: 100%|██████████| 88/88 [00:27<00:00,  3.25it/s]\n",
      "4201-4401: 100%|██████████| 82/82 [01:03<00:00,  1.28it/s]\n",
      "401-501: 100%|██████████| 35/35 [00:14<00:00,  2.39it/s]\n",
      "5001-5201: 100%|██████████| 85/85 [00:23<00:00,  3.63it/s]\n",
      "6801-7001: 100%|██████████| 14/14 [00:01<00:00,  9.19it/s]\n",
      "901-1001: 100%|██████████| 47/47 [00:22<00:00,  2.05it/s]\n",
      "2201-2401: 100%|██████████| 97/97 [00:31<00:00,  3.05it/s]\n",
      "4401-4601: 100%|██████████| 89/89 [00:27<00:00,  3.24it/s]\n",
      "2801-3001: 100%|██████████| 94/94 [00:16<00:00,  5.77it/s]\n",
      "501-601: 100%|██████████| 41/41 [00:09<00:00,  4.22it/s]\n",
      "2601-2801: 100%|██████████| 83/83 [00:28<00:00,  2.96it/s]\n",
      "601-701: 100%|██████████| 49/49 [00:08<00:00,  5.58it/s]\n",
      "3001-3201: 100%|██████████| 105/105 [00:26<00:00,  3.89it/s]\n",
      "2001-2201: 100%|██████████| 81/81 [00:26<00:00,  3.03it/s]\n",
      "101-201: 100%|██████████| 37/37 [00:05<00:00,  7.11it/s]\n",
      "3601-3801: 100%|██████████| 91/91 [00:31<00:00,  2.85it/s]\n",
      "701-801: 100%|██████████| 44/44 [00:26<00:00,  1.65it/s]\n",
      "6001-6201: 100%|██████████| 86/86 [00:42<00:00,  2.01it/s]\n",
      "3201-3401: 100%|██████████| 93/93 [00:39<00:00,  2.36it/s]\n",
      "5601-5801: 100%|██████████| 86/86 [00:18<00:00,  4.61it/s]\n",
      "6601-6801: 100%|██████████| 92/92 [00:24<00:00,  3.72it/s]\n",
      "301-401: 100%|██████████| 35/35 [00:14<00:00,  2.37it/s]\n",
      "1801-2001: 100%|██████████| 89/89 [00:20<00:00,  4.28it/s]\n",
      "5801-6001: 100%|██████████| 90/90 [00:33<00:00,  2.69it/s]\n",
      "4601-4801: 100%|██████████| 94/94 [00:22<00:00,  4.18it/s]\n",
      "1401-1601: 100%|██████████| 79/79 [00:28<00:00,  2.81it/s]\n",
      "3801-4001: 100%|██████████| 93/93 [00:37<00:00,  2.45it/s]"
     ]
    },
    {
     "name": "stdout",
     "output_type": "stream",
     "text": [
      "CPU times: user 12min 20s, sys: 16.6 s, total: 12min 37s\n",
      "Wall time: 15min 22s\n"
     ]
    },
    {
     "name": "stderr",
     "output_type": "stream",
     "text": [
      "\n"
     ]
    }
   ],
   "source": [
    "%%time\n",
    "\n",
    "path = \"/home/rsolomatin/metalurgi/Sber_parser\"\n",
    "path_inn = {path:inn for path, inn in zip(df[\"Путь\"], df[\"ИНН\"])}\n",
    "data = []\n",
    "for parent_directory in (os.listdir(path)):\n",
    "    main_dir = os.path.join(path, f\"{parent_directory}/data\")\n",
    "    for directory in tqdm(os.listdir(main_dir), desc=parent_directory):\n",
    "        df_path = (os.path.join(\"Sber_parser\", parent_directory, \"data\", directory))\n",
    "        inn = path_inn.get(df_path, None)\n",
    "        subdir = os.path.join(main_dir, directory)\n",
    "        for file in os.listdir(subdir):\n",
    "            file_path = os.path.join(subdir, file)\n",
    "            if not os.path.isfile(file_path):\n",
    "                continue\n",
    "            with open(file_path) as f:\n",
    "                lines = f.readlines()\n",
    "                for i, line in enumerate(lines):\n",
    "                    words = line.split()\n",
    "                    if len(words) <= 3:\n",
    "                        continue\n",
    "                    final_line = []\n",
    "                    for word in words:\n",
    "                        word = number_pattern.sub(r'', word)\n",
    "                        word = article_pattern.sub(r'', word)\n",
    "                        final_line.append(word)\n",
    "                    data.append({\"path\":file_path, \"inn\": inn, \"sent_num\":i, \"line\": \" \".join(final_line)})"
   ]
  },
  {
   "cell_type": "code",
   "execution_count": 6,
   "metadata": {},
   "outputs": [
    {
     "data": {
      "text/plain": [
       "27415533"
      ]
     },
     "execution_count": 6,
     "metadata": {},
     "output_type": "execute_result"
    }
   ],
   "source": [
    "len(data)"
   ]
  },
  {
   "cell_type": "code",
   "execution_count": 7,
   "metadata": {},
   "outputs": [
    {
     "name": "stdout",
     "output_type": "stream",
     "text": [
      "CPU times: user 2min 5s, sys: 8.7 s, total: 2min 14s\n",
      "Wall time: 3min 2s\n"
     ]
    }
   ],
   "source": [
    "%%time\n",
    "pd.DataFrame(data).to_csv(\"parsed_metalurgs.csv\", index=False)"
   ]
  },
  {
   "cell_type": "code",
   "execution_count": 5,
   "metadata": {},
   "outputs": [
    {
     "name": "stderr",
     "output_type": "stream",
     "text": [
      "801-901: 100%|██████████| 42/42 [00:00<00:00, 101827.03it/s]\n",
      "6401-6601: 100%|██████████| 71/71 [00:00<00:00, 123056.03it/s]\n",
      "4001-4201: 100%|██████████| 88/88 [00:00<00:00, 134315.41it/s]\n",
      "6201-6401: 100%|██████████| 78/78 [00:00<00:00, 118234.81it/s]\n",
      "5201-5401: 100%|██████████| 78/78 [00:00<00:00, 120766.23it/s]\n",
      "3401-3601: 100%|██████████| 102/102 [00:00<00:00, 121677.76it/s]\n",
      "1201-1401: 100%|██████████| 96/96 [00:00<00:00, 131029.35it/s]\n",
      "1-101: 100%|██████████| 48/48 [00:00<00:00, 113936.95it/s]\n",
      "1001-1201: 100%|██████████| 105/105 [00:00<00:00, 117975.33it/s]\n",
      "201-301: 100%|██████████| 34/34 [00:00<00:00, 94944.30it/s]\n",
      "4801-5001: 100%|██████████| 75/75 [00:00<00:00, 122259.15it/s]\n",
      "5401-5601: 100%|██████████| 78/78 [00:00<00:00, 59299.57it/s]\n",
      "1601-1801: 100%|██████████| 86/86 [00:00<00:00, 121861.54it/s]\n",
      "2401-2601: 100%|██████████| 88/88 [00:00<00:00, 117998.32it/s]\n",
      "4201-4401: 100%|██████████| 82/82 [00:00<00:00, 121617.02it/s]\n",
      "401-501: 100%|██████████| 35/35 [00:00<00:00, 104040.14it/s]\n",
      "5001-5201: 100%|██████████| 85/85 [00:00<00:00, 118680.37it/s]\n",
      "6801-7001: 100%|██████████| 14/14 [00:00<00:00, 66576.25it/s]\n",
      "901-1001: 100%|██████████| 47/47 [00:00<00:00, 100067.15it/s]\n",
      "2201-2401: 100%|██████████| 97/97 [00:00<00:00, 67819.22it/s]\n",
      "4401-4601: 100%|██████████| 89/89 [00:00<00:00, 119110.74it/s]\n",
      "2801-3001: 100%|██████████| 94/94 [00:00<00:00, 127759.10it/s]\n",
      "501-601: 100%|██████████| 41/41 [00:00<00:00, 110589.37it/s]\n",
      "2601-2801: 100%|██████████| 83/83 [00:00<00:00, 113953.27it/s]\n",
      "601-701: 100%|██████████| 49/49 [00:00<00:00, 105775.04it/s]\n",
      "3001-3201: 100%|██████████| 105/105 [00:00<00:00, 123086.06it/s]\n",
      "2001-2201: 100%|██████████| 81/81 [00:00<00:00, 125133.93it/s]\n",
      "101-201: 100%|██████████| 37/37 [00:00<00:00, 36344.09it/s]\n",
      "3601-3801: 100%|██████████| 91/91 [00:00<00:00, 125760.02it/s]\n",
      "701-801: 100%|██████████| 44/44 [00:00<00:00, 112393.04it/s]\n",
      "6001-6201: 100%|██████████| 86/86 [00:00<00:00, 63182.72it/s]\n",
      "3201-3401: 100%|██████████| 93/93 [00:00<00:00, 121177.47it/s]\n",
      "5601-5801: 100%|██████████| 86/86 [00:00<00:00, 114875.84it/s]\n",
      "6601-6801: 100%|██████████| 92/92 [00:00<00:00, 127604.49it/s]\n",
      "301-401: 100%|██████████| 35/35 [00:00<00:00, 104857.60it/s]\n",
      "1801-2001: 100%|██████████| 89/89 [00:00<00:00, 118505.73it/s]\n",
      "5801-6001: 100%|██████████| 90/90 [00:00<00:00, 119799.23it/s]\n",
      "4601-4801: 100%|██████████| 94/94 [00:00<00:00, 126569.69it/s]\n",
      "1401-1601: 100%|██████████| 79/79 [00:00<00:00, 116263.16it/s]\n",
      "3801-4001: 100%|██████████| 93/93 [00:00<00:00, 129763.90it/s]\n"
     ]
    }
   ],
   "source": [
    "path = \"/home/rsolomatin/metalurgi/Sber_parser\"\n",
    "path_inn = {path:inn for path, inn in zip(df[\"Путь\"], df[\"ИНН\"])}\n",
    "for parent_directory in (os.listdir(path)):\n",
    "    main_dir = os.path.join(path, f\"{parent_directory}/data\")\n",
    "    for directory in tqdm(os.listdir(main_dir), desc=parent_directory):\n",
    "        df_path = (os.path.join(\"Sber_parser\", parent_directory, \"data\", directory))\n",
    "        inn = path_inn[df_path]\n",
    "        "
   ]
  },
  {
   "cell_type": "code",
   "execution_count": 15,
   "metadata": {},
   "outputs": [],
   "source": [
    "%%time\n",
    "test = pd.read_csv(\"parsed_metalurgs.csv\")"
   ]
  },
  {
   "cell_type": "code",
   "execution_count": 16,
   "metadata": {},
   "outputs": [
    {
     "name": "stdout",
     "output_type": "stream",
     "text": [
      "<class 'pandas.core.frame.DataFrame'>\n",
      "RangeIndex: 27415533 entries, 0 to 27415532\n",
      "Data columns (total 4 columns):\n",
      " #   Column    Dtype  \n",
      "---  ------    -----  \n",
      " 0   path      object \n",
      " 1   inn       float64\n",
      " 2   sent_num  int64  \n",
      " 3   line      object \n",
      "dtypes: float64(1), int64(1), object(2)\n",
      "memory usage: 836.7+ MB\n"
     ]
    }
   ],
   "source": [
    "test.info()"
   ]
  },
  {
   "cell_type": "code",
   "execution_count": 17,
   "metadata": {},
   "outputs": [
    {
     "data": {
      "text/html": [
       "<div>\n",
       "<style scoped>\n",
       "    .dataframe tbody tr th:only-of-type {\n",
       "        vertical-align: middle;\n",
       "    }\n",
       "\n",
       "    .dataframe tbody tr th {\n",
       "        vertical-align: top;\n",
       "    }\n",
       "\n",
       "    .dataframe thead th {\n",
       "        text-align: right;\n",
       "    }\n",
       "</style>\n",
       "<table border=\"1\" class=\"dataframe\">\n",
       "  <thead>\n",
       "    <tr style=\"text-align: right;\">\n",
       "      <th></th>\n",
       "      <th>inn</th>\n",
       "      <th>sent_num</th>\n",
       "    </tr>\n",
       "  </thead>\n",
       "  <tbody>\n",
       "    <tr>\n",
       "      <th>count</th>\n",
       "      <td>2.698177e+07</td>\n",
       "      <td>2.741553e+07</td>\n",
       "    </tr>\n",
       "    <tr>\n",
       "      <th>mean</th>\n",
       "      <td>5.679129e+11</td>\n",
       "      <td>4.974739e+02</td>\n",
       "    </tr>\n",
       "    <tr>\n",
       "      <th>std</th>\n",
       "      <td>2.036375e+11</td>\n",
       "      <td>4.010993e+03</td>\n",
       "    </tr>\n",
       "    <tr>\n",
       "      <th>min</th>\n",
       "      <td>1.030096e+10</td>\n",
       "      <td>0.000000e+00</td>\n",
       "    </tr>\n",
       "    <tr>\n",
       "      <th>25%</th>\n",
       "      <td>4.704210e+11</td>\n",
       "      <td>8.200000e+01</td>\n",
       "    </tr>\n",
       "    <tr>\n",
       "      <th>50%</th>\n",
       "      <td>6.164778e+11</td>\n",
       "      <td>1.900000e+02</td>\n",
       "    </tr>\n",
       "    <tr>\n",
       "      <th>75%</th>\n",
       "      <td>7.709745e+11</td>\n",
       "      <td>4.580000e+02</td>\n",
       "    </tr>\n",
       "    <tr>\n",
       "      <th>max</th>\n",
       "      <td>9.108065e+11</td>\n",
       "      <td>2.850930e+05</td>\n",
       "    </tr>\n",
       "  </tbody>\n",
       "</table>\n",
       "</div>"
      ],
      "text/plain": [
       "                inn      sent_num\n",
       "count  2.698177e+07  2.741553e+07\n",
       "mean   5.679129e+11  4.974739e+02\n",
       "std    2.036375e+11  4.010993e+03\n",
       "min    1.030096e+10  0.000000e+00\n",
       "25%    4.704210e+11  8.200000e+01\n",
       "50%    6.164778e+11  1.900000e+02\n",
       "75%    7.709745e+11  4.580000e+02\n",
       "max    9.108065e+11  2.850930e+05"
      ]
     },
     "execution_count": 17,
     "metadata": {},
     "output_type": "execute_result"
    }
   ],
   "source": [
    "test.describe()"
   ]
  },
  {
   "cell_type": "code",
   "execution_count": 22,
   "metadata": {},
   "outputs": [
    {
     "data": {
      "text/plain": [
       "'/home/rsolomatin/metalurgi/Sber_parser/6401-6601/data/ОМГ РЫБИНСК, ООО_1077610004108_0/page_4.txt'"
      ]
     },
     "execution_count": 22,
     "metadata": {},
     "output_type": "execute_result"
    }
   ],
   "source": [
    "test[][\"path\"].iloc[0]"
   ]
  },
  {
   "cell_type": "code",
   "execution_count": 23,
   "metadata": {},
   "outputs": [
    {
     "data": {
      "text/plain": [
       "433764"
      ]
     },
     "execution_count": 23,
     "metadata": {},
     "output_type": "execute_result"
    }
   ],
   "source": [
    "test[\"inn\"].isna().sum()"
   ]
  },
  {
   "cell_type": "code",
   "execution_count": 24,
   "metadata": {},
   "outputs": [
    {
     "data": {
      "text/plain": [
       "(27415533,)"
      ]
     },
     "execution_count": 24,
     "metadata": {},
     "output_type": "execute_result"
    }
   ],
   "source": [
    "test[\"inn\"].shape"
   ]
  },
  {
   "cell_type": "code",
   "execution_count": 39,
   "metadata": {},
   "outputs": [
    {
     "name": "stderr",
     "output_type": "stream",
     "text": [
      "801-901: 100%|██████████| 42/42 [00:00<00:00, 307435.90it/s]\n",
      "6401-6601: 100%|██████████| 71/71 [00:00<00:00, 327247.89it/s]\n"
     ]
    },
    {
     "name": "stdout",
     "output_type": "stream",
     "text": [
      "Sber_parser/6401-6601/data/ОМГ РЫБИНСК, ООО_1077610004108_0\n"
     ]
    },
    {
     "name": "stderr",
     "output_type": "stream",
     "text": [
      "4001-4201: 100%|██████████| 88/88 [00:00<00:00, 300813.98it/s]\n"
     ]
    },
    {
     "name": "stdout",
     "output_type": "stream",
     "text": [
      "Sber_parser/4001-4201/data/УРАЛЭЛЕКТРОМЕДЬ, АО_1026600726657_0\n",
      "Sber_parser/4001-4201/data/УРАЛЭЛЕКТРОМЕДЬ, АО_1026600726657_1\n",
      "Sber_parser/4001-4201/data/КЗОЦМ, АО_1024301313376_0\n",
      "Sber_parser/4001-4201/data/СВЯТОГОР, АО_1026601213980_0\n"
     ]
    },
    {
     "name": "stderr",
     "output_type": "stream",
     "text": [
      "6201-6401: 100%|██████████| 78/78 [00:00<00:00, 115766.35it/s]\n",
      "5201-5401: 100%|██████████| 78/78 [00:00<00:00, 105228.60it/s]\n",
      "3401-3601: 100%|██████████| 102/102 [00:00<00:00, 253147.34it/s]\n"
     ]
    },
    {
     "name": "stdout",
     "output_type": "stream",
     "text": [
      "Sber_parser/3401-3601/data/БМК, АО_1020201623716_1\n"
     ]
    },
    {
     "name": "stderr",
     "output_type": "stream",
     "text": [
      "1201-1401: 100%|██████████| 96/96 [00:00<00:00, 268256.62it/s]\n",
      "1-101: 100%|██████████| 48/48 [00:00<00:00, 230087.53it/s]\n",
      "1001-1201: 100%|██████████| 105/105 [00:00<00:00, 211325.30it/s]\n"
     ]
    },
    {
     "name": "stdout",
     "output_type": "stream",
     "text": [
      "Sber_parser/1001-1201/data/СЕВЕРСТАЛЬ СТАЛЬНЫЕ РЕШЕНИЯ, АО_1073536001450_0\n",
      "Sber_parser/1001-1201/data/ЮНОНА-2, ООО_1022101137662_0\n"
     ]
    },
    {
     "name": "stderr",
     "output_type": "stream",
     "text": [
      "201-301: 100%|██████████| 34/34 [00:00<00:00, 145963.50it/s]\n"
     ]
    },
    {
     "name": "stdout",
     "output_type": "stream",
     "text": [
      "Sber_parser/201-301/data/ЕВРАЗ ВАНАДИЙ ТУЛА, АО_0\n",
      "Sber_parser/201-301/data/РУСАЛ-САЯНСКАЯ ФОЛЬГА, ООО_1025001097087_0\n"
     ]
    },
    {
     "name": "stderr",
     "output_type": "stream",
     "text": [
      "4801-5001: 100%|██████████| 75/75 [00:00<00:00, 222312.93it/s]\n",
      "5401-5601: 100%|██████████| 78/78 [00:00<00:00, 186732.71it/s]\n"
     ]
    },
    {
     "name": "stdout",
     "output_type": "stream",
     "text": [
      "Sber_parser/5401-5601/data/ПОЛИМАГНИТ, ООО_1067746543831_0\n",
      "Sber_parser/5401-5601/data/СИ-ПИ-ЭС ТЕХНОЛОДЖИ, ООО_1126312006864_0\n"
     ]
    },
    {
     "name": "stderr",
     "output_type": "stream",
     "text": [
      "1601-1801: 100%|██████████| 86/86 [00:00<00:00, 202760.06it/s]\n"
     ]
    },
    {
     "name": "stdout",
     "output_type": "stream",
     "text": [
      "Sber_parser/1601-1801/data/ГОФРОСТАЛЬ, ЗАО_1035005907639_0\n",
      "Sber_parser/1601-1801/data/ССК, ООО_1202200001420_0\n"
     ]
    },
    {
     "name": "stderr",
     "output_type": "stream",
     "text": [
      "2401-2601: 100%|██████████| 88/88 [00:00<00:00, 166786.60it/s]\n"
     ]
    },
    {
     "name": "stdout",
     "output_type": "stream",
     "text": [
      "Sber_parser/2401-2601/data/ЧЦЗ, АО_1027402551880_0\n",
      "Sber_parser/2401-2601/data/НАДЕЖДИНСКИЙ МЕТАЛЛУРГИЧЕСКИЙ ЗАВОД, ПАО_1026601814799_1\n",
      "Sber_parser/2401-2601/data/ТАГМЕТ, АО_1026102572473_1\n",
      "Sber_parser/2401-2601/data/ИЖСТАЛЬ, ПАО_1021801435325_1\n",
      "Sber_parser/2401-2601/data/ИЖСТАЛЬ, ПАО_1021801435325_2\n",
      "Sber_parser/2401-2601/data/ПНТЗ, АО_1026601503840_0\n",
      "Sber_parser/2401-2601/data/СИНТЗ, АО_1026600931686_1\n",
      "Sber_parser/2401-2601/data/ЗАВОД УНИВЕРСАЛ, АО_1024201820653_0\n"
     ]
    },
    {
     "name": "stderr",
     "output_type": "stream",
     "text": [
      "4201-4401: 100%|██████████| 82/82 [00:00<00:00, 225974.33it/s]\n",
      "401-501: 100%|██████████| 35/35 [00:00<00:00, 189664.91it/s]\n",
      "5001-5201: 100%|██████████| 85/85 [00:00<00:00, 213099.73it/s]\n",
      "6801-7001: 100%|██████████| 14/14 [00:00<00:00, 133152.51it/s]\n",
      "901-1001: 100%|██████████| 47/47 [00:00<00:00, 205132.45it/s]\n",
      "2201-2401: 100%|██████████| 97/97 [00:00<00:00, 170514.45it/s]\n"
     ]
    },
    {
     "name": "stdout",
     "output_type": "stream",
     "text": [
      "Sber_parser/2201-2401/data/ПК ЛАНДСКРОНА, ООО_1037800044314_0\n",
      "Sber_parser/2201-2401/data/ВМЗ, АО_1025201632610_1\n",
      "Sber_parser/2201-2401/data/ОРСКИЙ МАШИНОСТРОИТЕЛЬНЫЙ ЗАВОД, АО_1025601999400_0\n",
      "Sber_parser/2201-2401/data/ЗАВОД ДЕМИДОВСКИЙ, ЗАО_1026600929365_0\n",
      "Sber_parser/2201-2401/data/ЧТПЗ, АО_1027402694186_0\n",
      "Sber_parser/2201-2401/data/ВМЗ, АО_1025201632610_0\n",
      "Sber_parser/2201-2401/data/ВТЗ, АО_1023401997101_0\n",
      "Sber_parser/2201-2401/data/СТЗ, АО_1026601606118_2\n"
     ]
    },
    {
     "name": "stderr",
     "output_type": "stream",
     "text": [
      "4401-4601: 100%|██████████| 89/89 [00:00<00:00, 229295.49it/s]\n"
     ]
    },
    {
     "name": "stdout",
     "output_type": "stream",
     "text": [
      "Sber_parser/4401-4601/data/ОСПАЗ, ООО_1163525082544_0\n",
      "Sber_parser/4401-4601/data/СЕВЕРСТАЛЬ КАНАТЫ, АО_1143528011000_0\n"
     ]
    },
    {
     "name": "stderr",
     "output_type": "stream",
     "text": [
      "2801-3001: 100%|██████████| 94/94 [00:00<00:00, 245494.75it/s]\n",
      "501-601: 100%|██████████| 41/41 [00:00<00:00, 167772.16it/s]\n"
     ]
    },
    {
     "name": "stdout",
     "output_type": "stream",
     "text": [
      "Sber_parser/501-601/data/МОДУЛЬ, ООО_1065834000231_0\n",
      "Sber_parser/501-601/data/МОДУЛЬ, ООО_1065834000231_1\n"
     ]
    },
    {
     "name": "stderr",
     "output_type": "stream",
     "text": [
      "2601-2801: 100%|██████████| 83/83 [00:00<00:00, 238770.39it/s]\n"
     ]
    },
    {
     "name": "stdout",
     "output_type": "stream",
     "text": [
      "Sber_parser/2601-2801/data/СИБНЕФТЕМАШ, АО_1027200811285_0\n"
     ]
    },
    {
     "name": "stderr",
     "output_type": "stream",
     "text": [
      "601-701: 100%|██████████| 49/49 [00:00<00:00, 223635.36it/s]\n",
      "3001-3201: 100%|██████████| 105/105 [00:00<00:00, 264823.76it/s]\n",
      "2001-2201: 100%|██████████| 81/81 [00:00<00:00, 237082.08it/s]\n"
     ]
    },
    {
     "name": "stdout",
     "output_type": "stream",
     "text": [
      "Sber_parser/2001-2201/data/МЕХАНИЧЕСКИЙ ЗАВОД ВОСХОД, ООО_1131447000497_0\n"
     ]
    },
    {
     "name": "stderr",
     "output_type": "stream",
     "text": [
      "101-201: 100%|██████████| 37/37 [00:00<00:00, 144227.93it/s]\n"
     ]
    },
    {
     "name": "stdout",
     "output_type": "stream",
     "text": [
      "Sber_parser/101-201/data/ЧМК, ПАО_1\n",
      "Sber_parser/101-201/data/ЧМК, ПАО_2\n",
      "Sber_parser/101-201/data/УРАЛЬСКАЯ СТАЛЬ, АО_0\n",
      "Sber_parser/101-201/data/УРАЛЬСКАЯ СТАЛЬ, АО_1\n",
      "Sber_parser/101-201/data/КМЗ, ПАО_0\n"
     ]
    },
    {
     "name": "stderr",
     "output_type": "stream",
     "text": [
      "3601-3801: 100%|██████████| 91/91 [00:00<00:00, 178272.61it/s]\n"
     ]
    },
    {
     "name": "stdout",
     "output_type": "stream",
     "text": [
      "Sber_parser/3601-3801/data/РЗ ОЦМ, ПАО_1026601641626_0\n",
      "Sber_parser/3601-3801/data/ШВИХАГ РУС, ООО_1104029001889_1\n",
      "Sber_parser/3601-3801/data/ММК НОВОТРАНС, ООО_1217700005555_0\n",
      "Sber_parser/3601-3801/data/ШВИХАГ РУС, ООО_1104029001889_0\n",
      "Sber_parser/3601-3801/data/СЕВЕРСТАЛЬ-МЕТИЗ, ОАО_1043500252058_0\n"
     ]
    },
    {
     "name": "stderr",
     "output_type": "stream",
     "text": [
      "701-801: 100%|██████████| 44/44 [00:00<00:00, 223425.39it/s]\n",
      "6001-6201: 100%|██████████| 86/86 [00:00<00:00, 254379.51it/s]\n",
      "3201-3401: 100%|██████████| 93/93 [00:00<00:00, 255951.62it/s]\n",
      "5601-5801: 100%|██████████| 86/86 [00:00<00:00, 252068.58it/s]\n",
      "6601-6801: 100%|██████████| 92/92 [00:00<00:00, 256566.47it/s]\n",
      "301-401: 100%|██████████| 35/35 [00:00<00:00, 209416.03it/s]\n",
      "1801-2001: 100%|██████████| 89/89 [00:00<00:00, 262328.22it/s]\n",
      "5801-6001: 100%|██████████| 90/90 [00:00<00:00, 103591.48it/s]\n"
     ]
    },
    {
     "name": "stdout",
     "output_type": "stream",
     "text": [
      "Sber_parser/5801-6001/data/МИТЕК ИНДАСТРИС РУ, ООО_1086672026429_0\n",
      "Sber_parser/5801-6001/data/ПИК-ПРОДАКШН, ООО_1135007001800_0\n"
     ]
    },
    {
     "name": "stderr",
     "output_type": "stream",
     "text": [
      "4601-4801: 100%|██████████| 94/94 [00:00<00:00, 180276.44it/s]\n"
     ]
    },
    {
     "name": "stdout",
     "output_type": "stream",
     "text": [
      "Sber_parser/4601-4801/data/РУСАЛ САЯНАЛ, АО_1021900673442_0\n",
      "Sber_parser/4601-4801/data/РУСАЛ КРАСНОЯРСК, АО_1022402468010_0\n",
      "Sber_parser/4601-4801/data/РУСАЛ НОВОКУЗНЕЦК, АО_1024201821093_0\n",
      "Sber_parser/4601-4801/data/АГМК, ООО_1072706000421_0\n",
      "Sber_parser/4601-4801/data/УРАЛЬСКАЯ ФОЛЬГА, АО_1036602271386_0\n",
      "Sber_parser/4601-4801/data/РУСАЛ САЯНОГОРСК, АО_1021900670758_0\n",
      "Sber_parser/4601-4801/data/РУСАЛ БРАТСК, ПАО_1023800836377_0\n",
      "Sber_parser/4601-4801/data/РУСАЛ АЧИНСК, АО_1022401155325_0\n",
      "Sber_parser/4601-4801/data/ТГМК, ООО_1172724025286_0\n"
     ]
    },
    {
     "name": "stderr",
     "output_type": "stream",
     "text": [
      "1401-1601: 100%|██████████| 79/79 [00:00<00:00, 258463.35it/s]\n",
      "3801-4001: 100%|██████████| 93/93 [00:00<00:00, 191492.52it/s]"
     ]
    },
    {
     "name": "stdout",
     "output_type": "stream",
     "text": [
      "Sber_parser/3801-4001/data/ПФ КМТ, ОАО_1027808912890_0\n"
     ]
    },
    {
     "name": "stderr",
     "output_type": "stream",
     "text": [
      "\n"
     ]
    }
   ],
   "source": [
    "path = \"/home/rsolomatin/metalurgi/Sber_parser\"\n",
    "path_inn = {path:inn for path, inn in zip(df[\"Путь\"], df[\"ИНН\"])}\n",
    "data = []\n",
    "for parent_directory in (os.listdir(path)):\n",
    "    main_dir = os.path.join(path, f\"{parent_directory}/data\")\n",
    "    for directory in tqdm(os.listdir(main_dir), desc=parent_directory):\n",
    "        df_path = (os.path.join(\"Sber_parser\", parent_directory, \"data\", directory))\n",
    "        inn = path_inn[df_path]\n",
    "        # print(inn, type(inn))\n",
    "        if inn == \"nan\":\n",
    "            print(df_path)"
   ]
  },
  {
   "cell_type": "code",
   "execution_count": null,
   "metadata": {},
   "outputs": [],
   "source": []
  }
 ],
 "metadata": {
  "kernelspec": {
   "display_name": "Python [conda env:jupyterbase]",
   "language": "python",
   "name": "conda-env-jupyterbase-py"
  },
  "language_info": {
   "codemirror_mode": {
    "name": "ipython",
    "version": 3
   },
   "file_extension": ".py",
   "mimetype": "text/x-python",
   "name": "python",
   "nbconvert_exporter": "python",
   "pygments_lexer": "ipython3",
   "version": "3.8.8"
  }
 },
 "nbformat": 4,
 "nbformat_minor": 4
}
