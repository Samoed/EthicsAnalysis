{
 "cells": [
  {
   "cell_type": "code",
   "execution_count": 1,
   "metadata": {},
   "outputs": [],
   "source": [
    "from tqdm import tqdm\n",
    "import pandas as pd\n",
    "import os\n",
    "import re"
   ]
  },
  {
   "cell_type": "code",
   "execution_count": 2,
   "metadata": {},
   "outputs": [],
   "source": [
    "number_pattern = re.compile('\\w*\\d+\\w*')\n",
    "article_pattern = re.compile('\\w*[d+,-.]\\w+')"
   ]
  },
  {
   "cell_type": "code",
   "execution_count": 3,
   "metadata": {},
   "outputs": [
    {
     "name": "stderr",
     "output_type": "stream",
     "text": [
      "801-901: 100%|██████████| 42/42 [00:05<00:00,  7.12it/s]\n",
      "6401-6601: 100%|██████████| 71/71 [00:16<00:00,  4.20it/s]\n",
      "4001-4201: 100%|██████████| 88/88 [00:20<00:00,  4.24it/s]\n",
      "6201-6401: 100%|██████████| 78/78 [00:07<00:00,  9.96it/s]\n",
      "5201-5401: 100%|██████████| 78/78 [00:11<00:00,  6.74it/s]\n",
      "3401-3601: 100%|██████████| 103/103 [00:24<00:00,  4.15it/s]\n",
      "1201-1401: 100%|██████████| 96/96 [00:20<00:00,  4.62it/s]\n",
      "1-101: 100%|██████████| 48/48 [00:30<00:00,  1.57it/s]\n",
      "1001-1201: 100%|██████████| 105/105 [00:50<00:00,  2.06it/s]\n",
      "201-301: 100%|██████████| 34/34 [00:04<00:00,  6.92it/s]\n",
      "4801-5001: 100%|██████████| 75/75 [00:09<00:00,  7.51it/s]\n",
      "5401-5601: 100%|██████████| 78/78 [00:15<00:00,  4.91it/s]\n",
      "1601-1801: 100%|██████████| 86/86 [00:21<00:00,  4.07it/s]\n",
      "2401-2601: 100%|██████████| 88/88 [00:25<00:00,  3.44it/s]\n",
      "4201-4401: 100%|██████████| 82/82 [00:59<00:00,  1.37it/s]\n",
      "401-501: 100%|██████████| 35/35 [00:13<00:00,  2.52it/s]\n",
      "5001-5201: 100%|██████████| 85/85 [00:21<00:00,  3.95it/s]\n",
      "6801-7001: 100%|██████████| 14/14 [00:02<00:00,  6.24it/s]\n",
      "901-1001: 100%|██████████| 47/47 [00:27<00:00,  1.72it/s]\n",
      "2201-2401: 100%|██████████| 96/96 [00:29<00:00,  3.22it/s]\n",
      "4401-4601: 100%|██████████| 89/89 [00:26<00:00,  3.41it/s]\n",
      "2801-3001: 100%|██████████| 94/94 [00:15<00:00,  6.26it/s]\n",
      "501-601: 100%|██████████| 41/41 [00:09<00:00,  4.45it/s]\n",
      "2601-2801: 100%|██████████| 83/83 [00:26<00:00,  3.16it/s]\n",
      "601-701: 100%|██████████| 49/49 [00:08<00:00,  6.00it/s]\n",
      "3001-3201: 100%|██████████| 105/105 [00:24<00:00,  4.25it/s]\n",
      "2001-2201: 100%|██████████| 81/81 [00:25<00:00,  3.17it/s]\n",
      "101-201: 100%|██████████| 37/37 [00:04<00:00,  7.86it/s]\n",
      "3601-3801: 100%|██████████| 91/91 [00:29<00:00,  3.04it/s]\n",
      "701-801: 100%|██████████| 44/44 [00:25<00:00,  1.75it/s]\n",
      "6001-6201: 100%|██████████| 86/86 [00:39<00:00,  2.15it/s]\n",
      "3201-3401: 100%|██████████| 93/93 [00:37<00:00,  2.46it/s]\n",
      "5601-5801: 100%|██████████| 86/86 [00:17<00:00,  4.78it/s]\n",
      "6601-6801: 100%|██████████| 92/92 [00:23<00:00,  3.90it/s]\n",
      "301-401: 100%|██████████| 35/35 [00:12<00:00,  2.71it/s]\n",
      "1801-2001: 100%|██████████| 89/89 [00:20<00:00,  4.45it/s]\n",
      "5801-6001: 100%|██████████| 90/90 [00:30<00:00,  2.96it/s]\n",
      "4601-4801: 100%|██████████| 94/94 [00:20<00:00,  4.48it/s]\n",
      "1401-1601: 100%|██████████| 79/79 [00:26<00:00,  2.97it/s]\n",
      "3801-4001: 100%|██████████| 93/93 [00:36<00:00,  2.56it/s]"
     ]
    },
    {
     "name": "stdout",
     "output_type": "stream",
     "text": [
      "CPU times: user 11min 45s, sys: 15 s, total: 12min\n",
      "Wall time: 14min 44s\n"
     ]
    },
    {
     "name": "stderr",
     "output_type": "stream",
     "text": [
      "\n"
     ]
    }
   ],
   "source": [
    "%%time\n",
    "\n",
    "path = \"/home/rsolomatin/metalurgi/Sber_parser\"\n",
    "data = []\n",
    "for parent_directory in (os.listdir(path)):\n",
    "    main_dir = os.path.join(path, f\"{parent_directory}/data\")\n",
    "    for directory in tqdm(os.listdir(main_dir), desc=parent_directory):\n",
    "        subdir = os.path.join(main_dir, directory)\n",
    "        for file in os.listdir(subdir):\n",
    "            file_path = os.path.join(subdir, file)\n",
    "            if not os.path.isfile(file_path):\n",
    "                continue\n",
    "            with open(file_path) as f:\n",
    "                lines = f.readlines()\n",
    "                for i, line in enumerate(lines):\n",
    "                    words = line.split()\n",
    "                    if len(words) <= 3:\n",
    "                        continue\n",
    "                    final_line = []\n",
    "                    for word in words:\n",
    "                        word = number_pattern.sub(r'', word)\n",
    "                        word = article_pattern.sub(r'', word)\n",
    "                        final_line.append(word)\n",
    "                    data.append({\"path\":file_path, \"sent_num\":i, \"line\": \" \".join(final_line)})"
   ]
  },
  {
   "cell_type": "code",
   "execution_count": 5,
   "metadata": {},
   "outputs": [
    {
     "data": {
      "text/plain": [
       "27397071"
      ]
     },
     "execution_count": 5,
     "metadata": {},
     "output_type": "execute_result"
    }
   ],
   "source": [
    "len(data)"
   ]
  },
  {
   "cell_type": "code",
   "execution_count": 4,
   "metadata": {},
   "outputs": [
    {
     "name": "stdout",
     "output_type": "stream",
     "text": [
      "CPU times: user 1min 53s, sys: 5.24 s, total: 1min 58s\n",
      "Wall time: 2min 1s\n"
     ]
    }
   ],
   "source": [
    "%%time\n",
    "pd.DataFrame(data).to_csv(\"parsed_metalurgs.csv\", index=False)"
   ]
  }
 ],
 "metadata": {
  "kernelspec": {
   "display_name": "Python [conda env:jupyterbase]",
   "language": "python",
   "name": "conda-env-jupyterbase-py"
  },
  "language_info": {
   "codemirror_mode": {
    "name": "ipython",
    "version": 3
   },
   "file_extension": ".py",
   "mimetype": "text/x-python",
   "name": "python",
   "nbconvert_exporter": "python",
   "pygments_lexer": "ipython3",
   "version": "3.8.8"
  }
 },
 "nbformat": 4,
 "nbformat_minor": 4
}
