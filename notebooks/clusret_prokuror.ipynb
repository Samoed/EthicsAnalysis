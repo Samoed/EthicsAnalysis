{
 "cells": [
  {
   "cell_type": "code",
   "execution_count": 59,
   "metadata": {},
   "outputs": [],
   "source": [
    "import joblib\n",
    "import torch\n",
    "from torch import nn, Tensor\n",
    "import torch.nn.functional as F\n",
    "from transformers import AutoTokenizer, AutoModel\n",
    "import pandas as pd\n",
    "import numpy as np\n",
    "from sklearn import preprocessing\n",
    "from tqdm import tqdm\n",
    "from numba import jit"
   ]
  },
  {
   "cell_type": "code",
   "execution_count": 5,
   "metadata": {},
   "outputs": [],
   "source": [
    "import torch.nn.functional as F\n",
    "\n",
    "\n",
    "class Probability(nn.Module):\n",
    "    def __init__(self):\n",
    "        super(Probability, self).__init__()\n",
    "        self.alpha = torch.nn.Parameter(torch.ones(1), requires_grad=False)\n",
    "        #self.fc = nn.Linear(768*2,1)\n",
    "\n",
    "    def get_config_dict(self):\n",
    "        return {'alpha': self.alpha}\n",
    "\n",
    "    def forward(self, sentence1: Tensor, sentence2: Tensor):\n",
    "        distances = F.pairwise_distance(sentence1, sentence2, p=2)\n",
    "        prob = 2/(1+torch.exp(distances*(self.alpha ** 2)))\n",
    "        #out = self.fc(torch.cat((sentence1, sentence2),1))\n",
    "        #prob = 1 / (torch.exp(-out)+1)\n",
    "        return prob\n",
    "\n",
    "    def device(self):\n",
    "        return self.alpha.device\n",
    "\n",
    "class ProkurorProbModel(nn.Module):\n",
    "    def __init__(self, metalurg_prob_model, prokuror_bert):\n",
    "        super(ProkurorProbModel, self).__init__()\n",
    "        \n",
    "        self.metalurg_prob_model = metalurg_prob_model\n",
    "        \n",
    "        self.prokuror_bert = prokuror_bert\n",
    "        \n",
    "        self.dense = nn.Linear(768,768)\n",
    "        self.probability = Probability()\n",
    "\n",
    "    def forward(self, sentence1: Tensor, sentence2: Tensor):\n",
    "        with torch.no_grad():\n",
    "            self.metalurg_prob_model.eval()\n",
    "            a = self.metalurg_prob_model.get_embedding(sentence1)\n",
    "        b = self.get_embedding(sentence2)\n",
    "\n",
    "        p = self.probability(a, b)\n",
    "\n",
    "        return p\n",
    "\n",
    "    def get_embedding(self, sentence):\n",
    "        device = self.device()\n",
    "        # sentence.to(device)\n",
    "\n",
    "        anchor_ids = sentence[\"input_ids\"].to(device)\n",
    "        anchor_mask = sentence[\"attention_mask\"].to(device)\n",
    "        with torch.no_grad():\n",
    "            a = self.prokuror_bert(anchor_ids, attention_mask=anchor_mask)[0][:, 0]\n",
    "            a = self.dense(a)\n",
    "\n",
    "        return a\n",
    "    \n",
    "    def to(self, device):\n",
    "        self.prokuror_bert.to(device)\n",
    "        self.dense.to(device)\n",
    "        self.probability.to(device)\n",
    "        \n",
    "    def device(self):\n",
    "        return self.metalurg_prob_model.device()\n",
    "        \n",
    "class ProbModel(nn.Module):\n",
    "    def __init__(self, bert):\n",
    "        super(ProbModel, self).__init__()\n",
    "        self.bert = bert\n",
    "        self.dense = nn.Linear(768,768)\n",
    "        self.probability = Probability()\n",
    "        \n",
    "    def forward(self,sentence1: Tensor, sentence2: Tensor):\n",
    "        '''\n",
    "        device = self.probability.device()\n",
    "        \n",
    "        anchor_ids = sentence1[\"input_ids\"].to(device)\n",
    "        pos_ids = sentence2[\"input_ids\"].to(device)\n",
    "\n",
    "        anchor_mask = sentence1['attention_mask'].to(device)\n",
    "        pos_mask = sentence2['attention_mask'].to(device)\n",
    "\n",
    "        a = self.bert(anchor_ids, attention_mask=anchor_mask).pooler_output\n",
    "        b = self.bert(pos_ids, attention_mask=pos_mask).pooler_output\n",
    "        '''        \n",
    "        \n",
    "        a = self.get_embedding(sentence1)\n",
    "        b = self.get_embedding(sentence2)\n",
    "\n",
    "        p = self.probability(a, b)\n",
    "        \n",
    "        return p\n",
    "    \n",
    "    def get_embedding(self, sentence):\n",
    "        device = self.device()\n",
    "\n",
    "        anchor_ids = sentence[\"input_ids\"].to(device)\n",
    "        anchor_mask = sentence['attention_mask'].to(device)\n",
    "        with torch.no_grad():\n",
    "            a = self.bert(anchor_ids, attention_mask=anchor_mask)[0][:,0]\n",
    "            a = self.dense(a)\n",
    "        #a = self.bert(anchor_ids, attention_mask=anchor_mask).pooler_output\n",
    "        \n",
    "        return a\n",
    "    \n",
    "    def to(self, device):\n",
    "        self.bert.to(device)\n",
    "        self.dense.to(device)\n",
    "        self.probability.to(device)\n",
    "\n",
    "    def device(self):\n",
    "        return self.bert.device\n",
    "    \n",
    "    \n",
    "def load_model(model_name: str = \"DeepPavlov/rubert-base-cased\"):\n",
    "    tokenizer = AutoTokenizer.from_pretrained(model_name)\n",
    "    orig_model = AutoModel.from_pretrained(model_name)\n",
    "    pmodel = ProbModel(orig_model)\n",
    "    model = ProkurorProbModel(pmodel, orig_model)\n",
    "    d = torch.load(\"/home/rsolomatin/metalurgi/prokuror_model/learned_model/35.pth\")\n",
    "    model.load_state_dict(d[\"model\"])\n",
    "    return tokenizer, model"
   ]
  },
  {
   "cell_type": "code",
   "execution_count": 6,
   "metadata": {},
   "outputs": [
    {
     "data": {
      "text/plain": [
       "((4517712, 5), (3019791, 5), 86)"
      ]
     },
     "execution_count": 6,
     "metadata": {},
     "output_type": "execute_result"
    }
   ],
   "source": [
    "metalurgs = pd.read_csv(\"data/parsed_metalurgs_v3_only_prokuror.csv\", index_col=0, dtype={\"Код налогоплательщика\":str})\n",
    "metalurgs = metalurgs.rename(columns={\"Код налогоплательщика\": \"INN\"})\n",
    "prokuror = pd.read_csv(\"data/prokuror_results.csv\", dtype={\"INN\":str})\n",
    "job = joblib.load(\"data/prokuror_test_inn.joblib\")\n",
    "\n",
    "metalurgs.shape, prokuror.shape, len(job)"
   ]
  },
  {
   "cell_type": "code",
   "execution_count": 7,
   "metadata": {},
   "outputs": [
    {
     "name": "stdout",
     "output_type": "stream",
     "text": [
      "CPU times: user 3.97 s, sys: 42.8 ms, total: 4.02 s\n",
      "Wall time: 4.02 s\n"
     ]
    }
   ],
   "source": [
    "%%time\n",
    "le = preprocessing.LabelEncoder()\n",
    "prokuror[\"cat_INN\"] = le.fit_transform(prokuror[\"INN\"])\n",
    "cat_job = le.transform(job)\n",
    "metalurgs[\"cat_INN\"] = le.transform(metalurgs[\"INN\"])"
   ]
  },
  {
   "cell_type": "code",
   "execution_count": 5,
   "metadata": {},
   "outputs": [
    {
     "data": {
      "text/plain": [
       "((935699, 6), (707, 6), 86)"
      ]
     },
     "execution_count": 5,
     "metadata": {},
     "output_type": "execute_result"
    }
   ],
   "source": [
    "test_prokuror = prokuror[prokuror[\"cat_INN\"].isin(cat_job)]\n",
    "test_metalurgs = metalurgs[metalurgs[\"cat_INN\"].isin(cat_job)]\n",
    "test_metalurgs.shape, test_prokuror.shape, len(job)"
   ]
  },
  {
   "cell_type": "code",
   "execution_count": 6,
   "metadata": {},
   "outputs": [
    {
     "data": {
      "text/html": [
       "<div>\n",
       "<style scoped>\n",
       "    .dataframe tbody tr th:only-of-type {\n",
       "        vertical-align: middle;\n",
       "    }\n",
       "\n",
       "    .dataframe tbody tr th {\n",
       "        vertical-align: top;\n",
       "    }\n",
       "\n",
       "    .dataframe thead th {\n",
       "        text-align: right;\n",
       "    }\n",
       "</style>\n",
       "<table border=\"1\" class=\"dataframe\">\n",
       "  <thead>\n",
       "    <tr style=\"text-align: right;\">\n",
       "      <th></th>\n",
       "      <th>path</th>\n",
       "      <th>sent_num</th>\n",
       "      <th>line</th>\n",
       "      <th>INN</th>\n",
       "      <th>p1_topic 1</th>\n",
       "      <th>cat_INN</th>\n",
       "    </tr>\n",
       "  </thead>\n",
       "  <tbody>\n",
       "    <tr>\n",
       "      <th>58748</th>\n",
       "      <td>Sber_parser/801-901/data/КРАНСТРОЙМОНТАЖ, ООО_...</td>\n",
       "      <td>0</td>\n",
       "      <td>Краны козловые мостовые и</td>\n",
       "      <td>3525299900</td>\n",
       "      <td>NaN</td>\n",
       "      <td>218727</td>\n",
       "    </tr>\n",
       "    <tr>\n",
       "      <th>58749</th>\n",
       "      <td>Sber_parser/801-901/data/КРАНСТРОЙМОНТАЖ, ООО_...</td>\n",
       "      <td>25</td>\n",
       "      <td>Взрывобезопасные ВБИ и пожаробезопасные ПБИ краны</td>\n",
       "      <td>3525299900</td>\n",
       "      <td>NaN</td>\n",
       "      <td>218727</td>\n",
       "    </tr>\n",
       "    <tr>\n",
       "      <th>58750</th>\n",
       "      <td>Sber_parser/801-901/data/КРАНСТРОЙМОНТАЖ, ООО_...</td>\n",
       "      <td>26</td>\n",
       "      <td>Выбор режима работы крана</td>\n",
       "      <td>3525299900</td>\n",
       "      <td>NaN</td>\n",
       "      <td>218727</td>\n",
       "    </tr>\n",
       "    <tr>\n",
       "      <th>58751</th>\n",
       "      <td>Sber_parser/801-901/data/КРАНСТРОЙМОНТАЖ, ООО_...</td>\n",
       "      <td>28</td>\n",
       "      <td>Замена стяжной балки козлового крана</td>\n",
       "      <td>3525299900</td>\n",
       "      <td>NaN</td>\n",
       "      <td>218727</td>\n",
       "    </tr>\n",
       "    <tr>\n",
       "      <th>58752</th>\n",
       "      <td>Sber_parser/801-901/data/КРАНСТРОЙМОНТАЖ, ООО_...</td>\n",
       "      <td>29</td>\n",
       "      <td>Козловые краны грузоподъемность до тонн</td>\n",
       "      <td>3525299900</td>\n",
       "      <td>NaN</td>\n",
       "      <td>218727</td>\n",
       "    </tr>\n",
       "  </tbody>\n",
       "</table>\n",
       "</div>"
      ],
      "text/plain": [
       "                                                    path  sent_num  \\\n",
       "58748  Sber_parser/801-901/data/КРАНСТРОЙМОНТАЖ, ООО_...         0   \n",
       "58749  Sber_parser/801-901/data/КРАНСТРОЙМОНТАЖ, ООО_...        25   \n",
       "58750  Sber_parser/801-901/data/КРАНСТРОЙМОНТАЖ, ООО_...        26   \n",
       "58751  Sber_parser/801-901/data/КРАНСТРОЙМОНТАЖ, ООО_...        28   \n",
       "58752  Sber_parser/801-901/data/КРАНСТРОЙМОНТАЖ, ООО_...        29   \n",
       "\n",
       "                                                    line         INN  \\\n",
       "58748                          Краны козловые мостовые и  3525299900   \n",
       "58749  Взрывобезопасные ВБИ и пожаробезопасные ПБИ краны  3525299900   \n",
       "58750                          Выбор режима работы крана  3525299900   \n",
       "58751               Замена стяжной балки козлового крана  3525299900   \n",
       "58752            Козловые краны грузоподъемность до тонн  3525299900   \n",
       "\n",
       "       p1_topic 1  cat_INN  \n",
       "58748         NaN   218727  \n",
       "58749         NaN   218727  \n",
       "58750         NaN   218727  \n",
       "58751         NaN   218727  \n",
       "58752         NaN   218727  "
      ]
     },
     "execution_count": 6,
     "metadata": {},
     "output_type": "execute_result"
    }
   ],
   "source": [
    "test_metalurgs.head()"
   ]
  },
  {
   "cell_type": "code",
   "execution_count": 9,
   "metadata": {},
   "outputs": [],
   "source": [
    "# torch.save(model, \"model/save_35.pth\")\n",
    "model = torch.load(\"model/save_35.pth\")\n",
    "model.eval();\n",
    "device = torch.device(\"cuda\") if torch.cuda.is_available() else torch.device(\"cpu\")\n",
    "tokenizer = AutoTokenizer.from_pretrained(\"DeepPavlov/rubert-base-cased\")\n",
    "model.metalurg_prob_model.dense.to(device)\n",
    "model.to(device)"
   ]
  },
  {
   "cell_type": "code",
   "execution_count": 16,
   "metadata": {},
   "outputs": [
    {
     "name": "stderr",
     "output_type": "stream",
     "text": [
      "100%|██████████| 29240/29240 [1:43:51<00:00,  4.69it/s]\n"
     ]
    }
   ],
   "source": [
    "arr = []\n",
    "num_split = test_metalurgs.shape[0] / 32\n",
    "for row in tqdm(np.split(test_metalurgs, num_split)):\n",
    "    sentences = row[\"line\"].values.tolist()\n",
    "    sentense_embeddings = tokenizer(sentences, max_length=512, padding=\"max_length\", truncation=True, return_tensors=\"pt\")\n",
    "    embeddings = model.metalurg_prob_model.get_embedding(sentense_embeddings).cpu().numpy()  # .astype(np.float16)\n",
    "    for sentence_id, inn, embedding in zip(row.index, row[\"INN\"], embeddings):\n",
    "        arr.append({\"sentence_id\":sentence_id, \"inn\":inn, \"arr\":embedding})"
   ]
  },
  {
   "cell_type": "code",
   "execution_count": 17,
   "metadata": {},
   "outputs": [],
   "source": [
    "arr = np.array(arr)\n",
    "with open('data/metalurgs_emb_32.npy', 'wb') as f:\n",
    "    np.save(f, arr)"
   ]
  },
  {
   "cell_type": "code",
   "execution_count": 20,
   "metadata": {},
   "outputs": [
    {
     "name": "stderr",
     "output_type": "stream",
     "text": [
      "100%|██████████| 707/707 [00:06<00:00, 103.25it/s]\n"
     ]
    }
   ],
   "source": [
    "arr = []\n",
    "for index, row in tqdm(test_prokuror.iterrows(), total=test_prokuror.shape[0]):\n",
    "    sentence = row[\"line\"]\n",
    "    sentense_embedding = tokenizer(sentence, max_length=512, padding=\"max_length\", truncation=True, return_tensors=\"pt\")\n",
    "    embedding = model.get_embedding(sentense_embedding).cpu().numpy()  # .astype(np.float16)\n",
    "    arr.append({\"sentence_id\":index, \"inn\":row[\"INN\"], \"arr\":embedding})"
   ]
  },
  {
   "cell_type": "code",
   "execution_count": 21,
   "metadata": {},
   "outputs": [],
   "source": [
    "arr = np.array(arr)\n",
    "with open('data/prokuror_emb_32.npy', 'wb') as f:\n",
    "    np.save(f, arr)"
   ]
  },
  {
   "cell_type": "code",
   "execution_count": 10,
   "metadata": {},
   "outputs": [
    {
     "name": "stderr",
     "output_type": "stream",
     "text": [
      "100%|██████████| 94368/94368 [5:38:52<00:00,  4.64it/s]  \n"
     ]
    }
   ],
   "source": [
    "arr = []\n",
    "num_split = prokuror.shape[0] / 32\n",
    "for row in tqdm(np.split(prokuror, num_split)):\n",
    "    sentences = row[\"line\"].values.tolist()\n",
    "    sentense_embeddings = tokenizer(sentences, max_length=512, padding=\"max_length\", truncation=True, return_tensors=\"pt\")\n",
    "    embeddings = model.metalurg_prob_model.get_embedding(sentense_embeddings).cpu().numpy()  # .astype(np.float16)\n",
    "    for sentence_id, inn, embedding in zip(row.index, row[\"INN\"], embeddings):\n",
    "        arr.append({\"sentence_id\":sentence_id, \"inn\":inn, \"arr\":embedding})"
   ]
  },
  {
   "cell_type": "code",
   "execution_count": 11,
   "metadata": {},
   "outputs": [],
   "source": [
    "arr = np.array(arr)\n",
    "with open('data/allprokuror_emb_32.npy', 'wb') as f:\n",
    "    np.save(f, arr)"
   ]
  },
  {
   "cell_type": "markdown",
   "metadata": {},
   "source": [
    "# Compute distances"
   ]
  },
  {
   "cell_type": "code",
   "execution_count": 60,
   "metadata": {},
   "outputs": [
    {
     "name": "stdout",
     "output_type": "stream",
     "text": [
      "CPU times: user 2.76 s, sys: 1.22 s, total: 3.99 s\n",
      "Wall time: 3.99 s\n"
     ]
    }
   ],
   "source": [
    "%%time\n",
    "with open('data/metalurgs_emb_32.npy','rb') as f:\n",
    "     metalurg = np.load(f, allow_pickle=True)"
   ]
  },
  {
   "cell_type": "code",
   "execution_count": 92,
   "metadata": {},
   "outputs": [
    {
     "name": "stdout",
     "output_type": "stream",
     "text": [
      "CPU times: user 21 s, sys: 9.11 s, total: 30.1 s\n",
      "Wall time: 1min 45s\n"
     ]
    }
   ],
   "source": [
    "%%time\n",
    "with open('data/allprokuror_emb_32.npy','rb') as f:\n",
    "     prokuror = np.load(f, allow_pickle=True)"
   ]
  },
  {
   "cell_type": "code",
   "execution_count": 63,
   "metadata": {},
   "outputs": [],
   "source": [
    "# metalurg[0], prokuror[0]"
   ]
  },
  {
   "cell_type": "code",
   "execution_count": 93,
   "metadata": {},
   "outputs": [],
   "source": [
    "# from numba import cuda"
   ]
  },
  {
   "cell_type": "code",
   "execution_count": 116,
   "metadata": {},
   "outputs": [],
   "source": [
    "@jit(nopython=True,nogil=True,cache=True, fastmath=True)\n",
    "def lin(y1, y2):\n",
    "    return cp.linalg.norm(y1-y2)\n",
    "\n",
    "@jit(nopython=True,nogil=True,cache=True)\n",
    "def find_neighbors(metalurg_arr, prokuror_arr, prokuror_id):\n",
    "    prok_dist = np.zeros(prokuror_arr.shape[0], dtype=np.float64)\n",
    "    for i, arr in enumerate(prokuror_arr):\n",
    "        prok_dist[i] = lin(metalurg_arr, arr)\n",
    "    indexes = np.argsort(prok_dist)\n",
    "    return prok_dist[indexes][:3], prokuror_id[indexes][:3]"
   ]
  },
  {
   "cell_type": "code",
   "execution_count": 94,
   "metadata": {},
   "outputs": [
    {
     "name": "stderr",
     "output_type": "stream",
     "text": [
      "100%|██████████| 3019791/3019791 [00:01<00:00, 1913158.08it/s]\n"
     ]
    }
   ],
   "source": [
    "prokuror_arr = []\n",
    "prokuror_id  = []\n",
    "is_2d = len(prokuror[0]['arr'].shape) == 2\n",
    "for prokuror_elem in tqdm(prokuror):\n",
    "    if is_2d:\n",
    "        prokuror_arr.append(prokuror_elem[\"arr\"][0])\n",
    "    else:\n",
    "        prokuror_arr.append(prokuror_elem[\"arr\"])\n",
    "    prokuror_id.append(prokuror_elem[\"sentence_id\"])\n",
    "prokuror_arr = np.array(prokuror_arr)\n",
    "prokuror_id = np.array(prokuror_id)"
   ]
  },
  {
   "cell_type": "code",
   "execution_count": 127,
   "metadata": {},
   "outputs": [
    {
     "name": "stdout",
     "output_type": "stream",
     "text": [
      "Defaulting to user installation because normal site-packages is not writeable\n",
      "Requirement already satisfied: cupy-cuda11x in /home/rsolomatin/.local/lib/python3.8/site-packages (11.1.0)\n",
      "Requirement already satisfied: numpy<1.26,>=1.20 in /opt/anaconda3/envs/jupyterbase/lib/python3.8/site-packages (from cupy-cuda11x) (1.20.1)\n",
      "Requirement already satisfied: fastrlock>=0.5 in /home/rsolomatin/.local/lib/python3.8/site-packages (from cupy-cuda11x) (0.8)\n"
     ]
    }
   ],
   "source": [
    "!pip install cupy-cuda11x"
   ]
  },
  {
   "cell_type": "code",
   "execution_count": 117,
   "metadata": {},
   "outputs": [
    {
     "name": "stderr",
     "output_type": "stream",
     "text": [
      "  0%|          | 0/935699 [00:00<?, ?it/s]\n"
     ]
    },
    {
     "ename": "AttributeError",
     "evalue": "module 'cupy' has no attribute 'linalg'",
     "output_type": "error",
     "traceback": [
      "\u001b[0;31m---------------------------------------------------------------------------\u001b[0m",
      "\u001b[0;31mAttributeError\u001b[0m                            Traceback (most recent call last)",
      "\u001b[0;32m<ipython-input-117-0aaff5772f40>\u001b[0m in \u001b[0;36m<module>\u001b[0;34m\u001b[0m\n\u001b[1;32m      2\u001b[0m \u001b[0;32mfor\u001b[0m \u001b[0mmetalurg_elem\u001b[0m \u001b[0;32min\u001b[0m \u001b[0mtqdm\u001b[0m\u001b[0;34m(\u001b[0m\u001b[0mmetalurg\u001b[0m\u001b[0;34m)\u001b[0m\u001b[0;34m:\u001b[0m\u001b[0;34m\u001b[0m\u001b[0;34m\u001b[0m\u001b[0m\n\u001b[1;32m      3\u001b[0m     \u001b[0mmetalurg_arr\u001b[0m \u001b[0;34m=\u001b[0m \u001b[0mnp\u001b[0m\u001b[0;34m.\u001b[0m\u001b[0marray\u001b[0m\u001b[0;34m(\u001b[0m\u001b[0mmetalurg_elem\u001b[0m\u001b[0;34m[\u001b[0m\u001b[0;34m\"arr\"\u001b[0m\u001b[0;34m]\u001b[0m\u001b[0;34m)\u001b[0m\u001b[0;34m\u001b[0m\u001b[0;34m\u001b[0m\u001b[0m\n\u001b[0;32m----> 4\u001b[0;31m     \u001b[0mdistances\u001b[0m\u001b[0;34m,\u001b[0m \u001b[0msentences_id\u001b[0m \u001b[0;34m=\u001b[0m \u001b[0mfind_neighbors\u001b[0m\u001b[0;34m(\u001b[0m\u001b[0mmetalurg_arr\u001b[0m\u001b[0;34m,\u001b[0m \u001b[0mprokuror_arr\u001b[0m\u001b[0;34m,\u001b[0m \u001b[0mprokuror_id\u001b[0m\u001b[0;34m)\u001b[0m\u001b[0;34m\u001b[0m\u001b[0;34m\u001b[0m\u001b[0m\n\u001b[0m\u001b[1;32m      5\u001b[0m     \u001b[0;32mfor\u001b[0m \u001b[0mdist\u001b[0m\u001b[0;34m,\u001b[0m \u001b[0msent_id\u001b[0m \u001b[0;32min\u001b[0m \u001b[0mzip\u001b[0m\u001b[0;34m(\u001b[0m\u001b[0mdistances\u001b[0m\u001b[0;34m,\u001b[0m \u001b[0msentences_id\u001b[0m\u001b[0;34m)\u001b[0m\u001b[0;34m:\u001b[0m\u001b[0;34m\u001b[0m\u001b[0;34m\u001b[0m\u001b[0m\n\u001b[1;32m      6\u001b[0m         res.append({\n",
      "\u001b[0;32m<ipython-input-116-d6fe3794d537>\u001b[0m in \u001b[0;36mfind_neighbors\u001b[0;34m(metalurg_arr, prokuror_arr, prokuror_id)\u001b[0m\n\u001b[1;32m      7\u001b[0m     \u001b[0mprok_dist\u001b[0m \u001b[0;34m=\u001b[0m \u001b[0mnp\u001b[0m\u001b[0;34m.\u001b[0m\u001b[0mzeros\u001b[0m\u001b[0;34m(\u001b[0m\u001b[0mprokuror_arr\u001b[0m\u001b[0;34m.\u001b[0m\u001b[0mshape\u001b[0m\u001b[0;34m[\u001b[0m\u001b[0;36m0\u001b[0m\u001b[0;34m]\u001b[0m\u001b[0;34m,\u001b[0m \u001b[0mdtype\u001b[0m\u001b[0;34m=\u001b[0m\u001b[0mnp\u001b[0m\u001b[0;34m.\u001b[0m\u001b[0mfloat64\u001b[0m\u001b[0;34m)\u001b[0m\u001b[0;34m\u001b[0m\u001b[0;34m\u001b[0m\u001b[0m\n\u001b[1;32m      8\u001b[0m     \u001b[0;32mfor\u001b[0m \u001b[0mi\u001b[0m\u001b[0;34m,\u001b[0m \u001b[0marr\u001b[0m \u001b[0;32min\u001b[0m \u001b[0menumerate\u001b[0m\u001b[0;34m(\u001b[0m\u001b[0mprokuror_arr\u001b[0m\u001b[0;34m)\u001b[0m\u001b[0;34m:\u001b[0m\u001b[0;34m\u001b[0m\u001b[0;34m\u001b[0m\u001b[0m\n\u001b[0;32m----> 9\u001b[0;31m         \u001b[0mprok_dist\u001b[0m\u001b[0;34m[\u001b[0m\u001b[0mi\u001b[0m\u001b[0;34m]\u001b[0m \u001b[0;34m=\u001b[0m \u001b[0mlin\u001b[0m\u001b[0;34m(\u001b[0m\u001b[0mmetalurg_arr\u001b[0m\u001b[0;34m,\u001b[0m \u001b[0marr\u001b[0m\u001b[0;34m)\u001b[0m\u001b[0;34m\u001b[0m\u001b[0;34m\u001b[0m\u001b[0m\n\u001b[0m\u001b[1;32m     10\u001b[0m     \u001b[0mindexes\u001b[0m \u001b[0;34m=\u001b[0m \u001b[0mnp\u001b[0m\u001b[0;34m.\u001b[0m\u001b[0margsort\u001b[0m\u001b[0;34m(\u001b[0m\u001b[0mprok_dist\u001b[0m\u001b[0;34m)\u001b[0m\u001b[0;34m\u001b[0m\u001b[0;34m\u001b[0m\u001b[0m\n\u001b[1;32m     11\u001b[0m     \u001b[0;32mreturn\u001b[0m \u001b[0mprok_dist\u001b[0m\u001b[0;34m[\u001b[0m\u001b[0mindexes\u001b[0m\u001b[0;34m]\u001b[0m\u001b[0;34m[\u001b[0m\u001b[0;34m:\u001b[0m\u001b[0;36m3\u001b[0m\u001b[0;34m]\u001b[0m\u001b[0;34m,\u001b[0m \u001b[0mprokuror_id\u001b[0m\u001b[0;34m[\u001b[0m\u001b[0mindexes\u001b[0m\u001b[0;34m]\u001b[0m\u001b[0;34m[\u001b[0m\u001b[0;34m:\u001b[0m\u001b[0;36m3\u001b[0m\u001b[0;34m]\u001b[0m\u001b[0;34m\u001b[0m\u001b[0;34m\u001b[0m\u001b[0m\n",
      "\u001b[0;32m<ipython-input-116-d6fe3794d537>\u001b[0m in \u001b[0;36mlin\u001b[0;34m(y1, y2)\u001b[0m\n\u001b[1;32m      1\u001b[0m \u001b[0;31m# @jit(nopython=True,nogil=True,cache=True, fastmath=True)\u001b[0m\u001b[0;34m\u001b[0m\u001b[0;34m\u001b[0m\u001b[0;34m\u001b[0m\u001b[0m\n\u001b[1;32m      2\u001b[0m \u001b[0;32mdef\u001b[0m \u001b[0mlin\u001b[0m\u001b[0;34m(\u001b[0m\u001b[0my1\u001b[0m\u001b[0;34m,\u001b[0m \u001b[0my2\u001b[0m\u001b[0;34m)\u001b[0m\u001b[0;34m:\u001b[0m\u001b[0;34m\u001b[0m\u001b[0;34m\u001b[0m\u001b[0m\n\u001b[0;32m----> 3\u001b[0;31m     \u001b[0;32mreturn\u001b[0m \u001b[0mcp\u001b[0m\u001b[0;34m.\u001b[0m\u001b[0mlinalg\u001b[0m\u001b[0;34m.\u001b[0m\u001b[0mnorm\u001b[0m\u001b[0;34m(\u001b[0m\u001b[0my1\u001b[0m\u001b[0;34m-\u001b[0m\u001b[0my2\u001b[0m\u001b[0;34m)\u001b[0m\u001b[0;34m\u001b[0m\u001b[0;34m\u001b[0m\u001b[0m\n\u001b[0m\u001b[1;32m      4\u001b[0m \u001b[0;34m\u001b[0m\u001b[0m\n\u001b[1;32m      5\u001b[0m \u001b[0;31m#@jit(nopython=True,nogil=True,cache=True)\u001b[0m\u001b[0;34m\u001b[0m\u001b[0;34m\u001b[0m\u001b[0;34m\u001b[0m\u001b[0m\n",
      "\u001b[0;31mAttributeError\u001b[0m: module 'cupy' has no attribute 'linalg'"
     ]
    }
   ],
   "source": [
    "res = []\n",
    "for metalurg_elem in tqdm(metalurg):\n",
    "    metalurg_arr = np.array(metalurg_elem[\"arr\"])\n",
    "    distances, sentences_id = find_neighbors(metalurg_arr, prokuror_arr, prokuror_id)\n",
    "    for dist, sent_id in zip(distances, sentences_id):\n",
    "        res.append({\n",
    "            \"metalurg_id\":metalurg_elem['sentence_id'],\n",
    "            \"metalurg_inn\":metalurg_elem[\"inn\"],\n",
    "            \"prokuror_sentence_id\": sent_id,\n",
    "            \"prokuror_distance\": dist,\n",
    "        })"
   ]
  },
  {
   "cell_type": "code",
   "execution_count": 56,
   "metadata": {},
   "outputs": [
    {
     "data": {
      "text/html": [
       "<div>\n",
       "<style scoped>\n",
       "    .dataframe tbody tr th:only-of-type {\n",
       "        vertical-align: middle;\n",
       "    }\n",
       "\n",
       "    .dataframe tbody tr th {\n",
       "        vertical-align: top;\n",
       "    }\n",
       "\n",
       "    .dataframe thead th {\n",
       "        text-align: right;\n",
       "    }\n",
       "</style>\n",
       "<table border=\"1\" class=\"dataframe\">\n",
       "  <thead>\n",
       "    <tr style=\"text-align: right;\">\n",
       "      <th></th>\n",
       "      <th>metalurg_id</th>\n",
       "      <th>metalurg_inn</th>\n",
       "      <th>prokuror_sentence_id</th>\n",
       "      <th>prokuror_distance</th>\n",
       "    </tr>\n",
       "  </thead>\n",
       "  <tbody>\n",
       "    <tr>\n",
       "      <th>0</th>\n",
       "      <td>58748</td>\n",
       "      <td>3525299900</td>\n",
       "      <td>225412</td>\n",
       "      <td>0.585173</td>\n",
       "    </tr>\n",
       "    <tr>\n",
       "      <th>1</th>\n",
       "      <td>58748</td>\n",
       "      <td>3525299900</td>\n",
       "      <td>659052</td>\n",
       "      <td>0.624990</td>\n",
       "    </tr>\n",
       "    <tr>\n",
       "      <th>2</th>\n",
       "      <td>58748</td>\n",
       "      <td>3525299900</td>\n",
       "      <td>871227</td>\n",
       "      <td>0.624990</td>\n",
       "    </tr>\n",
       "    <tr>\n",
       "      <th>3</th>\n",
       "      <td>58749</td>\n",
       "      <td>3525299900</td>\n",
       "      <td>22032</td>\n",
       "      <td>0.777344</td>\n",
       "    </tr>\n",
       "    <tr>\n",
       "      <th>4</th>\n",
       "      <td>58749</td>\n",
       "      <td>3525299900</td>\n",
       "      <td>715153</td>\n",
       "      <td>0.777344</td>\n",
       "    </tr>\n",
       "  </tbody>\n",
       "</table>\n",
       "</div>"
      ],
      "text/plain": [
       "   metalurg_id metalurg_inn  prokuror_sentence_id  prokuror_distance\n",
       "0        58748   3525299900                225412           0.585173\n",
       "1        58748   3525299900                659052           0.624990\n",
       "2        58748   3525299900                871227           0.624990\n",
       "3        58749   3525299900                 22032           0.777344\n",
       "4        58749   3525299900                715153           0.777344"
      ]
     },
     "execution_count": 56,
     "metadata": {},
     "output_type": "execute_result"
    }
   ],
   "source": [
    "df = pd.DataFrame(res)\n",
    "df.head()"
   ]
  },
  {
   "cell_type": "code",
   "execution_count": 57,
   "metadata": {},
   "outputs": [],
   "source": [
    "df.to_csv(\"data/metalurg_dist2.csv.zip\", compression=\"zip\")"
   ]
  },
  {
   "cell_type": "markdown",
   "metadata": {},
   "source": [
    "## Test euclidean distances"
   ]
  },
  {
   "cell_type": "code",
   "execution_count": 1,
   "metadata": {},
   "outputs": [],
   "source": [
    "from sklearn.metrics.pairwise import euclidean_distances\n",
    "from numba import jit\n",
    "import math\n",
    "import numpy as np"
   ]
  },
  {
   "cell_type": "code",
   "execution_count": 2,
   "metadata": {},
   "outputs": [
    {
     "name": "stdout",
     "output_type": "stream",
     "text": [
      "CPU times: user 2.6 s, sys: 1.25 s, total: 3.84 s\n",
      "Wall time: 3.84 s\n"
     ]
    }
   ],
   "source": [
    "%%time\n",
    "with open('data/metalurgs_emb_32.npy','rb') as f:\n",
    "     metalurg = np.load(f, allow_pickle=True)"
   ]
  },
  {
   "cell_type": "code",
   "execution_count": 3,
   "metadata": {},
   "outputs": [
    {
     "name": "stdout",
     "output_type": "stream",
     "text": [
      "CPU times: user 3.59 ms, sys: 1.48 ms, total: 5.07 ms\n",
      "Wall time: 4 ms\n"
     ]
    }
   ],
   "source": [
    "%%time\n",
    "with open('data/prokuror_emb_32.npy','rb') as f:\n",
    "     prokuror = np.load(f, allow_pickle=True)"
   ]
  },
  {
   "cell_type": "code",
   "execution_count": 4,
   "metadata": {},
   "outputs": [
    {
     "data": {
      "text/plain": [
       "((935699,), (707,))"
      ]
     },
     "execution_count": 4,
     "metadata": {},
     "output_type": "execute_result"
    }
   ],
   "source": [
    "metalurg.shape, prokuror.shape"
   ]
  },
  {
   "cell_type": "code",
   "execution_count": 5,
   "metadata": {},
   "outputs": [],
   "source": [
    "metalurg_arr = metalurg[0][\"arr\"]\n",
    "prokuror_arr = prokuror[0][\"arr\"][0]"
   ]
  },
  {
   "cell_type": "code",
   "execution_count": 6,
   "metadata": {},
   "outputs": [
    {
     "data": {
      "text/plain": [
       "((768,), (768,))"
      ]
     },
     "execution_count": 6,
     "metadata": {},
     "output_type": "execute_result"
    }
   ],
   "source": [
    "metalurg_arr.shape, prokuror_arr.shape"
   ]
  },
  {
   "cell_type": "code",
   "execution_count": 7,
   "metadata": {},
   "outputs": [
    {
     "name": "stdout",
     "output_type": "stream",
     "text": [
      "5.98 µs ± 58.4 ns per loop (mean ± std. dev. of 7 runs, 100000 loops each)\n"
     ]
    }
   ],
   "source": [
    "%timeit np.linalg.norm(metalurg_arr - prokuror_arr)"
   ]
  },
  {
   "cell_type": "code",
   "execution_count": 8,
   "metadata": {},
   "outputs": [
    {
     "name": "stdout",
     "output_type": "stream",
     "text": [
      "2.11 ms ± 12.1 µs per loop (mean ± std. dev. of 7 runs, 100 loops each)\n"
     ]
    }
   ],
   "source": [
    "%timeit math.sqrt(sum([(a - b)**2 for a, b in zip(metalurg_arr, prokuror_arr)]))"
   ]
  },
  {
   "cell_type": "code",
   "execution_count": 9,
   "metadata": {},
   "outputs": [
    {
     "name": "stdout",
     "output_type": "stream",
     "text": [
      "18.3 µs ± 35.1 ns per loop (mean ± std. dev. of 7 runs, 100000 loops each)\n"
     ]
    }
   ],
   "source": [
    "%timeit np.sqrt(np.sum(np.power(metalurg_arr - prokuror_arr, 2)))"
   ]
  },
  {
   "cell_type": "code",
   "execution_count": 10,
   "metadata": {},
   "outputs": [
    {
     "name": "stdout",
     "output_type": "stream",
     "text": [
      "8.21 µs ± 45.2 ns per loop (mean ± std. dev. of 7 runs, 100000 loops each)\n"
     ]
    }
   ],
   "source": [
    "%timeit np.sqrt(np.sum((metalurg_arr - prokuror_arr)**2))"
   ]
  },
  {
   "cell_type": "code",
   "execution_count": 11,
   "metadata": {},
   "outputs": [
    {
     "name": "stdout",
     "output_type": "stream",
     "text": [
      "6.52 µs ± 114 ns per loop (mean ± std. dev. of 7 runs, 100000 loops each)\n"
     ]
    }
   ],
   "source": [
    "%timeit (np.sum((metalurg_arr - prokuror_arr)**2))"
   ]
  },
  {
   "cell_type": "code",
   "execution_count": 12,
   "metadata": {},
   "outputs": [],
   "source": [
    "v1 = [metalurg_arr]\n",
    "v2 = [prokuror_arr]"
   ]
  },
  {
   "cell_type": "code",
   "execution_count": 13,
   "metadata": {},
   "outputs": [
    {
     "name": "stdout",
     "output_type": "stream",
     "text": [
      "138 µs ± 3.91 µs per loop (mean ± std. dev. of 7 runs, 10000 loops each)\n"
     ]
    }
   ],
   "source": [
    "%timeit euclidean_distances(v1, v2)"
   ]
  },
  {
   "cell_type": "code",
   "execution_count": 14,
   "metadata": {},
   "outputs": [],
   "source": [
    "@jit(nopython=True)\n",
    "def jit_linalg(y1, y2):\n",
    "    return np.linalg.norm(y1-y2)"
   ]
  },
  {
   "cell_type": "code",
   "execution_count": 15,
   "metadata": {},
   "outputs": [
    {
     "name": "stdout",
     "output_type": "stream",
     "text": [
      "The slowest run took 38.88 times longer than the fastest. This could mean that an intermediate result is being cached.\n",
      "6.49 µs ± 13.1 µs per loop (mean ± std. dev. of 7 runs, 1 loop each)\n"
     ]
    }
   ],
   "source": [
    "%timeit jit_linalg(metalurg_arr, prokuror_arr)"
   ]
  },
  {
   "cell_type": "code",
   "execution_count": 16,
   "metadata": {},
   "outputs": [
    {
     "name": "stdout",
     "output_type": "stream",
     "text": [
      "105 µs ± 2.9 µs per loop (mean ± std. dev. of 7 runs, 10000 loops each)\n"
     ]
    }
   ],
   "source": [
    "%timeit sum((metalurg_arr - prokuror_arr)**2)"
   ]
  },
  {
   "cell_type": "code",
   "execution_count": 17,
   "metadata": {},
   "outputs": [
    {
     "name": "stdout",
     "output_type": "stream",
     "text": [
      "4.63 µs ± 34.7 ns per loop (mean ± std. dev. of 7 runs, 100000 loops each)\n"
     ]
    }
   ],
   "source": [
    "%timeit ((metalurg_arr - prokuror_arr)**2).sum()"
   ]
  },
  {
   "cell_type": "code",
   "execution_count": 18,
   "metadata": {},
   "outputs": [],
   "source": [
    "@jit(nopython=True)\n",
    "def test_jit_sum(y1, y2):\n",
    "    return ((y1 - y2)**2).sum()"
   ]
  },
  {
   "cell_type": "code",
   "execution_count": 19,
   "metadata": {},
   "outputs": [
    {
     "data": {
      "text/plain": [
       "6.049072265625"
      ]
     },
     "execution_count": 19,
     "metadata": {},
     "output_type": "execute_result"
    }
   ],
   "source": [
    "test_jit_sum(metalurg_arr, prokuror_arr)"
   ]
  },
  {
   "cell_type": "code",
   "execution_count": 20,
   "metadata": {},
   "outputs": [
    {
     "name": "stdout",
     "output_type": "stream",
     "text": [
      "1.08 µs ± 0.301 ns per loop (mean ± std. dev. of 7 runs, 1000000 loops each)\n"
     ]
    }
   ],
   "source": [
    "%timeit test_jit_sum(metalurg_arr, prokuror_arr)"
   ]
  },
  {
   "cell_type": "code",
   "execution_count": 21,
   "metadata": {},
   "outputs": [],
   "source": [
    "@jit(nopython=True)\n",
    "def test_jit_sum_square(y1, y2):\n",
    "    return (np.power(y1 - y2, 2)).sum()"
   ]
  },
  {
   "cell_type": "code",
   "execution_count": 22,
   "metadata": {},
   "outputs": [
    {
     "data": {
      "text/plain": [
       "6.049072265625"
      ]
     },
     "execution_count": 22,
     "metadata": {},
     "output_type": "execute_result"
    }
   ],
   "source": [
    "test_jit_sum_square(metalurg_arr, prokuror_arr)"
   ]
  },
  {
   "cell_type": "code",
   "execution_count": 23,
   "metadata": {},
   "outputs": [
    {
     "name": "stdout",
     "output_type": "stream",
     "text": [
      "1.07 µs ± 1 ns per loop (mean ± std. dev. of 7 runs, 1000000 loops each)\n"
     ]
    }
   ],
   "source": [
    "%timeit test_jit_sum_square(metalurg_arr, prokuror_arr)"
   ]
  },
  {
   "cell_type": "code",
   "execution_count": 24,
   "metadata": {},
   "outputs": [],
   "source": [
    "prokuror_arr = []\n",
    "prokuror_id  = []\n",
    "for prokuror_elem in prokuror:\n",
    "    prokuror_arr.append(prokuror_elem[\"arr\"])\n",
    "    prokuror_id.append(prokuror_elem[\"sentence_id\"])"
   ]
  },
  {
   "cell_type": "code",
   "execution_count": 25,
   "metadata": {},
   "outputs": [],
   "source": [
    "metalurg_arr = np.array(metalurg[0][\"arr\"])\n",
    "prokuror_arr = np.array(prokuror_arr)\n",
    "prokuror_id = np.array(prokuror_id)"
   ]
  },
  {
   "cell_type": "code",
   "execution_count": 26,
   "metadata": {},
   "outputs": [],
   "source": [
    "def original(metalurg_arr, prokuror_arr, prokuror_id):\n",
    "    prok_dist = []\n",
    "    for prokuror_elem, id in zip(prokuror_arr, prokuror_id):\n",
    "        distance = np.linalg.norm(metalurg_arr - prokuror_elem[0])\n",
    "        prok_dist.append({\"sent\":id, \"dist\": distance})\n",
    "    sorted(prok_dist, key=lambda x: x[\"dist\"])[:3]"
   ]
  },
  {
   "cell_type": "code",
   "execution_count": 54,
   "metadata": {},
   "outputs": [
    {
     "data": {
      "text/plain": [
       "0.0"
      ]
     },
     "execution_count": 54,
     "metadata": {},
     "output_type": "execute_result"
    }
   ],
   "source": [
    "@jit(nopython=True,nogil=True,cache=True, fastmath=True)\n",
    "def linalg(y1, y2):\n",
    "    return np.linalg.norm(y1-y2)\n",
    "\n",
    "def numba_v1(metalurg_arr, prokuror_arr, prokuror_id):\n",
    "    prok_dist = []\n",
    "    for prokuror_elem, id in zip(prokuror_arr, prokuror_id):\n",
    "        distance = linalg(metalurg_arr, prokuror_elem[0])\n",
    "        prok_dist.append({\"sent\":id, \"dist\": distance})\n",
    "    sorted(prok_dist, key=lambda x: x[\"dist\"])[:3]\n",
    "    \n",
    "linalg(np.array([1., 2., 3.]), np.array([1., 2., 3.])) # compile"
   ]
  },
  {
   "cell_type": "code",
   "execution_count": 50,
   "metadata": {},
   "outputs": [
    {
     "data": {
      "text/plain": [
       "(array([1.41421356, 2.23606798, 2.23606798]), array([2, 1, 3]))"
      ]
     },
     "execution_count": 50,
     "metadata": {},
     "output_type": "execute_result"
    }
   ],
   "source": [
    "@jit(nopython=True,nogil=True,cache=True)\n",
    "def test_cycle(metalurg_arr, prokuror_arr, prokuror_id):\n",
    "    prok_dist = np.zeros(prokuror_arr.shape[0], dtype=np.float64)\n",
    "    for i, arr in enumerate(prokuror_arr):\n",
    "        prok_dist[i] = np.linalg.norm(metalurg_arr - arr[0])\n",
    "    indexes = np.argsort(prok_dist)\n",
    "    return prok_dist[indexes][:3], prokuror_id[indexes][:3]\n",
    "test_cycle(np.array([1., 2., 3.]), np.array([[1.], [2.], [3.]]), np.array([1, 2, 3, 4])) # compile"
   ]
  },
  {
   "cell_type": "code",
   "execution_count": 55,
   "metadata": {},
   "outputs": [
    {
     "data": {
      "text/plain": [
       "(array([1.41421356, 2.23606798, 2.23606798]), array([2, 1, 3]))"
      ]
     },
     "execution_count": 55,
     "metadata": {},
     "output_type": "execute_result"
    }
   ],
   "source": [
    "@jit(nopython=True,nogil=True,cache=True)\n",
    "def numba_in_numba(metalurg_arr, prokuror_arr, prokuror_id):\n",
    "    prok_dist = np.zeros(prokuror_arr.shape[0], dtype=np.float64)\n",
    "    for i, arr in enumerate(prokuror_arr):\n",
    "        prok_dist[i] = linalg(metalurg_arr, arr[0])\n",
    "    indexes = np.argsort(prok_dist)\n",
    "    return prok_dist[indexes][:3], prokuror_id[indexes][:3]\n",
    "numba_in_numba(np.array([1., 2., 3.]), np.array([[1.], [2.], [3.]]), np.array([1, 2, 3, 4])) # compile"
   ]
  },
  {
   "cell_type": "code",
   "execution_count": 58,
   "metadata": {},
   "outputs": [
    {
     "name": "stdout",
     "output_type": "stream",
     "text": [
      "5.11 ms ± 69.6 µs per loop (mean ± std. dev. of 7 runs, 100 loops each)\n",
      "1.17 ms ± 4.12 µs per loop (mean ± std. dev. of 7 runs, 1000 loops each)\n",
      "547 µs ± 523 ns per loop (mean ± std. dev. of 7 runs, 1000 loops each)\n",
      "491 µs ± 120 ns per loop (mean ± std. dev. of 7 runs, 1000 loops each)\n"
     ]
    }
   ],
   "source": [
    "%timeit original(metalurg_arr, prokuror_arr, prokuror_id)\n",
    "%timeit numba_v1(metalurg_arr, prokuror_arr, prokuror_id)\n",
    "%timeit test_cycle(metalurg_arr, prokuror_arr, prokuror_id)\n",
    "%timeit numba_in_numba(metalurg_arr, prokuror_arr, prokuror_id)"
   ]
  },
  {
   "cell_type": "markdown",
   "metadata": {},
   "source": [
    "## Other"
   ]
  },
  {
   "cell_type": "code",
   "execution_count": 2,
   "metadata": {},
   "outputs": [],
   "source": [
    "df = pd.read_csv(\"data/metalurg_dist2.csv.zip\", compression=\"zip\", index_col=0)"
   ]
  },
  {
   "cell_type": "code",
   "execution_count": 58,
   "metadata": {},
   "outputs": [
    {
     "data": {
      "text/html": [
       "<div>\n",
       "<style scoped>\n",
       "    .dataframe tbody tr th:only-of-type {\n",
       "        vertical-align: middle;\n",
       "    }\n",
       "\n",
       "    .dataframe tbody tr th {\n",
       "        vertical-align: top;\n",
       "    }\n",
       "\n",
       "    .dataframe thead th {\n",
       "        text-align: right;\n",
       "    }\n",
       "</style>\n",
       "<table border=\"1\" class=\"dataframe\">\n",
       "  <thead>\n",
       "    <tr style=\"text-align: right;\">\n",
       "      <th></th>\n",
       "      <th>metalurg_id</th>\n",
       "      <th>metalurg_inn</th>\n",
       "      <th>prokuror_sentence_id</th>\n",
       "      <th>prokuror_distance</th>\n",
       "    </tr>\n",
       "  </thead>\n",
       "  <tbody>\n",
       "    <tr>\n",
       "      <th>0</th>\n",
       "      <td>58748</td>\n",
       "      <td>3525299900</td>\n",
       "      <td>225412</td>\n",
       "      <td>0.585173</td>\n",
       "    </tr>\n",
       "    <tr>\n",
       "      <th>1</th>\n",
       "      <td>58748</td>\n",
       "      <td>3525299900</td>\n",
       "      <td>659052</td>\n",
       "      <td>0.624990</td>\n",
       "    </tr>\n",
       "    <tr>\n",
       "      <th>2</th>\n",
       "      <td>58748</td>\n",
       "      <td>3525299900</td>\n",
       "      <td>871227</td>\n",
       "      <td>0.624990</td>\n",
       "    </tr>\n",
       "    <tr>\n",
       "      <th>3</th>\n",
       "      <td>58749</td>\n",
       "      <td>3525299900</td>\n",
       "      <td>22032</td>\n",
       "      <td>0.777344</td>\n",
       "    </tr>\n",
       "    <tr>\n",
       "      <th>4</th>\n",
       "      <td>58749</td>\n",
       "      <td>3525299900</td>\n",
       "      <td>715153</td>\n",
       "      <td>0.777344</td>\n",
       "    </tr>\n",
       "  </tbody>\n",
       "</table>\n",
       "</div>"
      ],
      "text/plain": [
       "   metalurg_id metalurg_inn  prokuror_sentence_id  prokuror_distance\n",
       "0        58748   3525299900                225412           0.585173\n",
       "1        58748   3525299900                659052           0.624990\n",
       "2        58748   3525299900                871227           0.624990\n",
       "3        58749   3525299900                 22032           0.777344\n",
       "4        58749   3525299900                715153           0.777344"
      ]
     },
     "execution_count": 58,
     "metadata": {},
     "output_type": "execute_result"
    }
   ],
   "source": [
    "df.head()"
   ]
  },
  {
   "cell_type": "code",
   "execution_count": 59,
   "metadata": {},
   "outputs": [
    {
     "data": {
      "text/plain": [
       "0.0    0.419605\n",
       "0.1    0.490608\n",
       "0.2    0.515041\n",
       "0.3    0.537816\n",
       "0.4    0.561641\n",
       "0.5    0.588030\n",
       "0.6    0.617589\n",
       "0.7    0.648411\n",
       "0.8    0.702091\n",
       "0.9    0.794378\n",
       "Name: prokuror_distance, dtype: float64"
      ]
     },
     "execution_count": 59,
     "metadata": {},
     "output_type": "execute_result"
    }
   ],
   "source": [
    "df[\"prokuror_distance\"].quantile([i/10 for i in range(10)])"
   ]
  },
  {
   "cell_type": "code",
   "execution_count": null,
   "metadata": {},
   "outputs": [],
   "source": []
  }
 ],
 "metadata": {
  "kernelspec": {
   "display_name": "Python [conda env:jupyterbase]",
   "language": "python",
   "name": "conda-env-jupyterbase-py"
  },
  "language_info": {
   "codemirror_mode": {
    "name": "ipython",
    "version": 3
   },
   "file_extension": ".py",
   "mimetype": "text/x-python",
   "name": "python",
   "nbconvert_exporter": "python",
   "pygments_lexer": "ipython3",
   "version": "3.8.8"
  }
 },
 "nbformat": 4,
 "nbformat_minor": 4
}
