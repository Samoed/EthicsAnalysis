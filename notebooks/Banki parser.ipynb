{
 "cells": [
  {
   "cell_type": "code",
   "execution_count": 2,
   "id": "d1f936aa-af45-47ad-97f9-3139f75b0a46",
   "metadata": {},
   "outputs": [
    {
     "name": "stdout",
     "output_type": "stream",
     "text": [
      "Requirement already satisfied: webdriver-manager in /home/samoed/.pyenv/versions/3.10.4/lib/python3.10/site-packages (3.7.1)\n",
      "Requirement already satisfied: python-dotenv in /home/samoed/.pyenv/versions/3.10.4/lib/python3.10/site-packages (from webdriver-manager) (0.20.0)\n",
      "Requirement already satisfied: requests in /home/samoed/.pyenv/versions/3.10.4/lib/python3.10/site-packages (from webdriver-manager) (2.27.1)\n",
      "Requirement already satisfied: urllib3<1.27,>=1.21.1 in /home/samoed/.pyenv/versions/3.10.4/lib/python3.10/site-packages (from requests->webdriver-manager) (1.26.9)\n",
      "Requirement already satisfied: idna<4,>=2.5 in /home/samoed/.pyenv/versions/3.10.4/lib/python3.10/site-packages (from requests->webdriver-manager) (3.3)\n",
      "Requirement already satisfied: certifi>=2017.4.17 in /home/samoed/.pyenv/versions/3.10.4/lib/python3.10/site-packages (from requests->webdriver-manager) (2021.10.8)\n",
      "Requirement already satisfied: charset-normalizer~=2.0.0 in /home/samoed/.pyenv/versions/3.10.4/lib/python3.10/site-packages (from requests->webdriver-manager) (2.0.12)\n",
      "\u001b[33mWARNING: There was an error checking the latest version of pip.\u001b[0m\u001b[33m\n",
      "\u001b[0m"
     ]
    }
   ],
   "source": [
    "# !pip install webdriver-manager # selenium"
   ]
  },
  {
   "cell_type": "code",
   "execution_count": 18,
   "id": "8e4f70ef-575c-425f-bf98-b0829ee9e602",
   "metadata": {},
   "outputs": [],
   "source": [
    "import re\n",
    "from datetime import datetime\n",
    "from math import ceil\n",
    "\n",
    "import requests\n",
    "from bs4 import BeautifulSoup\n",
    "from selenium import webdriver\n",
    "from selenium.webdriver.firefox.service import Service\n",
    "from tqdm.autonotebook import tqdm\n",
    "from webdriver_manager.firefox import GeckoDriverManager"
   ]
  },
  {
   "cell_type": "markdown",
   "id": "4a011465-aed0-4a3d-a6c7-7d4485ec0fb2",
   "metadata": {},
   "source": [
    "# CBR"
   ]
  },
  {
   "cell_type": "code",
   "execution_count": 2,
   "id": "72f93e3c-c08d-4066-a6a8-1189bf5d223b",
   "metadata": {},
   "outputs": [],
   "source": [
    "response = requests.get(\"https://www.cbr.ru/banking_sector/credit/FullCoList/\")\n",
    "page = BeautifulSoup(response.text, \"html.parser\")"
   ]
  },
  {
   "cell_type": "code",
   "execution_count": 3,
   "id": "45706d77-7142-4f75-bc55-e24d84ae3bb0",
   "metadata": {},
   "outputs": [],
   "source": [
    "cbr_bank = []\n",
    "for row in page.find_all(\"tr\")[1:]:\n",
    "    items = row.find_all(\"td\")\n",
    "    license = items[2].text\n",
    "    name = items[4].text.strip()\n",
    "    license_status = items[7].text.strip()\n",
    "    cbr_bank.append({\"license_id\": license, \"name\": name, \"status\": license_status})"
   ]
  },
  {
   "cell_type": "code",
   "execution_count": 24,
   "id": "a1bc6e17-754f-47aa-87cd-189788bb27e3",
   "metadata": {},
   "outputs": [
    {
     "data": {
      "text/plain": [
       "[{'license_id': '2896', 'name': 'ПАО\\xa0АКБ\\xa0«1Банк»', 'status': 'ОТЗ'},\n",
       " {'license_id': '2306', 'name': 'АКБ\\xa0«Абсолют Банк» (ПАО)', 'status': ''},\n",
       " {'license_id': '2879', 'name': 'ПАО\\xa0АКБ\\xa0«АВАНГАРД»', 'status': ''},\n",
       " {'license_id': '415', 'name': 'ООО\\xa0Банк «Аверс»', 'status': ''},\n",
       " {'license_id': '1455', 'name': 'АО\\xa0«Автоградбанк»', 'status': ''}]"
      ]
     },
     "execution_count": 24,
     "metadata": {},
     "output_type": "execute_result"
    }
   ],
   "source": [
    "cbr_bank[:5]"
   ]
  },
  {
   "cell_type": "code",
   "execution_count": 25,
   "id": "65962abc-28ba-4d89-bbcb-d47b412a6a82",
   "metadata": {},
   "outputs": [
    {
     "data": {
      "text/plain": [
       "'ООО«АвтоКредитБанк»'"
      ]
     },
     "execution_count": 25,
     "metadata": {},
     "output_type": "execute_result"
    }
   ],
   "source": [
    "re.sub(\"[\\xa0\\n\\t]\", \"\", cbr_bank[5][\"name\"])"
   ]
  },
  {
   "cell_type": "markdown",
   "id": "f562e4d8-119e-4ba2-879e-f3ac33b3d7e8",
   "metadata": {
    "tags": []
   },
   "source": [
    "## Banki.ru"
   ]
  },
  {
   "cell_type": "code",
   "execution_count": 5,
   "id": "2a317535-0a5c-4e23-8697-a1250c1a75a1",
   "metadata": {},
   "outputs": [
    {
     "name": "stdout",
     "output_type": "stream",
     "text": [
      "\n"
     ]
    },
    {
     "name": "stderr",
     "output_type": "stream",
     "text": [
      "[WDM] - ====== WebDriver manager ======\n",
      "[WDM] - Current firefox version is 102.0\n",
      "[WDM] - Get LATEST geckodriver version for 102.0 firefox\n",
      "[WDM] - Driver [/home/samoed/.wdm/drivers/geckodriver/linux64/v0.31.0/geckodriver] found in cache\n"
     ]
    }
   ],
   "source": [
    "gecko = Service(GeckoDriverManager().install())\n",
    "browser = webdriver.Firefox(service=gecko)"
   ]
  },
  {
   "cell_type": "code",
   "execution_count": 6,
   "id": "b3aa9198-8810-4261-bafc-9e42e9f454c4",
   "metadata": {},
   "outputs": [
    {
     "data": {
      "application/vnd.jupyter.widget-view+json": {
       "model_id": "020213dc552143928c0685c591b88163",
       "version_major": 2,
       "version_minor": 0
      },
      "text/plain": [
       "  0%|          | 0/7 [00:00<?, ?it/s]"
      ]
     },
     "metadata": {},
     "output_type": "display_data"
    }
   ],
   "source": [
    "browser.get(\"https://www.banki.ru/banks/\")\n",
    "page = BeautifulSoup(browser.page_source, \"html.parser\")\n",
    "page_num_text = page.find(\"div\", class_=\"ui-pagination__description\")\n",
    "page_num = ceil(int(page_num_text.text.strip().split()[-1]) / 50)\n",
    "banks = []\n",
    "\n",
    "for i in tqdm(range(1, page_num + 1)):\n",
    "    browser.get(f\"https://www.banki.ru/banks/?PAGEN_1={i}\")\n",
    "    page = BeautifulSoup(browser.page_source, \"html.parser\")\n",
    "    for bank in page.find_all(\"tr\", {\"data-test\": \"banks-list-item\"}):\n",
    "        bank_link = bank.find(\"a\", class_=\"widget__link\")\n",
    "        bank_adress = bank.find(\"div\", {\"data-test\": \"banks-item-address\"})\n",
    "        license_text = bank_adress.find_all(\"span\")[-1].text\n",
    "        license = None\n",
    "        if license_text.find(\"№\") != -1:\n",
    "            license = license_text.split(\"№\")[-1].split()[0]\n",
    "\n",
    "        banks.append(\n",
    "            {\n",
    "                \"url\": bank_link[\"href\"].replace(\"/banks/\", \"https://www.banki.ru/services/responses/\"),\n",
    "                \"name\": bank_link.text,\n",
    "                \"license\": license,\n",
    "            }\n",
    "        )"
   ]
  },
  {
   "cell_type": "code",
   "execution_count": 7,
   "id": "0fa71942-6584-4e43-8374-ff64a4e8a7b8",
   "metadata": {},
   "outputs": [
    {
     "data": {
      "text/plain": [
       "[{'url': 'https://www.banki.ru/services/responses/bank/onlineipoteka/',\n",
       "  'name': 'Online-Ipoteka',\n",
       "  'license': '2210'},\n",
       " {'url': 'https://www.banki.ru/services/responses/bank/talkbank/',\n",
       "  'name': 'TalkBank',\n",
       "  'license': None},\n",
       " {'url': 'https://www.banki.ru/services/responses/bank/vkpay/',\n",
       "  'name': 'VK Pay',\n",
       "  'license': '3511-К'},\n",
       " {'url': 'https://www.banki.ru/services/responses/bank/absolutbank/',\n",
       "  'name': 'Абсолют Банк',\n",
       "  'license': '2306'},\n",
       " {'url': 'https://www.banki.ru/services/responses/bank/avangard/',\n",
       "  'name': 'Авангард',\n",
       "  'license': '2879'}]"
      ]
     },
     "execution_count": 7,
     "metadata": {},
     "output_type": "execute_result"
    }
   ],
   "source": [
    "banks[:5]"
   ]
  },
  {
   "cell_type": "code",
   "execution_count": 8,
   "id": "d3e3c4f4-2edd-422f-854a-125b6705fae7",
   "metadata": {},
   "outputs": [],
   "source": [
    "parsed_time = datetime(2022, 7, 1)\n",
    "start_time = datetime.now()"
   ]
  },
  {
   "cell_type": "code",
   "execution_count": 9,
   "id": "f9e41fd7-8aef-4236-9456-4e794504dcf1",
   "metadata": {
    "scrolled": true,
    "tags": []
   },
   "outputs": [
    {
     "data": {
      "application/vnd.jupyter.widget-view+json": {
       "model_id": "06ab11e6e0674ec3b5b994db7955c2bf",
       "version_major": 2,
       "version_minor": 0
      },
      "text/plain": [
       "  0%|          | 0/348 [00:00<?, ?it/s]"
      ]
     },
     "metadata": {},
     "output_type": "display_data"
    },
    {
     "data": {
      "application/vnd.jupyter.widget-view+json": {
       "model_id": "bf3c9ba9bcab4781a2660be5426bc0a7",
       "version_major": 2,
       "version_minor": 0
      },
      "text/plain": [
       "Online-Ipoteka:   0%|          | 0/1 [00:00<?, ?it/s]"
      ]
     },
     "metadata": {},
     "output_type": "display_data"
    },
    {
     "data": {
      "application/vnd.jupyter.widget-view+json": {
       "model_id": "22049259365a41efad40f2214720b4fe",
       "version_major": 2,
       "version_minor": 0
      },
      "text/plain": [
       "TalkBank:   0%|          | 0/21 [00:00<?, ?it/s]"
      ]
     },
     "metadata": {},
     "output_type": "display_data"
    },
    {
     "data": {
      "application/vnd.jupyter.widget-view+json": {
       "model_id": "20705a45e5d64f90879a33fafb556429",
       "version_major": 2,
       "version_minor": 0
      },
      "text/plain": [
       "VK Pay:   0%|          | 0/1 [00:00<?, ?it/s]"
      ]
     },
     "metadata": {},
     "output_type": "display_data"
    },
    {
     "data": {
      "application/vnd.jupyter.widget-view+json": {
       "model_id": "ecb875bff19747d8929884e45589fca5",
       "version_major": 2,
       "version_minor": 0
      },
      "text/plain": [
       "Абсолют Банк:   0%|          | 0/133 [00:00<?, ?it/s]"
      ]
     },
     "metadata": {},
     "output_type": "display_data"
    },
    {
     "data": {
      "application/vnd.jupyter.widget-view+json": {
       "model_id": "1593284c03954dc48edeb85389b070a0",
       "version_major": 2,
       "version_minor": 0
      },
      "text/plain": [
       "Авангард:   0%|          | 0/243 [00:00<?, ?it/s]"
      ]
     },
     "metadata": {},
     "output_type": "display_data"
    },
    {
     "data": {
      "application/vnd.jupyter.widget-view+json": {
       "model_id": "77da8ca222234b7790565f4ff0c55e1f",
       "version_major": 2,
       "version_minor": 0
      },
      "text/plain": [
       "Аверс:   0%|          | 0/2 [00:00<?, ?it/s]"
      ]
     },
     "metadata": {},
     "output_type": "display_data"
    },
    {
     "data": {
      "application/vnd.jupyter.widget-view+json": {
       "model_id": "67980dd9e43e4dc08c40db0c5f872461",
       "version_major": 2,
       "version_minor": 0
      },
      "text/plain": [
       "Автоградбанк:   0%|          | 0/1 [00:00<?, ?it/s]"
      ]
     },
     "metadata": {},
     "output_type": "display_data"
    },
    {
     "data": {
      "application/vnd.jupyter.widget-view+json": {
       "model_id": "4397ede8dfd244d280dc841cace80d60",
       "version_major": 2,
       "version_minor": 0
      },
      "text/plain": [
       "АвтоКредитБанк:   0%|          | 0/1 [00:00<?, ?it/s]"
      ]
     },
     "metadata": {},
     "output_type": "display_data"
    },
    {
     "data": {
      "application/vnd.jupyter.widget-view+json": {
       "model_id": "00262b3a3a2f44e1a70d1fe8a03013b5",
       "version_major": 2,
       "version_minor": 0
      },
      "text/plain": [
       "Автоторгбанк:   0%|          | 0/1 [00:00<?, ?it/s]"
      ]
     },
     "metadata": {},
     "output_type": "display_data"
    },
    {
     "data": {
      "application/vnd.jupyter.widget-view+json": {
       "model_id": "5047e8e7615145f2a7b50bc38a2fc809",
       "version_major": 2,
       "version_minor": 0
      },
      "text/plain": [
       "Агора:   0%|          | 0/1 [00:00<?, ?it/s]"
      ]
     },
     "metadata": {},
     "output_type": "display_data"
    },
    {
     "data": {
      "application/vnd.jupyter.widget-view+json": {
       "model_id": "09cde98453244097a8ccf01473a80416",
       "version_major": 2,
       "version_minor": 0
      },
      "text/plain": [
       "Агропромкредит:   0%|          | 0/4 [00:00<?, ?it/s]"
      ]
     },
     "metadata": {},
     "output_type": "display_data"
    },
    {
     "data": {
      "application/vnd.jupyter.widget-view+json": {
       "model_id": "73a342f9ba6e43c79d770e230f3f725d",
       "version_major": 2,
       "version_minor": 0
      },
      "text/plain": [
       "Агророс:   0%|          | 0/10 [00:00<?, ?it/s]"
      ]
     },
     "metadata": {},
     "output_type": "display_data"
    },
    {
     "data": {
      "application/vnd.jupyter.widget-view+json": {
       "model_id": "ac082ff1e86b40c788178f68fd18e68a",
       "version_major": 2,
       "version_minor": 0
      },
      "text/plain": [
       "Азиатско-Тихоокеанский Банк:   0%|          | 0/77 [00:00<?, ?it/s]"
      ]
     },
     "metadata": {},
     "output_type": "display_data"
    },
    {
     "data": {
      "application/vnd.jupyter.widget-view+json": {
       "model_id": "002bbf66de57483a822fb1756a5169f2",
       "version_major": 2,
       "version_minor": 0
      },
      "text/plain": [
       "Азия-Инвест Банк:   0%|          | 0/1 [00:00<?, ?it/s]"
      ]
     },
     "metadata": {},
     "output_type": "display_data"
    },
    {
     "data": {
      "application/vnd.jupyter.widget-view+json": {
       "model_id": "0149dab3c1324137ac2847abc3ba19cf",
       "version_major": 2,
       "version_minor": 0
      },
      "text/plain": [
       "АйСиБиСи Банк:   0%|          | 0/1 [00:00<?, ?it/s]"
      ]
     },
     "metadata": {},
     "output_type": "display_data"
    },
    {
     "data": {
      "application/vnd.jupyter.widget-view+json": {
       "model_id": "4a1494996eb34194bf1b81eeff2a16b9",
       "version_major": 2,
       "version_minor": 0
      },
      "text/plain": [
       "Ак Барс:   0%|          | 0/119 [00:00<?, ?it/s]"
      ]
     },
     "metadata": {},
     "output_type": "display_data"
    },
    {
     "data": {
      "application/vnd.jupyter.widget-view+json": {
       "model_id": "f647525aa44c483aa5ebeec9a79208a8",
       "version_major": 2,
       "version_minor": 0
      },
      "text/plain": [
       "Акибанк:   0%|          | 0/2 [00:00<?, ?it/s]"
      ]
     },
     "metadata": {},
     "output_type": "display_data"
    },
    {
     "data": {
      "application/vnd.jupyter.widget-view+json": {
       "model_id": "8b40c1aef7624a7e968d2fdff0967493",
       "version_major": 2,
       "version_minor": 0
      },
      "text/plain": [
       "Александровский:   0%|          | 0/7 [00:00<?, ?it/s]"
      ]
     },
     "metadata": {},
     "output_type": "display_data"
    },
    {
     "data": {
      "application/vnd.jupyter.widget-view+json": {
       "model_id": "505b0a993ab34a9cb6e8878f25e9c2ef",
       "version_major": 2,
       "version_minor": 0
      },
      "text/plain": [
       "Алеф-Банк:   0%|          | 0/2 [00:00<?, ?it/s]"
      ]
     },
     "metadata": {},
     "output_type": "display_data"
    },
    {
     "data": {
      "application/vnd.jupyter.widget-view+json": {
       "model_id": "ece1d9ee18fc4530810d971171749707",
       "version_major": 2,
       "version_minor": 0
      },
      "text/plain": [
       "Алмазэргиэнбанк:   0%|          | 0/1 [00:00<?, ?it/s]"
      ]
     },
     "metadata": {},
     "output_type": "display_data"
    },
    {
     "data": {
      "application/vnd.jupyter.widget-view+json": {
       "model_id": "e9e787b1d4f9471099c4df6e8b4a9de1",
       "version_major": 2,
       "version_minor": 0
      },
      "text/plain": [
       "Алтайкапиталбанк:   0%|          | 0/1 [00:00<?, ?it/s]"
      ]
     },
     "metadata": {},
     "output_type": "display_data"
    },
    {
     "data": {
      "application/vnd.jupyter.widget-view+json": {
       "model_id": "f9d6aaf7616c4f18bb8d2e0b4f9693f7",
       "version_major": 2,
       "version_minor": 0
      },
      "text/plain": [
       "Алтынбанк:   0%|          | 0/1 [00:00<?, ?it/s]"
      ]
     },
     "metadata": {},
     "output_type": "display_data"
    },
    {
     "data": {
      "application/vnd.jupyter.widget-view+json": {
       "model_id": "8612b107a9f748b290a5bae923781c96",
       "version_major": 2,
       "version_minor": 0
      },
      "text/plain": [
       "Альтернатива:   0%|          | 0/1 [00:00<?, ?it/s]"
      ]
     },
     "metadata": {},
     "output_type": "display_data"
    },
    {
     "data": {
      "application/vnd.jupyter.widget-view+json": {
       "model_id": "d614e05719314da490b72b3aabc19034",
       "version_major": 2,
       "version_minor": 0
      },
      "text/plain": [
       "Альфа-Банк:   0%|          | 0/2440 [00:00<?, ?it/s]"
      ]
     },
     "metadata": {},
     "output_type": "display_data"
    },
    {
     "data": {
      "application/vnd.jupyter.widget-view+json": {
       "model_id": "8631edca0cd14288a2c7ac6da4e0dc24",
       "version_major": 2,
       "version_minor": 0
      },
      "text/plain": [
       "Америкэн Экспресс Банк:   0%|          | 0/1 [00:00<?, ?it/s]"
      ]
     },
     "metadata": {},
     "output_type": "display_data"
    },
    {
     "data": {
      "application/vnd.jupyter.widget-view+json": {
       "model_id": "e03de026f241493587048650ce85f446",
       "version_major": 2,
       "version_minor": 0
      },
      "text/plain": [
       "Аресбанк:   0%|          | 0/1 [00:00<?, ?it/s]"
      ]
     },
     "metadata": {},
     "output_type": "display_data"
    },
    {
     "data": {
      "application/vnd.jupyter.widget-view+json": {
       "model_id": "36d812f3b9ab4e70a443a83efa90263e",
       "version_major": 2,
       "version_minor": 0
      },
      "text/plain": [
       "Арзамас:   0%|          | 0/1 [00:00<?, ?it/s]"
      ]
     },
     "metadata": {},
     "output_type": "display_data"
    },
    {
     "data": {
      "application/vnd.jupyter.widget-view+json": {
       "model_id": "79c72f8f32fe4102a3f2795cafe395ac",
       "version_major": 2,
       "version_minor": 0
      },
      "text/plain": [
       "Байкалкредобанк:   0%|          | 0/1 [00:00<?, ?it/s]"
      ]
     },
     "metadata": {},
     "output_type": "display_data"
    },
    {
     "data": {
      "application/vnd.jupyter.widget-view+json": {
       "model_id": "f0feb6d9694f470c99ba4ff26d719355",
       "version_major": 2,
       "version_minor": 0
      },
      "text/plain": [
       "Балаково-Банк:   0%|          | 0/1 [00:00<?, ?it/s]"
      ]
     },
     "metadata": {},
     "output_type": "display_data"
    },
    {
     "data": {
      "application/vnd.jupyter.widget-view+json": {
       "model_id": "ca73ab3476f04fc58234043b9992a0f8",
       "version_major": 2,
       "version_minor": 0
      },
      "text/plain": [
       "Балтинвестбанк:   0%|          | 0/15 [00:00<?, ?it/s]"
      ]
     },
     "metadata": {},
     "output_type": "display_data"
    },
    {
     "data": {
      "application/vnd.jupyter.widget-view+json": {
       "model_id": "6969e959f7d448a39925507901e12d86",
       "version_major": 2,
       "version_minor": 0
      },
      "text/plain": [
       "Банк 131:   0%|          | 0/1 [00:00<?, ?it/s]"
      ]
     },
     "metadata": {},
     "output_type": "display_data"
    },
    {
     "data": {
      "application/vnd.jupyter.widget-view+json": {
       "model_id": "aedc1530407243e08aae87386dd8377c",
       "version_major": 2,
       "version_minor": 0
      },
      "text/plain": [
       "Банк Акцепт:   0%|          | 0/3 [00:00<?, ?it/s]"
      ]
     },
     "metadata": {},
     "output_type": "display_data"
    },
    {
     "data": {
      "application/vnd.jupyter.widget-view+json": {
       "model_id": "4654c668a12a4f2a8ac994d7785495f4",
       "version_major": 2,
       "version_minor": 0
      },
      "text/plain": [
       "Банк Берейт:   0%|          | 0/1 [00:00<?, ?it/s]"
      ]
     },
     "metadata": {},
     "output_type": "display_data"
    },
    {
     "data": {
      "application/vnd.jupyter.widget-view+json": {
       "model_id": "393c04e4f6294c1992166a2172070b89",
       "version_major": 2,
       "version_minor": 0
      },
      "text/plain": [
       "Банк БКФ:   0%|          | 0/4 [00:00<?, ?it/s]"
      ]
     },
     "metadata": {},
     "output_type": "display_data"
    },
    {
     "data": {
      "application/vnd.jupyter.widget-view+json": {
       "model_id": "d1802d937e294f6abf52adaef1f49085",
       "version_major": 2,
       "version_minor": 0
      },
      "text/plain": [
       "Банк Глобус:   0%|          | 0/1 [00:00<?, ?it/s]"
      ]
     },
     "metadata": {},
     "output_type": "display_data"
    },
    {
     "data": {
      "application/vnd.jupyter.widget-view+json": {
       "model_id": "22bf3d84f20945bb82a8e13404305a18",
       "version_major": 2,
       "version_minor": 0
      },
      "text/plain": [
       "Банк ДОМ.РФ:   0%|          | 0/263 [00:00<?, ?it/s]"
      ]
     },
     "metadata": {},
     "output_type": "display_data"
    },
    {
     "data": {
      "application/vnd.jupyter.widget-view+json": {
       "model_id": "2df73255dcea4e5085c45638b5e26396",
       "version_major": 2,
       "version_minor": 0
      },
      "text/plain": [
       "Банк Жилищного Финансирования:   0%|          | 0/25 [00:00<?, ?it/s]"
      ]
     },
     "metadata": {},
     "output_type": "display_data"
    },
    {
     "data": {
      "application/vnd.jupyter.widget-view+json": {
       "model_id": "dc216e47d63c4ee09b59390b5b43f2a8",
       "version_major": 2,
       "version_minor": 0
      },
      "text/plain": [
       "Банк Заречье:   0%|          | 0/1 [00:00<?, ?it/s]"
      ]
     },
     "metadata": {},
     "output_type": "display_data"
    },
    {
     "data": {
      "application/vnd.jupyter.widget-view+json": {
       "model_id": "210bc00e169a47729f8cf5d6a5efbd0c",
       "version_major": 2,
       "version_minor": 0
      },
      "text/plain": [
       "Банк Зенит:   0%|          | 0/62 [00:00<?, ?it/s]"
      ]
     },
     "metadata": {},
     "output_type": "display_data"
    },
    {
     "data": {
      "application/vnd.jupyter.widget-view+json": {
       "model_id": "6043541465994c7cb9b3bafa2f32583c",
       "version_major": 2,
       "version_minor": 0
      },
      "text/plain": [
       "Банк Интеза:   0%|          | 0/16 [00:00<?, ?it/s]"
      ]
     },
     "metadata": {},
     "output_type": "display_data"
    },
    {
     "data": {
      "application/vnd.jupyter.widget-view+json": {
       "model_id": "e63333303d3f48f587744242cddc4090",
       "version_major": 2,
       "version_minor": 0
      },
      "text/plain": [
       "Банк Казани:   0%|          | 0/8 [00:00<?, ?it/s]"
      ]
     },
     "metadata": {},
     "output_type": "display_data"
    },
    {
     "data": {
      "application/vnd.jupyter.widget-view+json": {
       "model_id": "79953e2273674b11a6fe67969df52ad3",
       "version_major": 2,
       "version_minor": 0
      },
      "text/plain": [
       "Банк Кремлевский:   0%|          | 0/1 [00:00<?, ?it/s]"
      ]
     },
     "metadata": {},
     "output_type": "display_data"
    },
    {
     "data": {
      "application/vnd.jupyter.widget-view+json": {
       "model_id": "88dd69b69840444ea9df485f1789fa51",
       "version_major": 2,
       "version_minor": 0
      },
      "text/plain": [
       "Банк Оранжевый:   0%|          | 0/9 [00:00<?, ?it/s]"
      ]
     },
     "metadata": {},
     "output_type": "display_data"
    },
    {
     "data": {
      "application/vnd.jupyter.widget-view+json": {
       "model_id": "59d634f38ed841069ab20bb7543c3e2d",
       "version_major": 2,
       "version_minor": 0
      },
      "text/plain": [
       "Банк Оренбург:   0%|          | 0/1 [00:00<?, ?it/s]"
      ]
     },
     "metadata": {},
     "output_type": "display_data"
    },
    {
     "data": {
      "application/vnd.jupyter.widget-view+json": {
       "model_id": "b60202db96fd4e1e833097780fee72eb",
       "version_major": 2,
       "version_minor": 0
      },
      "text/plain": [
       "Банк Открытие:   0%|          | 0/1803 [00:00<?, ?it/s]"
      ]
     },
     "metadata": {},
     "output_type": "display_data"
    },
    {
     "data": {
      "application/vnd.jupyter.widget-view+json": {
       "model_id": "1f5f5a8dddd048539bb2c9ffc8d240fb",
       "version_major": 2,
       "version_minor": 0
      },
      "text/plain": [
       "Банк Пермь:   0%|          | 0/1 [00:00<?, ?it/s]"
      ]
     },
     "metadata": {},
     "output_type": "display_data"
    },
    {
     "data": {
      "application/vnd.jupyter.widget-view+json": {
       "model_id": "1f5d9fc02af6448c9211407287b398fa",
       "version_major": 2,
       "version_minor": 0
      },
      "text/plain": [
       "Банк Раунд:   0%|          | 0/30 [00:00<?, ?it/s]"
      ]
     },
     "metadata": {},
     "output_type": "display_data"
    },
    {
     "data": {
      "application/vnd.jupyter.widget-view+json": {
       "model_id": "14725df69c6b4ea2966ec82d8938121d",
       "version_major": 2,
       "version_minor": 0
      },
      "text/plain": [
       "Банк РМП:   0%|          | 0/1 [00:00<?, ?it/s]"
      ]
     },
     "metadata": {},
     "output_type": "display_data"
    },
    {
     "data": {
      "application/vnd.jupyter.widget-view+json": {
       "model_id": "cc9bcaa94e6e4b50b4dd777ace392368",
       "version_major": 2,
       "version_minor": 0
      },
      "text/plain": [
       "Банк «Санкт-Петербург»:   0%|          | 0/119 [00:00<?, ?it/s]"
      ]
     },
     "metadata": {},
     "output_type": "display_data"
    },
    {
     "data": {
      "application/vnd.jupyter.widget-view+json": {
       "model_id": "bb5fe4dcfa7c45c98f65d4f3fbc0d3f3",
       "version_major": 2,
       "version_minor": 0
      },
      "text/plain": [
       "Банк Синара (СКБ-банк):   0%|          | 0/82 [00:00<?, ?it/s]"
      ]
     },
     "metadata": {},
     "output_type": "display_data"
    },
    {
     "data": {
      "application/vnd.jupyter.widget-view+json": {
       "model_id": "0e91de7c167d4a73825d6f82c61e9c15",
       "version_major": 2,
       "version_minor": 0
      },
      "text/plain": [
       "Банк Уралсиб:   0%|          | 0/240 [00:00<?, ?it/s]"
      ]
     },
     "metadata": {},
     "output_type": "display_data"
    },
    {
     "data": {
      "application/vnd.jupyter.widget-view+json": {
       "model_id": "1800059532c549208c68b8a8f23f06df",
       "version_major": 2,
       "version_minor": 0
      },
      "text/plain": [
       "Банк Финсервис:   0%|          | 0/12 [00:00<?, ?it/s]"
      ]
     },
     "metadata": {},
     "output_type": "display_data"
    },
    {
     "data": {
      "application/vnd.jupyter.widget-view+json": {
       "model_id": "0dd59f9f0404422c969f9cf7dcf06f74",
       "version_major": 2,
       "version_minor": 0
      },
      "text/plain": [
       "Банк Фридом Финанс:   0%|          | 0/14 [00:00<?, ?it/s]"
      ]
     },
     "metadata": {},
     "output_type": "display_data"
    },
    {
     "data": {
      "application/vnd.jupyter.widget-view+json": {
       "model_id": "94f5c932e3994a9b9beaa53196f3a663",
       "version_major": 2,
       "version_minor": 0
      },
      "text/plain": [
       "ББР Банк:   0%|          | 0/7 [00:00<?, ?it/s]"
      ]
     },
     "metadata": {},
     "output_type": "display_data"
    },
    {
     "data": {
      "application/vnd.jupyter.widget-view+json": {
       "model_id": "07adf10f7992482aa1d54d881765ac4a",
       "version_major": 2,
       "version_minor": 0
      },
      "text/plain": [
       "Белгородсоцбанк:   0%|          | 0/1 [00:00<?, ?it/s]"
      ]
     },
     "metadata": {},
     "output_type": "display_data"
    },
    {
     "data": {
      "application/vnd.jupyter.widget-view+json": {
       "model_id": "15c541af30f7409ea67e6740e65c9e1c",
       "version_major": 2,
       "version_minor": 0
      },
      "text/plain": [
       "БКС Банк:   0%|          | 0/71 [00:00<?, ?it/s]"
      ]
     },
     "metadata": {},
     "output_type": "display_data"
    },
    {
     "data": {
      "application/vnd.jupyter.widget-view+json": {
       "model_id": "bdebbdce9a3849b4b41b747cdbd5d1d8",
       "version_major": 2,
       "version_minor": 0
      },
      "text/plain": [
       "Бланк Банк:   0%|          | 0/7 [00:00<?, ?it/s]"
      ]
     },
     "metadata": {},
     "output_type": "display_data"
    },
    {
     "data": {
      "application/vnd.jupyter.widget-view+json": {
       "model_id": "268b3d1399cc4aa7aba27dde128a2a5c",
       "version_major": 2,
       "version_minor": 0
      },
      "text/plain": [
       "БМ-Банк:   0%|          | 0/1 [00:00<?, ?it/s]"
      ]
     },
     "metadata": {},
     "output_type": "display_data"
    },
    {
     "data": {
      "application/vnd.jupyter.widget-view+json": {
       "model_id": "b75aa3babdea4cbbad4671cfa0fec624",
       "version_major": 2,
       "version_minor": 0
      },
      "text/plain": [
       "БМВ Банк:   0%|          | 0/6 [00:00<?, ?it/s]"
      ]
     },
     "metadata": {},
     "output_type": "display_data"
    },
    {
     "data": {
      "application/vnd.jupyter.widget-view+json": {
       "model_id": "936b92ec71eb4db093593b584b965069",
       "version_major": 2,
       "version_minor": 0
      },
      "text/plain": [
       "БНП Париба Банк:   0%|          | 0/27 [00:00<?, ?it/s]"
      ]
     },
     "metadata": {},
     "output_type": "display_data"
    },
    {
     "data": {
      "application/vnd.jupyter.widget-view+json": {
       "model_id": "ce7078a3763a420baf6fd7240cd5272a",
       "version_major": 2,
       "version_minor": 0
      },
      "text/plain": [
       "Братский АНКБ:   0%|          | 0/1 [00:00<?, ?it/s]"
      ]
     },
     "metadata": {},
     "output_type": "display_data"
    },
    {
     "data": {
      "application/vnd.jupyter.widget-view+json": {
       "model_id": "8bbabc381be34152a363898171363fae",
       "version_major": 2,
       "version_minor": 0
      },
      "text/plain": [
       "БСТ-Банк:   0%|          | 0/1 [00:00<?, ?it/s]"
      ]
     },
     "metadata": {},
     "output_type": "display_data"
    },
    {
     "data": {
      "application/vnd.jupyter.widget-view+json": {
       "model_id": "ac3e5f9d8eaa406d991c6ad8c6aebf50",
       "version_major": 2,
       "version_minor": 0
      },
      "text/plain": [
       "БыстроБанк:   0%|          | 0/23 [00:00<?, ?it/s]"
      ]
     },
     "metadata": {},
     "output_type": "display_data"
    },
    {
     "data": {
      "application/vnd.jupyter.widget-view+json": {
       "model_id": "e0c9e389104847d59eb19adc38078c40",
       "version_major": 2,
       "version_minor": 0
      },
      "text/plain": [
       "Бэнк оф Чайна:   0%|          | 0/1 [00:00<?, ?it/s]"
      ]
     },
     "metadata": {},
     "output_type": "display_data"
    },
    {
     "data": {
      "application/vnd.jupyter.widget-view+json": {
       "model_id": "ee686fc23dbd4a26b60504d5e8cfb1f7",
       "version_major": 2,
       "version_minor": 0
      },
      "text/plain": [
       "Вайлдберриз Банк:   0%|          | 0/1 [00:00<?, ?it/s]"
      ]
     },
     "metadata": {},
     "output_type": "display_data"
    },
    {
     "data": {
      "application/vnd.jupyter.widget-view+json": {
       "model_id": "89f3ade3007246998baf97950566e6da",
       "version_major": 2,
       "version_minor": 0
      },
      "text/plain": [
       "Вакобанк:   0%|          | 0/1 [00:00<?, ?it/s]"
      ]
     },
     "metadata": {},
     "output_type": "display_data"
    },
    {
     "data": {
      "application/vnd.jupyter.widget-view+json": {
       "model_id": "0d7a7b248f164a5b894e83ebca6a03fe",
       "version_major": 2,
       "version_minor": 0
      },
      "text/plain": [
       "Великие Луки Банк:   0%|          | 0/1 [00:00<?, ?it/s]"
      ]
     },
     "metadata": {},
     "output_type": "display_data"
    },
    {
     "data": {
      "application/vnd.jupyter.widget-view+json": {
       "model_id": "2882d0c422864d21b6fa2a175d09346a",
       "version_major": 2,
       "version_minor": 0
      },
      "text/plain": [
       "Венец:   0%|          | 0/1 [00:00<?, ?it/s]"
      ]
     },
     "metadata": {},
     "output_type": "display_data"
    },
    {
     "data": {
      "application/vnd.jupyter.widget-view+json": {
       "model_id": "94e11e0b1e804c79a472c3902b4adc0d",
       "version_major": 2,
       "version_minor": 0
      },
      "text/plain": [
       "Веста Банк:   0%|          | 0/7 [00:00<?, ?it/s]"
      ]
     },
     "metadata": {},
     "output_type": "display_data"
    },
    {
     "data": {
      "application/vnd.jupyter.widget-view+json": {
       "model_id": "049d69ecd38b4ba1899c3642dc0ee8d2",
       "version_major": 2,
       "version_minor": 0
      },
      "text/plain": [
       "Викинг:   0%|          | 0/1 [00:00<?, ?it/s]"
      ]
     },
     "metadata": {},
     "output_type": "display_data"
    },
    {
     "data": {
      "application/vnd.jupyter.widget-view+json": {
       "model_id": "fcf13db24a374bd3b1a5e31fb80f4b2a",
       "version_major": 2,
       "version_minor": 0
      },
      "text/plain": [
       "Витабанк:   0%|          | 0/1 [00:00<?, ?it/s]"
      ]
     },
     "metadata": {},
     "output_type": "display_data"
    },
    {
     "data": {
      "application/vnd.jupyter.widget-view+json": {
       "model_id": "614eb427d26a4fc686ab9970f15238d0",
       "version_major": 2,
       "version_minor": 0
      },
      "text/plain": [
       "Владбизнесбанк:   0%|          | 0/1 [00:00<?, ?it/s]"
      ]
     },
     "metadata": {},
     "output_type": "display_data"
    },
    {
     "data": {
      "application/vnd.jupyter.widget-view+json": {
       "model_id": "500c842671324a31bde36d46b89da94d",
       "version_major": 2,
       "version_minor": 0
      },
      "text/plain": [
       "Внешфинбанк:   0%|          | 0/3 [00:00<?, ?it/s]"
      ]
     },
     "metadata": {},
     "output_type": "display_data"
    },
    {
     "data": {
      "application/vnd.jupyter.widget-view+json": {
       "model_id": "c58e3a6c42414f41a52d1b27277cdd48",
       "version_major": 2,
       "version_minor": 0
      },
      "text/plain": [
       "Вологжанин:   0%|          | 0/1 [00:00<?, ?it/s]"
      ]
     },
     "metadata": {},
     "output_type": "display_data"
    },
    {
     "data": {
      "application/vnd.jupyter.widget-view+json": {
       "model_id": "9377b1a0b9384d2da9b61a8d109a454e",
       "version_major": 2,
       "version_minor": 0
      },
      "text/plain": [
       "Всероссийский Банк Развития Регионов:   0%|          | 0/10 [00:00<?, ?it/s]"
      ]
     },
     "metadata": {},
     "output_type": "display_data"
    },
    {
     "data": {
      "application/vnd.jupyter.widget-view+json": {
       "model_id": "55a34342020f4359b169b0b74361ddd9",
       "version_major": 2,
       "version_minor": 0
      },
      "text/plain": [
       "ВТБ:   0%|          | 0/3632 [00:00<?, ?it/s]"
      ]
     },
     "metadata": {},
     "output_type": "display_data"
    },
    {
     "data": {
      "application/vnd.jupyter.widget-view+json": {
       "model_id": "dc8d0ab1b301473ca4f0462c7c81d7c2",
       "version_major": 2,
       "version_minor": 0
      },
      "text/plain": [
       "ВУЗ-Банк:   0%|          | 0/12 [00:00<?, ?it/s]"
      ]
     },
     "metadata": {},
     "output_type": "display_data"
    },
    {
     "data": {
      "application/vnd.jupyter.widget-view+json": {
       "model_id": "c72eddaa6afa4c3fa0198b8080f3503c",
       "version_major": 2,
       "version_minor": 0
      },
      "text/plain": [
       "ВЭБ:   0%|          | 0/1 [00:00<?, ?it/s]"
      ]
     },
     "metadata": {},
     "output_type": "display_data"
    },
    {
     "data": {
      "application/vnd.jupyter.widget-view+json": {
       "model_id": "cf1fc14429324f35b6496feed7336cb3",
       "version_major": 2,
       "version_minor": 0
      },
      "text/plain": [
       "Вятич:   0%|          | 0/1 [00:00<?, ?it/s]"
      ]
     },
     "metadata": {},
     "output_type": "display_data"
    },
    {
     "data": {
      "application/vnd.jupyter.widget-view+json": {
       "model_id": "e18e637d07334eb39776c34d6d7654a2",
       "version_major": 2,
       "version_minor": 0
      },
      "text/plain": [
       "Газнефтьбанк:   0%|          | 0/1 [00:00<?, ?it/s]"
      ]
     },
     "metadata": {},
     "output_type": "display_data"
    },
    {
     "data": {
      "application/vnd.jupyter.widget-view+json": {
       "model_id": "d1a7c349fad140d780c6bf5ff01cc8cb",
       "version_major": 2,
       "version_minor": 0
      },
      "text/plain": [
       "Газпромбанк:   0%|          | 0/509 [00:00<?, ?it/s]"
      ]
     },
     "metadata": {},
     "output_type": "display_data"
    },
    {
     "data": {
      "application/vnd.jupyter.widget-view+json": {
       "model_id": "39d954aee65845eba1dbda71a91fe0f7",
       "version_major": 2,
       "version_minor": 0
      },
      "text/plain": [
       "Газтрансбанк:   0%|          | 0/1 [00:00<?, ?it/s]"
      ]
     },
     "metadata": {},
     "output_type": "display_data"
    },
    {
     "data": {
      "application/vnd.jupyter.widget-view+json": {
       "model_id": "7145b4c6c9d54e76a96d389fad099efd",
       "version_major": 2,
       "version_minor": 0
      },
      "text/plain": [
       "Газэнергобанк:   0%|          | 0/7 [00:00<?, ?it/s]"
      ]
     },
     "metadata": {},
     "output_type": "display_data"
    },
    {
     "data": {
      "application/vnd.jupyter.widget-view+json": {
       "model_id": "21b845e13d0b48999e36a5b2b797e576",
       "version_major": 2,
       "version_minor": 0
      },
      "text/plain": [
       "Гарант-Инвест:   0%|          | 0/2 [00:00<?, ?it/s]"
      ]
     },
     "metadata": {},
     "output_type": "display_data"
    },
    {
     "data": {
      "application/vnd.jupyter.widget-view+json": {
       "model_id": "24f6b5d38f6f4173ab0fd944b086f6a0",
       "version_major": 2,
       "version_minor": 0
      },
      "text/plain": [
       "Генбанк:   0%|          | 0/6 [00:00<?, ?it/s]"
      ]
     },
     "metadata": {},
     "output_type": "display_data"
    },
    {
     "data": {
      "application/vnd.jupyter.widget-view+json": {
       "model_id": "d16fe490da5b48cc87d263f2e4088062",
       "version_major": 2,
       "version_minor": 0
      },
      "text/plain": [
       "Гефест:   0%|          | 0/1 [00:00<?, ?it/s]"
      ]
     },
     "metadata": {},
     "output_type": "display_data"
    },
    {
     "data": {
      "application/vnd.jupyter.widget-view+json": {
       "model_id": "432cbbe735d144e89e09a78e18ed6617",
       "version_major": 2,
       "version_minor": 0
      },
      "text/plain": [
       "Горбанк:   0%|          | 0/1 [00:00<?, ?it/s]"
      ]
     },
     "metadata": {},
     "output_type": "display_data"
    },
    {
     "data": {
      "application/vnd.jupyter.widget-view+json": {
       "model_id": "fa0d2e3d6c514213b5ad8294b7b9c358",
       "version_major": 2,
       "version_minor": 0
      },
      "text/plain": [
       "Гута-Банк:   0%|          | 0/6 [00:00<?, ?it/s]"
      ]
     },
     "metadata": {},
     "output_type": "display_data"
    },
    {
     "data": {
      "application/vnd.jupyter.widget-view+json": {
       "model_id": "64a95219997c4a0cbe0697b1547eeee2",
       "version_major": 2,
       "version_minor": 0
      },
      "text/plain": [
       "Далена Банк:   0%|          | 0/2 [00:00<?, ?it/s]"
      ]
     },
     "metadata": {},
     "output_type": "display_data"
    },
    {
     "data": {
      "application/vnd.jupyter.widget-view+json": {
       "model_id": "6fa3d5a307334ad7a32a0f69829bbaae",
       "version_major": 2,
       "version_minor": 0
      },
      "text/plain": [
       "Дальневосточный Банк:   0%|          | 0/3 [00:00<?, ?it/s]"
      ]
     },
     "metadata": {},
     "output_type": "display_data"
    },
    {
     "data": {
      "application/vnd.jupyter.widget-view+json": {
       "model_id": "09828bc873734405b5d3976a15077132",
       "version_major": 2,
       "version_minor": 0
      },
      "text/plain": [
       "Датабанк:   0%|          | 0/2 [00:00<?, ?it/s]"
      ]
     },
     "metadata": {},
     "output_type": "display_data"
    },
    {
     "data": {
      "application/vnd.jupyter.widget-view+json": {
       "model_id": "0ed5f553f6f748488e84364c69680833",
       "version_major": 2,
       "version_minor": 0
      },
      "text/plain": [
       "ДелоБанк:   0%|          | 0/13 [00:00<?, ?it/s]"
      ]
     },
     "metadata": {},
     "output_type": "display_data"
    },
    {
     "data": {
      "application/vnd.jupyter.widget-view+json": {
       "model_id": "61e1243dc9744c39aa13c1dcdd011a25",
       "version_major": 2,
       "version_minor": 0
      },
      "text/plain": [
       "Денизбанк Москва:   0%|          | 0/1 [00:00<?, ?it/s]"
      ]
     },
     "metadata": {},
     "output_type": "display_data"
    },
    {
     "data": {
      "application/vnd.jupyter.widget-view+json": {
       "model_id": "9bdc374e167347c9b7e3f5154661342d",
       "version_major": 2,
       "version_minor": 0
      },
      "text/plain": [
       "Держава:   0%|          | 0/1 [00:00<?, ?it/s]"
      ]
     },
     "metadata": {},
     "output_type": "display_data"
    },
    {
     "data": {
      "application/vnd.jupyter.widget-view+json": {
       "model_id": "868811588327458db54ddb451765f19d",
       "version_major": 2,
       "version_minor": 0
      },
      "text/plain": [
       "Джей энд Ти Банк:   0%|          | 0/2 [00:00<?, ?it/s]"
      ]
     },
     "metadata": {},
     "output_type": "display_data"
    },
    {
     "data": {
      "application/vnd.jupyter.widget-view+json": {
       "model_id": "6fc16ff1ef654b4f85391fa81d5c970a",
       "version_major": 2,
       "version_minor": 0
      },
      "text/plain": [
       "Дойче Банк:   0%|          | 0/1 [00:00<?, ?it/s]"
      ]
     },
     "metadata": {},
     "output_type": "display_data"
    },
    {
     "data": {
      "application/vnd.jupyter.widget-view+json": {
       "model_id": "56a096850ec246599e880e8ff6bf5562",
       "version_major": 2,
       "version_minor": 0
      },
      "text/plain": [
       "Донкомбанк:   0%|          | 0/1 [00:00<?, ?it/s]"
      ]
     },
     "metadata": {},
     "output_type": "display_data"
    },
    {
     "data": {
      "application/vnd.jupyter.widget-view+json": {
       "model_id": "5f031d0a080a4f4fb4906d9800b15d13",
       "version_major": 2,
       "version_minor": 0
      },
      "text/plain": [
       "Евроальянс:   0%|          | 0/1 [00:00<?, ?it/s]"
      ]
     },
     "metadata": {},
     "output_type": "display_data"
    },
    {
     "data": {
      "application/vnd.jupyter.widget-view+json": {
       "model_id": "b1b8c1d6f2ab4050a16d10f68edc43e8",
       "version_major": 2,
       "version_minor": 0
      },
      "text/plain": [
       "Еврофинанс Моснарбанк:   0%|          | 0/1 [00:00<?, ?it/s]"
      ]
     },
     "metadata": {},
     "output_type": "display_data"
    },
    {
     "data": {
      "application/vnd.jupyter.widget-view+json": {
       "model_id": "f666a9a062074e318b0777db602cec33",
       "version_major": 2,
       "version_minor": 0
      },
      "text/plain": [
       "Екатеринбург:   0%|          | 0/1 [00:00<?, ?it/s]"
      ]
     },
     "metadata": {},
     "output_type": "display_data"
    },
    {
     "data": {
      "application/vnd.jupyter.widget-view+json": {
       "model_id": "b5f80ebf39944ee883f706cfd2f3337d",
       "version_major": 2,
       "version_minor": 0
      },
      "text/plain": [
       "Еком Банк:   0%|          | 0/1 [00:00<?, ?it/s]"
      ]
     },
     "metadata": {},
     "output_type": "display_data"
    },
    {
     "data": {
      "application/vnd.jupyter.widget-view+json": {
       "model_id": "b361099bc7dc4891985007746e867553",
       "version_major": 2,
       "version_minor": 0
      },
      "text/plain": [
       "Енисейский Объединенный Банк:   0%|          | 0/2 [00:00<?, ?it/s]"
      ]
     },
     "metadata": {},
     "output_type": "display_data"
    },
    {
     "data": {
      "application/vnd.jupyter.widget-view+json": {
       "model_id": "b115037b7c464c0c90feac51b978c7b8",
       "version_major": 2,
       "version_minor": 0
      },
      "text/plain": [
       "Ермак:   0%|          | 0/1 [00:00<?, ?it/s]"
      ]
     },
     "metadata": {},
     "output_type": "display_data"
    },
    {
     "data": {
      "application/vnd.jupyter.widget-view+json": {
       "model_id": "327a02ecee1f464a9965b77c3caaf7d0",
       "version_major": 2,
       "version_minor": 0
      },
      "text/plain": [
       "Живаго Банк:   0%|          | 0/1 [00:00<?, ?it/s]"
      ]
     },
     "metadata": {},
     "output_type": "display_data"
    },
    {
     "data": {
      "application/vnd.jupyter.widget-view+json": {
       "model_id": "106128d7b0144f7580403894884cfaa9",
       "version_major": 2,
       "version_minor": 0
      },
      "text/plain": [
       "Земкомбанк:   0%|          | 0/1 [00:00<?, ?it/s]"
      ]
     },
     "metadata": {},
     "output_type": "display_data"
    },
    {
     "data": {
      "application/vnd.jupyter.widget-view+json": {
       "model_id": "9394ee1f1e3f4040b216ce0551f2de07",
       "version_major": 2,
       "version_minor": 0
      },
      "text/plain": [
       "Земский Банк:   0%|          | 0/1 [00:00<?, ?it/s]"
      ]
     },
     "metadata": {},
     "output_type": "display_data"
    },
    {
     "data": {
      "application/vnd.jupyter.widget-view+json": {
       "model_id": "d43c4a828b9348ddaa2c471b914f23dc",
       "version_major": 2,
       "version_minor": 0
      },
      "text/plain": [
       "Зираат Банк:   0%|          | 0/1 [00:00<?, ?it/s]"
      ]
     },
     "metadata": {},
     "output_type": "display_data"
    },
    {
     "data": {
      "application/vnd.jupyter.widget-view+json": {
       "model_id": "eaf009210db844259de1198192694518",
       "version_major": 2,
       "version_minor": 0
      },
      "text/plain": [
       "Икано Банк:   0%|          | 0/14 [00:00<?, ?it/s]"
      ]
     },
     "metadata": {},
     "output_type": "display_data"
    },
    {
     "data": {
      "application/vnd.jupyter.widget-view+json": {
       "model_id": "9f70261f547142f29b1fa9895101d6dd",
       "version_major": 2,
       "version_minor": 0
      },
      "text/plain": [
       "ИК Банк:   0%|          | 0/1 [00:00<?, ?it/s]"
      ]
     },
     "metadata": {},
     "output_type": "display_data"
    },
    {
     "data": {
      "application/vnd.jupyter.widget-view+json": {
       "model_id": "311c26cd4bea477a82d135c392acc474",
       "version_major": 2,
       "version_minor": 0
      },
      "text/plain": [
       "Инбанк:   0%|          | 0/1 [00:00<?, ?it/s]"
      ]
     },
     "metadata": {},
     "output_type": "display_data"
    },
    {
     "data": {
      "application/vnd.jupyter.widget-view+json": {
       "model_id": "9973429582404b80a2acb853b861b8d8",
       "version_major": 2,
       "version_minor": 0
      },
      "text/plain": [
       "Инвестторгбанк:   0%|          | 0/31 [00:00<?, ?it/s]"
      ]
     },
     "metadata": {},
     "output_type": "display_data"
    },
    {
     "data": {
      "application/vnd.jupyter.widget-view+json": {
       "model_id": "e92c214983f7410e97f30072674d3fc4",
       "version_major": 2,
       "version_minor": 0
      },
      "text/plain": [
       "ИНГ Банк:   0%|          | 0/1 [00:00<?, ?it/s]"
      ]
     },
     "metadata": {},
     "output_type": "display_data"
    },
    {
     "data": {
      "application/vnd.jupyter.widget-view+json": {
       "model_id": "06d5124cb071475d88b00ee1ff9756e8",
       "version_major": 2,
       "version_minor": 0
      },
      "text/plain": [
       "Индустриальный Сберегательный Банк:   0%|          | 0/1 [00:00<?, ?it/s]"
      ]
     },
     "metadata": {},
     "output_type": "display_data"
    },
    {
     "data": {
      "application/vnd.jupyter.widget-view+json": {
       "model_id": "072e5d078f3741f384f8752ec11f8d62",
       "version_major": 2,
       "version_minor": 0
      },
      "text/plain": [
       "Интерпрогрессбанк:   0%|          | 0/7 [00:00<?, ?it/s]"
      ]
     },
     "metadata": {},
     "output_type": "display_data"
    },
    {
     "data": {
      "application/vnd.jupyter.widget-view+json": {
       "model_id": "429208039e0f42dd8debde0545803fa5",
       "version_major": 2,
       "version_minor": 0
      },
      "text/plain": [
       "ИТ Банк:   0%|          | 0/1 [00:00<?, ?it/s]"
      ]
     },
     "metadata": {},
     "output_type": "display_data"
    },
    {
     "data": {
      "application/vnd.jupyter.widget-view+json": {
       "model_id": "5bf399e8020446ad806e76af8ce4f8dd",
       "version_major": 2,
       "version_minor": 0
      },
      "text/plain": [
       "Итуруп:   0%|          | 0/1 [00:00<?, ?it/s]"
      ]
     },
     "metadata": {},
     "output_type": "display_data"
    },
    {
     "data": {
      "application/vnd.jupyter.widget-view+json": {
       "model_id": "63657ec264254d90866bf187551a7c14",
       "version_major": 2,
       "version_minor": 0
      },
      "text/plain": [
       "Ишбанк:   0%|          | 0/1 [00:00<?, ?it/s]"
      ]
     },
     "metadata": {},
     "output_type": "display_data"
    },
    {
     "data": {
      "application/vnd.jupyter.widget-view+json": {
       "model_id": "a6ee64991cd1461ca50863cf8200174c",
       "version_major": 2,
       "version_minor": 0
      },
      "text/plain": [
       "Йошкар-Ола:   0%|          | 0/1 [00:00<?, ?it/s]"
      ]
     },
     "metadata": {},
     "output_type": "display_data"
    },
    {
     "data": {
      "application/vnd.jupyter.widget-view+json": {
       "model_id": "69d0dc9a6a904ade846921cf2f303bda",
       "version_major": 2,
       "version_minor": 0
      },
      "text/plain": [
       "Камский Коммерческий Банк:   0%|          | 0/1 [00:00<?, ?it/s]"
      ]
     },
     "metadata": {},
     "output_type": "display_data"
    },
    {
     "data": {
      "application/vnd.jupyter.widget-view+json": {
       "model_id": "26cfe7c84d624ae1bdeede4bb0b258c4",
       "version_major": 2,
       "version_minor": 0
      },
      "text/plain": [
       "Кетовский Коммерческий Банк:   0%|          | 0/1 [00:00<?, ?it/s]"
      ]
     },
     "metadata": {},
     "output_type": "display_data"
    },
    {
     "data": {
      "application/vnd.jupyter.widget-view+json": {
       "model_id": "a8630345fa39484a8781556a6fde8631",
       "version_major": 2,
       "version_minor": 0
      },
      "text/plain": [
       "КИВИ Банк:   0%|          | 0/311 [00:00<?, ?it/s]"
      ]
     },
     "metadata": {},
     "output_type": "display_data"
    },
    {
     "data": {
      "application/vnd.jupyter.widget-view+json": {
       "model_id": "02af85457cc745a682a626a3222bb9ab",
       "version_major": 2,
       "version_minor": 0
      },
      "text/plain": [
       "Коммерцбанк (Евразия):   0%|          | 0/1 [00:00<?, ?it/s]"
      ]
     },
     "metadata": {},
     "output_type": "display_data"
    },
    {
     "data": {
      "application/vnd.jupyter.widget-view+json": {
       "model_id": "cfd85736e55d4ddbba6061a0021f4f44",
       "version_major": 2,
       "version_minor": 0
      },
      "text/plain": [
       "Кошелев-Банк:   0%|          | 0/4 [00:00<?, ?it/s]"
      ]
     },
     "metadata": {},
     "output_type": "display_data"
    },
    {
     "data": {
      "application/vnd.jupyter.widget-view+json": {
       "model_id": "4bb17f839c0a4181ad408bbf2713847b",
       "version_major": 2,
       "version_minor": 0
      },
      "text/plain": [
       "Кредит Европа Банк:   0%|          | 0/415 [00:00<?, ?it/s]"
      ]
     },
     "metadata": {},
     "output_type": "display_data"
    },
    {
     "data": {
      "application/vnd.jupyter.widget-view+json": {
       "model_id": "4390ce9e4afe405da070bbab2957148f",
       "version_major": 2,
       "version_minor": 0
      },
      "text/plain": [
       "Кредит Урал Банк:   0%|          | 0/3 [00:00<?, ?it/s]"
      ]
     },
     "metadata": {},
     "output_type": "display_data"
    },
    {
     "data": {
      "application/vnd.jupyter.widget-view+json": {
       "model_id": "d919a5920f5d4c61a8267ba7d3d6aeef",
       "version_major": 2,
       "version_minor": 0
      },
      "text/plain": [
       "Крокус-Банк:   0%|          | 0/1 [00:00<?, ?it/s]"
      ]
     },
     "metadata": {},
     "output_type": "display_data"
    },
    {
     "data": {
      "application/vnd.jupyter.widget-view+json": {
       "model_id": "5be19f7a50ea427b93c9424f384d04cf",
       "version_major": 2,
       "version_minor": 0
      },
      "text/plain": [
       "Крона-Банк:   0%|          | 0/1 [00:00<?, ?it/s]"
      ]
     },
     "metadata": {},
     "output_type": "display_data"
    },
    {
     "data": {
      "application/vnd.jupyter.widget-view+json": {
       "model_id": "0781efe256824e649218a49dca9f8137",
       "version_major": 2,
       "version_minor": 0
      },
      "text/plain": [
       "Кросна-Банк:   0%|          | 0/1 [00:00<?, ?it/s]"
      ]
     },
     "metadata": {},
     "output_type": "display_data"
    },
    {
     "data": {
      "application/vnd.jupyter.widget-view+json": {
       "model_id": "8e9626bccddd4ff8b16c933c10c6dc89",
       "version_major": 2,
       "version_minor": 0
      },
      "text/plain": [
       "Кубань Кредит:   0%|          | 0/9 [00:00<?, ?it/s]"
      ]
     },
     "metadata": {},
     "output_type": "display_data"
    },
    {
     "data": {
      "application/vnd.jupyter.widget-view+json": {
       "model_id": "08f49f6bdfbf4c09addfcdd18e247a00",
       "version_major": 2,
       "version_minor": 0
      },
      "text/plain": [
       "Кубаньторгбанк:   0%|          | 0/1 [00:00<?, ?it/s]"
      ]
     },
     "metadata": {},
     "output_type": "display_data"
    },
    {
     "data": {
      "application/vnd.jupyter.widget-view+json": {
       "model_id": "13337d93922e4c618421e3f4e6089c0f",
       "version_major": 2,
       "version_minor": 0
      },
      "text/plain": [
       "Кузнецкбизнесбанк:   0%|          | 0/1 [00:00<?, ?it/s]"
      ]
     },
     "metadata": {},
     "output_type": "display_data"
    },
    {
     "data": {
      "application/vnd.jupyter.widget-view+json": {
       "model_id": "48f46bb58e0a4a5ab2723757391140d5",
       "version_major": 2,
       "version_minor": 0
      },
      "text/plain": [
       "Кузнецкий:   0%|          | 0/1 [00:00<?, ?it/s]"
      ]
     },
     "metadata": {},
     "output_type": "display_data"
    },
    {
     "data": {
      "application/vnd.jupyter.widget-view+json": {
       "model_id": "4c39df88c7e04cdca75e42d25faa9767",
       "version_major": 2,
       "version_minor": 0
      },
      "text/plain": [
       "Курган:   0%|          | 0/1 [00:00<?, ?it/s]"
      ]
     },
     "metadata": {},
     "output_type": "display_data"
    },
    {
     "data": {
      "application/vnd.jupyter.widget-view+json": {
       "model_id": "fdc81153562d4bf8b57c48b5c3e7265b",
       "version_major": 2,
       "version_minor": 0
      },
      "text/plain": [
       "Ланта-Банк:   0%|          | 0/6 [00:00<?, ?it/s]"
      ]
     },
     "metadata": {},
     "output_type": "display_data"
    },
    {
     "data": {
      "application/vnd.jupyter.widget-view+json": {
       "model_id": "eb96d85765884604bd8169126fd05c59",
       "version_major": 2,
       "version_minor": 0
      },
      "text/plain": [
       "Левобережный:   0%|          | 0/10 [00:00<?, ?it/s]"
      ]
     },
     "metadata": {},
     "output_type": "display_data"
    },
    {
     "data": {
      "application/vnd.jupyter.widget-view+json": {
       "model_id": "85127f8206f84cbcbe76070d9a019e19",
       "version_major": 2,
       "version_minor": 0
      },
      "text/plain": [
       "Локо-Банк:   0%|          | 0/119 [00:00<?, ?it/s]"
      ]
     },
     "metadata": {},
     "output_type": "display_data"
    },
    {
     "data": {
      "application/vnd.jupyter.widget-view+json": {
       "model_id": "78aa45ee3cd24acebcff76af968644e9",
       "version_major": 2,
       "version_minor": 0
      },
      "text/plain": [
       "Максима:   0%|          | 0/1 [00:00<?, ?it/s]"
      ]
     },
     "metadata": {},
     "output_type": "display_data"
    },
    {
     "data": {
      "application/vnd.jupyter.widget-view+json": {
       "model_id": "a47e47990c384e53a9637f2b57447e6c",
       "version_major": 2,
       "version_minor": 0
      },
      "text/plain": [
       "МБА-Москва:   0%|          | 0/2 [00:00<?, ?it/s]"
      ]
     },
     "metadata": {},
     "output_type": "display_data"
    },
    {
     "data": {
      "application/vnd.jupyter.widget-view+json": {
       "model_id": "b84ec5edbf094fbd82b1d3839317d708",
       "version_major": 2,
       "version_minor": 0
      },
      "text/plain": [
       "Международный Финансовый Клуб:   0%|          | 0/1 [00:00<?, ?it/s]"
      ]
     },
     "metadata": {},
     "output_type": "display_data"
    },
    {
     "data": {
      "application/vnd.jupyter.widget-view+json": {
       "model_id": "1a6930ebab2c4148b78a61fb6eb7c59d",
       "version_major": 2,
       "version_minor": 0
      },
      "text/plain": [
       "Мерседес-Бенц Банк Рус:   0%|          | 0/1 [00:00<?, ?it/s]"
      ]
     },
     "metadata": {},
     "output_type": "display_data"
    },
    {
     "data": {
      "application/vnd.jupyter.widget-view+json": {
       "model_id": "cfa559dbdbb5458099ee04bcaa1fd020",
       "version_major": 2,
       "version_minor": 0
      },
      "text/plain": [
       "Металлинвестбанк:   0%|          | 0/17 [00:00<?, ?it/s]"
      ]
     },
     "metadata": {},
     "output_type": "display_data"
    },
    {
     "data": {
      "application/vnd.jupyter.widget-view+json": {
       "model_id": "890eb944e0394aa3b866dc1a4a14be66",
       "version_major": 2,
       "version_minor": 0
      },
      "text/plain": [
       "Металлург:   0%|          | 0/1 [00:00<?, ?it/s]"
      ]
     },
     "metadata": {},
     "output_type": "display_data"
    },
    {
     "data": {
      "application/vnd.jupyter.widget-view+json": {
       "model_id": "c3452ad1fb8f4eeb8cb2725e547b3eb2",
       "version_major": 2,
       "version_minor": 0
      },
      "text/plain": [
       "Меткомбанк (Каменск-Уральский):   0%|          | 0/1 [00:00<?, ?it/s]"
      ]
     },
     "metadata": {},
     "output_type": "display_data"
    },
    {
     "data": {
      "application/vnd.jupyter.widget-view+json": {
       "model_id": "2705e62ca7db4888907d77a29c4ae672",
       "version_major": 2,
       "version_minor": 0
      },
      "text/plain": [
       "Мир Бизнес Банк:   0%|          | 0/1 [00:00<?, ?it/s]"
      ]
     },
     "metadata": {},
     "output_type": "display_data"
    },
    {
     "data": {
      "application/vnd.jupyter.widget-view+json": {
       "model_id": "9d604c68a91f4d4baab697f6888e5757",
       "version_major": 2,
       "version_minor": 0
      },
      "text/plain": [
       "Мир Привилегий:   0%|          | 0/1 [00:00<?, ?it/s]"
      ]
     },
     "metadata": {},
     "output_type": "display_data"
    },
    {
     "data": {
      "application/vnd.jupyter.widget-view+json": {
       "model_id": "2043f0383dcc4334b258c1023d4e48f9",
       "version_major": 2,
       "version_minor": 0
      },
      "text/plain": [
       "Модульбанк:   0%|          | 0/171 [00:00<?, ?it/s]"
      ]
     },
     "metadata": {},
     "output_type": "display_data"
    },
    {
     "data": {
      "application/vnd.jupyter.widget-view+json": {
       "model_id": "b3453b69978b40b0bfeb62a121c1aecf",
       "version_major": 2,
       "version_minor": 0
      },
      "text/plain": [
       "МодульКасса:   0%|          | 0/8 [00:00<?, ?it/s]"
      ]
     },
     "metadata": {},
     "output_type": "display_data"
    },
    {
     "data": {
      "application/vnd.jupyter.widget-view+json": {
       "model_id": "4dd5f66b91224bbe931713030a2eb74d",
       "version_major": 2,
       "version_minor": 0
      },
      "text/plain": [
       "Морской Банк:   0%|          | 0/4 [00:00<?, ?it/s]"
      ]
     },
     "metadata": {},
     "output_type": "display_data"
    },
    {
     "data": {
      "application/vnd.jupyter.widget-view+json": {
       "model_id": "98fa17f974fc495b897615361b6bcf9b",
       "version_major": 2,
       "version_minor": 0
      },
      "text/plain": [
       "Москва-Сити:   0%|          | 0/1 [00:00<?, ?it/s]"
      ]
     },
     "metadata": {},
     "output_type": "display_data"
    },
    {
     "data": {
      "application/vnd.jupyter.widget-view+json": {
       "model_id": "e4805f10d734493bb829bd5dac97f12f",
       "version_major": 2,
       "version_minor": 0
      },
      "text/plain": [
       "Московский Индустриальный Банк:   0%|          | 0/63 [00:00<?, ?it/s]"
      ]
     },
     "metadata": {},
     "output_type": "display_data"
    },
    {
     "data": {
      "application/vnd.jupyter.widget-view+json": {
       "model_id": "279ff3cf7abe48d196f7565c60f6e278",
       "version_major": 2,
       "version_minor": 0
      },
      "text/plain": [
       "Московский Коммерческий Банк:   0%|          | 0/1 [00:00<?, ?it/s]"
      ]
     },
     "metadata": {},
     "output_type": "display_data"
    },
    {
     "data": {
      "application/vnd.jupyter.widget-view+json": {
       "model_id": "048ca4900c1a4b8f8af03796c64694f3",
       "version_major": 2,
       "version_minor": 0
      },
      "text/plain": [
       "Московский Кредитный Банк:   0%|          | 0/584 [00:00<?, ?it/s]"
      ]
     },
     "metadata": {},
     "output_type": "display_data"
    },
    {
     "data": {
      "application/vnd.jupyter.widget-view+json": {
       "model_id": "0c2d27ef252647269caa0184fa981921",
       "version_major": 2,
       "version_minor": 0
      },
      "text/plain": [
       "Московский Областной Банк:   0%|          | 0/87 [00:00<?, ?it/s]"
      ]
     },
     "metadata": {},
     "output_type": "display_data"
    },
    {
     "data": {
      "application/vnd.jupyter.widget-view+json": {
       "model_id": "2f8bec3d293c4e6ea8bed1ce5ccc3413",
       "version_major": 2,
       "version_minor": 0
      },
      "text/plain": [
       "Москоммерцбанк:   0%|          | 0/11 [00:00<?, ?it/s]"
      ]
     },
     "metadata": {},
     "output_type": "display_data"
    },
    {
     "data": {
      "application/vnd.jupyter.widget-view+json": {
       "model_id": "67c5f8b1182a4b3fa456098357424ef5",
       "version_major": 2,
       "version_minor": 0
      },
      "text/plain": [
       "МС Банк Рус:   0%|          | 0/6 [00:00<?, ?it/s]"
      ]
     },
     "metadata": {},
     "output_type": "display_data"
    },
    {
     "data": {
      "application/vnd.jupyter.widget-view+json": {
       "model_id": "ed9e1aeb0be84575a8f903f779f5e4be",
       "version_major": 2,
       "version_minor": 0
      },
      "text/plain": [
       "МСП Банк:   0%|          | 0/3 [00:00<?, ?it/s]"
      ]
     },
     "metadata": {},
     "output_type": "display_data"
    },
    {
     "data": {
      "application/vnd.jupyter.widget-view+json": {
       "model_id": "1307e1b0a4dc4c108606272e148a4dd9",
       "version_major": 2,
       "version_minor": 0
      },
      "text/plain": [
       "МТИ Банк:   0%|          | 0/1 [00:00<?, ?it/s]"
      ]
     },
     "metadata": {},
     "output_type": "display_data"
    },
    {
     "data": {
      "application/vnd.jupyter.widget-view+json": {
       "model_id": "8167f53ee9f04cd68ecab4dd98729e3b",
       "version_major": 2,
       "version_minor": 0
      },
      "text/plain": [
       "МТС Банк:   0%|          | 0/689 [00:00<?, ?it/s]"
      ]
     },
     "metadata": {},
     "output_type": "display_data"
    },
    {
     "data": {
      "application/vnd.jupyter.widget-view+json": {
       "model_id": "fec15da473ee47d8a486856bbacbe25a",
       "version_major": 2,
       "version_minor": 0
      },
      "text/plain": [
       "Муниципальный Камчатпрофитбанк:   0%|          | 0/1 [00:00<?, ?it/s]"
      ]
     },
     "metadata": {},
     "output_type": "display_data"
    },
    {
     "data": {
      "application/vnd.jupyter.widget-view+json": {
       "model_id": "33f977b19e884cfbbf7ecc39fa8c4c11",
       "version_major": 2,
       "version_minor": 0
      },
      "text/plain": [
       "Нальчик:   0%|          | 0/1 [00:00<?, ?it/s]"
      ]
     },
     "metadata": {},
     "output_type": "display_data"
    },
    {
     "data": {
      "application/vnd.jupyter.widget-view+json": {
       "model_id": "e2a166b11b884f98b0452af07ad9e7c4",
       "version_major": 2,
       "version_minor": 0
      },
      "text/plain": [
       "Народный Доверительный Банк:   0%|          | 0/1 [00:00<?, ?it/s]"
      ]
     },
     "metadata": {},
     "output_type": "display_data"
    },
    {
     "data": {
      "application/vnd.jupyter.widget-view+json": {
       "model_id": "7e66b4852a954c38bed0b52f0f7bdf06",
       "version_major": 2,
       "version_minor": 0
      },
      "text/plain": [
       "Народный Инвестиционный Банк:   0%|          | 0/1 [00:00<?, ?it/s]"
      ]
     },
     "metadata": {},
     "output_type": "display_data"
    },
    {
     "data": {
      "application/vnd.jupyter.widget-view+json": {
       "model_id": "7ccc75395d4048598fa20f9215cda3b4",
       "version_major": 2,
       "version_minor": 0
      },
      "text/plain": [
       "Нацинвестпромбанк:   0%|          | 0/1 [00:00<?, ?it/s]"
      ]
     },
     "metadata": {},
     "output_type": "display_data"
    },
    {
     "data": {
      "application/vnd.jupyter.widget-view+json": {
       "model_id": "013595f364664963b7a7903a8e165ebe",
       "version_major": 2,
       "version_minor": 0
      },
      "text/plain": [
       "Национальный Банк Сбережений:   0%|          | 0/1 [00:00<?, ?it/s]"
      ]
     },
     "metadata": {},
     "output_type": "display_data"
    },
    {
     "data": {
      "application/vnd.jupyter.widget-view+json": {
       "model_id": "ea9fb4fe78354f2c8bc535bea959484f",
       "version_major": 2,
       "version_minor": 0
      },
      "text/plain": [
       "Национальный Резервный Банк:   0%|          | 0/1 [00:00<?, ?it/s]"
      ]
     },
     "metadata": {},
     "output_type": "display_data"
    },
    {
     "data": {
      "application/vnd.jupyter.widget-view+json": {
       "model_id": "92a497544f39473caebd100e1a382c38",
       "version_major": 2,
       "version_minor": 0
      },
      "text/plain": [
       "Национальный Стандарт:   0%|          | 0/2 [00:00<?, ?it/s]"
      ]
     },
     "metadata": {},
     "output_type": "display_data"
    },
    {
     "data": {
      "application/vnd.jupyter.widget-view+json": {
       "model_id": "b649d2b7ee34423d9ddb79aec05aa581",
       "version_major": 2,
       "version_minor": 0
      },
      "text/plain": [
       "НБД-Банк:   0%|          | 0/1 [00:00<?, ?it/s]"
      ]
     },
     "metadata": {},
     "output_type": "display_data"
    },
    {
     "data": {
      "application/vnd.jupyter.widget-view+json": {
       "model_id": "83fb0f0109714fd6962ebf5df1e63d28",
       "version_major": 2,
       "version_minor": 0
      },
      "text/plain": [
       "НИКО-Банк:   0%|          | 0/1 [00:00<?, ?it/s]"
      ]
     },
     "metadata": {},
     "output_type": "display_data"
    },
    {
     "data": {
      "application/vnd.jupyter.widget-view+json": {
       "model_id": "f5f92b38f38b4d65a23ab8ef3d7b7259",
       "version_major": 2,
       "version_minor": 0
      },
      "text/plain": [
       "НК Банк:   0%|          | 0/1 [00:00<?, ?it/s]"
      ]
     },
     "metadata": {},
     "output_type": "display_data"
    },
    {
     "data": {
      "application/vnd.jupyter.widget-view+json": {
       "model_id": "1588b362d5c4437c90b42891e0292562",
       "version_major": 2,
       "version_minor": 0
      },
      "text/plain": [
       "Новикомбанк:   0%|          | 0/15 [00:00<?, ?it/s]"
      ]
     },
     "metadata": {},
     "output_type": "display_data"
    },
    {
     "data": {
      "application/vnd.jupyter.widget-view+json": {
       "model_id": "99934651544a429ab34a1540662eb528",
       "version_major": 2,
       "version_minor": 0
      },
      "text/plain": [
       "Новобанк:   0%|          | 0/1 [00:00<?, ?it/s]"
      ]
     },
     "metadata": {},
     "output_type": "display_data"
    },
    {
     "data": {
      "application/vnd.jupyter.widget-view+json": {
       "model_id": "b66cb42f39774b909ff15b50d43e9d25",
       "version_major": 2,
       "version_minor": 0
      },
      "text/plain": [
       "Новокиб:   0%|          | 0/1 [00:00<?, ?it/s]"
      ]
     },
     "metadata": {},
     "output_type": "display_data"
    },
    {
     "data": {
      "application/vnd.jupyter.widget-view+json": {
       "model_id": "a23535d0eab54eb389be43baf2ef1554",
       "version_major": 2,
       "version_minor": 0
      },
      "text/plain": [
       "Новый Век:   0%|          | 0/1 [00:00<?, ?it/s]"
      ]
     },
     "metadata": {},
     "output_type": "display_data"
    },
    {
     "data": {
      "application/vnd.jupyter.widget-view+json": {
       "model_id": "564a79d5859647daa12223aa2cd8538c",
       "version_major": 2,
       "version_minor": 0
      },
      "text/plain": [
       "Новый Московский Банк:   0%|          | 0/1 [00:00<?, ?it/s]"
      ]
     },
     "metadata": {},
     "output_type": "display_data"
    },
    {
     "data": {
      "application/vnd.jupyter.widget-view+json": {
       "model_id": "5bab213ea7474a079365ea8c1e31cf44",
       "version_major": 2,
       "version_minor": 0
      },
      "text/plain": [
       "НОКССбанк:   0%|          | 0/1 [00:00<?, ?it/s]"
      ]
     },
     "metadata": {},
     "output_type": "display_data"
    },
    {
     "data": {
      "application/vnd.jupyter.widget-view+json": {
       "model_id": "9f03390d434748abbbff55caf9f2a6cf",
       "version_major": 2,
       "version_minor": 0
      },
      "text/plain": [
       "Ноосфера:   0%|          | 0/1 [00:00<?, ?it/s]"
      ]
     },
     "metadata": {},
     "output_type": "display_data"
    },
    {
     "data": {
      "application/vnd.jupyter.widget-view+json": {
       "model_id": "cc18fa458b7947e483ccfe5675b6e764",
       "version_major": 2,
       "version_minor": 0
      },
      "text/plain": [
       "Норвик Банк:   0%|          | 0/11 [00:00<?, ?it/s]"
      ]
     },
     "metadata": {},
     "output_type": "display_data"
    },
    {
     "data": {
      "application/vnd.jupyter.widget-view+json": {
       "model_id": "860c59fbad7a4b28bf191bbce487a4cb",
       "version_major": 2,
       "version_minor": 0
      },
      "text/plain": [
       "НС Банк:   0%|          | 0/14 [00:00<?, ?it/s]"
      ]
     },
     "metadata": {},
     "output_type": "display_data"
    },
    {
     "data": {
      "application/vnd.jupyter.widget-view+json": {
       "model_id": "3a033df899eb4bcf9c880b62c0bf3086",
       "version_major": 2,
       "version_minor": 0
      },
      "text/plain": [
       "Объединенный Капитал:   0%|          | 0/1 [00:00<?, ?it/s]"
      ]
     },
     "metadata": {},
     "output_type": "display_data"
    },
    {
     "data": {
      "application/vnd.jupyter.widget-view+json": {
       "model_id": "6a5116c7adc2409d890518c7b3edd202",
       "version_major": 2,
       "version_minor": 0
      },
      "text/plain": [
       "Озон Банк:   0%|          | 0/2 [00:00<?, ?it/s]"
      ]
     },
     "metadata": {},
     "output_type": "display_data"
    },
    {
     "data": {
      "application/vnd.jupyter.widget-view+json": {
       "model_id": "80a36227c76e44a39dc47105aed6ae6a",
       "version_major": 2,
       "version_minor": 0
      },
      "text/plain": [
       "ОТП Банк:   0%|          | 0/684 [00:00<?, ?it/s]"
      ]
     },
     "metadata": {},
     "output_type": "display_data"
    },
    {
     "data": {
      "application/vnd.jupyter.widget-view+json": {
       "model_id": "2aa205bbd3d04e3a8763436d993244ff",
       "version_major": 2,
       "version_minor": 0
      },
      "text/plain": [
       "Первоуральскбанк:   0%|          | 0/1 [00:00<?, ?it/s]"
      ]
     },
     "metadata": {},
     "output_type": "display_data"
    },
    {
     "data": {
      "application/vnd.jupyter.widget-view+json": {
       "model_id": "f518da31c8364e42b2743c156cb5772b",
       "version_major": 2,
       "version_minor": 0
      },
      "text/plain": [
       "Первый Дортрансбанк:   0%|          | 0/1 [00:00<?, ?it/s]"
      ]
     },
     "metadata": {},
     "output_type": "display_data"
    },
    {
     "data": {
      "application/vnd.jupyter.widget-view+json": {
       "model_id": "7a818f831f43463cbd63ac761e2bb77c",
       "version_major": 2,
       "version_minor": 0
      },
      "text/plain": [
       "Первый Инвестиционный Банк:   0%|          | 0/1 [00:00<?, ?it/s]"
      ]
     },
     "metadata": {},
     "output_type": "display_data"
    },
    {
     "data": {
      "application/vnd.jupyter.widget-view+json": {
       "model_id": "fbabbce3c32142c794634e34f237a15b",
       "version_major": 2,
       "version_minor": 0
      },
      "text/plain": [
       "Пересвет:   0%|          | 0/3 [00:00<?, ?it/s]"
      ]
     },
     "metadata": {},
     "output_type": "display_data"
    },
    {
     "data": {
      "application/vnd.jupyter.widget-view+json": {
       "model_id": "c91f3e9267f048438771e7854358ddeb",
       "version_major": 2,
       "version_minor": 0
      },
      "text/plain": [
       "Петербургский Социальный Коммерческий Банк:   0%|          | 0/4 [00:00<?, ?it/s]"
      ]
     },
     "metadata": {},
     "output_type": "display_data"
    },
    {
     "data": {
      "application/vnd.jupyter.widget-view+json": {
       "model_id": "18dafa4ded484929956cc9b9a605e551",
       "version_major": 2,
       "version_minor": 0
      },
      "text/plain": [
       "Пойдем!:   0%|          | 0/21 [00:00<?, ?it/s]"
      ]
     },
     "metadata": {},
     "output_type": "display_data"
    },
    {
     "data": {
      "application/vnd.jupyter.widget-view+json": {
       "model_id": "aff52a906f994be3a04f01c78cfa83d3",
       "version_major": 2,
       "version_minor": 0
      },
      "text/plain": [
       "Почта Банк:   0%|          | 0/1005 [00:00<?, ?it/s]"
      ]
     },
     "metadata": {},
     "output_type": "display_data"
    },
    {
     "data": {
      "application/vnd.jupyter.widget-view+json": {
       "model_id": "f407cb4dbb804a2ebbde63997c811794",
       "version_major": 2,
       "version_minor": 0
      },
      "text/plain": [
       "Почтобанк:   0%|          | 0/1 [00:00<?, ?it/s]"
      ]
     },
     "metadata": {},
     "output_type": "display_data"
    },
    {
     "data": {
      "application/vnd.jupyter.widget-view+json": {
       "model_id": "8801af4bddd745e5abfa98e45c2c29d4",
       "version_major": 2,
       "version_minor": 0
      },
      "text/plain": [
       "Приморье:   0%|          | 0/3 [00:00<?, ?it/s]"
      ]
     },
     "metadata": {},
     "output_type": "display_data"
    },
    {
     "data": {
      "application/vnd.jupyter.widget-view+json": {
       "model_id": "77a50f0fdb8441a99719f2075e1c389c",
       "version_major": 2,
       "version_minor": 0
      },
      "text/plain": [
       "Примсоцбанк:   0%|          | 0/16 [00:00<?, ?it/s]"
      ]
     },
     "metadata": {},
     "output_type": "display_data"
    },
    {
     "data": {
      "application/vnd.jupyter.widget-view+json": {
       "model_id": "af407a26daf846348b1a56f87d065647",
       "version_major": 2,
       "version_minor": 0
      },
      "text/plain": [
       "Примтеркомбанк:   0%|          | 0/1 [00:00<?, ?it/s]"
      ]
     },
     "metadata": {},
     "output_type": "display_data"
    },
    {
     "data": {
      "application/vnd.jupyter.widget-view+json": {
       "model_id": "d5dfd121391348998729e5146fee6b37",
       "version_major": 2,
       "version_minor": 0
      },
      "text/plain": [
       "Прио-Внешторгбанк:   0%|          | 0/1 [00:00<?, ?it/s]"
      ]
     },
     "metadata": {},
     "output_type": "display_data"
    },
    {
     "data": {
      "application/vnd.jupyter.widget-view+json": {
       "model_id": "a0a6fb6177d0415a8676ffcb239826d0",
       "version_major": 2,
       "version_minor": 0
      },
      "text/plain": [
       "Прокоммерцбанк:   0%|          | 0/1 [00:00<?, ?it/s]"
      ]
     },
     "metadata": {},
     "output_type": "display_data"
    },
    {
     "data": {
      "application/vnd.jupyter.widget-view+json": {
       "model_id": "e487521ba8614228833ab29d7fa455c6",
       "version_major": 2,
       "version_minor": 0
      },
      "text/plain": [
       "Промсвязьбанк:   0%|          | 0/500 [00:00<?, ?it/s]"
      ]
     },
     "metadata": {},
     "output_type": "display_data"
    },
    {
     "data": {
      "application/vnd.jupyter.widget-view+json": {
       "model_id": "2b9218c6084e41269adac81cbd200f06",
       "version_major": 2,
       "version_minor": 0
      },
      "text/plain": [
       "Промсельхозбанк:   0%|          | 0/1 [00:00<?, ?it/s]"
      ]
     },
     "metadata": {},
     "output_type": "display_data"
    },
    {
     "data": {
      "application/vnd.jupyter.widget-view+json": {
       "model_id": "e6f2b54c9f0a4ea1a31d303ff2bd76c6",
       "version_major": 2,
       "version_minor": 0
      },
      "text/plain": [
       "Промтрансбанк:   0%|          | 0/4 [00:00<?, ?it/s]"
      ]
     },
     "metadata": {},
     "output_type": "display_data"
    },
    {
     "data": {
      "application/vnd.jupyter.widget-view+json": {
       "model_id": "590fe02644da459ca720fbd484aa2c7f",
       "version_major": 2,
       "version_minor": 0
      },
      "text/plain": [
       "ПростоБанк:   0%|          | 0/2 [00:00<?, ?it/s]"
      ]
     },
     "metadata": {},
     "output_type": "display_data"
    },
    {
     "data": {
      "application/vnd.jupyter.widget-view+json": {
       "model_id": "a0307f997b234adcbbca42b6d1e168fe",
       "version_major": 2,
       "version_minor": 0
      },
      "text/plain": [
       "Профессионал Банк:   0%|          | 0/1 [00:00<?, ?it/s]"
      ]
     },
     "metadata": {},
     "output_type": "display_data"
    },
    {
     "data": {
      "application/vnd.jupyter.widget-view+json": {
       "model_id": "c547fbd49e604b36a6e395d14d984fc3",
       "version_major": 2,
       "version_minor": 0
      },
      "text/plain": [
       "Развитие-Столица:   0%|          | 0/2 [00:00<?, ?it/s]"
      ]
     },
     "metadata": {},
     "output_type": "display_data"
    },
    {
     "data": {
      "application/vnd.jupyter.widget-view+json": {
       "model_id": "433873ac4f49495c86256192d7421ddc",
       "version_major": 2,
       "version_minor": 0
      },
      "text/plain": [
       "Райффайзенбанк:   0%|          | 0/534 [00:00<?, ?it/s]"
      ]
     },
     "metadata": {},
     "output_type": "display_data"
    },
    {
     "data": {
      "application/vnd.jupyter.widget-view+json": {
       "model_id": "f1d4e5128c734631a792e47789d23d73",
       "version_major": 2,
       "version_minor": 0
      },
      "text/plain": [
       "Реалист Банк:   0%|          | 0/5 [00:00<?, ?it/s]"
      ]
     },
     "metadata": {},
     "output_type": "display_data"
    },
    {
     "data": {
      "application/vnd.jupyter.widget-view+json": {
       "model_id": "603d3df13d004978afd5546bda9c3347",
       "version_major": 2,
       "version_minor": 0
      },
      "text/plain": [
       "Ренессанс Кредит:   0%|          | 0/531 [00:00<?, ?it/s]"
      ]
     },
     "metadata": {},
     "output_type": "display_data"
    },
    {
     "data": {
      "application/vnd.jupyter.widget-view+json": {
       "model_id": "100e1ff64473437bb3e15ada3905e09d",
       "version_major": 2,
       "version_minor": 0
      },
      "text/plain": [
       "РЕСО Кредит:   0%|          | 0/1 [00:00<?, ?it/s]"
      ]
     },
     "metadata": {},
     "output_type": "display_data"
    },
    {
     "data": {
      "application/vnd.jupyter.widget-view+json": {
       "model_id": "d207d8030eb142bfbb959eae7913d9a1",
       "version_major": 2,
       "version_minor": 0
      },
      "text/plain": [
       "РН Банк:   0%|          | 0/42 [00:00<?, ?it/s]"
      ]
     },
     "metadata": {},
     "output_type": "display_data"
    },
    {
     "data": {
      "application/vnd.jupyter.widget-view+json": {
       "model_id": "2cbe3b115f24422f94de756650797cb0",
       "version_major": 2,
       "version_minor": 0
      },
      "text/plain": [
       "РНКБ:   0%|          | 0/23 [00:00<?, ?it/s]"
      ]
     },
     "metadata": {},
     "output_type": "display_data"
    },
    {
     "data": {
      "application/vnd.jupyter.widget-view+json": {
       "model_id": "6c9bb5fe84cd446a9e1c4ab9b537c711",
       "version_major": 2,
       "version_minor": 0
      },
      "text/plain": [
       "Росбанк:   0%|          | 0/636 [00:00<?, ?it/s]"
      ]
     },
     "metadata": {},
     "output_type": "display_data"
    },
    {
     "data": {
      "application/vnd.jupyter.widget-view+json": {
       "model_id": "643faee52228486194a43daf21b5cc38",
       "version_major": 2,
       "version_minor": 0
      },
      "text/plain": [
       "РосДорБанк:   0%|          | 0/1 [00:00<?, ?it/s]"
      ]
     },
     "metadata": {},
     "output_type": "display_data"
    },
    {
     "data": {
      "application/vnd.jupyter.widget-view+json": {
       "model_id": "d0b8dde74579444fab9dc1d2495c2c86",
       "version_major": 2,
       "version_minor": 0
      },
      "text/plain": [
       "Россельхозбанк:   0%|          | 0/573 [00:00<?, ?it/s]"
      ]
     },
     "metadata": {},
     "output_type": "display_data"
    },
    {
     "data": {
      "application/vnd.jupyter.widget-view+json": {
       "model_id": "d3ef486581014d82b654447b8988d155",
       "version_major": 2,
       "version_minor": 0
      },
      "text/plain": [
       "Российская Финансовая Корпорация:   0%|          | 0/1 [00:00<?, ?it/s]"
      ]
     },
     "metadata": {},
     "output_type": "display_data"
    },
    {
     "data": {
      "application/vnd.jupyter.widget-view+json": {
       "model_id": "180e58ae3ce248dea5375f61918733a6",
       "version_major": 2,
       "version_minor": 0
      },
      "text/plain": [
       "Россия:   0%|          | 0/18 [00:00<?, ?it/s]"
      ]
     },
     "metadata": {},
     "output_type": "display_data"
    },
    {
     "data": {
      "application/vnd.jupyter.widget-view+json": {
       "model_id": "337acbfe5f89464a8f5a6035534ec548",
       "version_major": 2,
       "version_minor": 0
      },
      "text/plain": [
       "Ростфинанс:   0%|          | 0/6 [00:00<?, ?it/s]"
      ]
     },
     "metadata": {},
     "output_type": "display_data"
    },
    {
     "data": {
      "application/vnd.jupyter.widget-view+json": {
       "model_id": "57bbed8604424164b082974ca477c574",
       "version_major": 2,
       "version_minor": 0
      },
      "text/plain": [
       "Росэксимбанк:   0%|          | 0/1 [00:00<?, ?it/s]"
      ]
     },
     "metadata": {},
     "output_type": "display_data"
    },
    {
     "data": {
      "application/vnd.jupyter.widget-view+json": {
       "model_id": "aa71e990553d405a9ad5d2dd32cc3800",
       "version_major": 2,
       "version_minor": 0
      },
      "text/plain": [
       "Роял Кредит Банк:   0%|          | 0/1 [00:00<?, ?it/s]"
      ]
     },
     "metadata": {},
     "output_type": "display_data"
    },
    {
     "data": {
      "application/vnd.jupyter.widget-view+json": {
       "model_id": "a6c8b1eafbba47e0ae50cb681dcbc17b",
       "version_major": 2,
       "version_minor": 0
      },
      "text/plain": [
       "Руснарбанк:   0%|          | 0/6 [00:00<?, ?it/s]"
      ]
     },
     "metadata": {},
     "output_type": "display_data"
    },
    {
     "data": {
      "application/vnd.jupyter.widget-view+json": {
       "model_id": "3c8876859c6d410f8c4c043cc6b3f0c6",
       "version_major": 2,
       "version_minor": 0
      },
      "text/plain": [
       "Русский Банк Сбережений:   0%|          | 0/1 [00:00<?, ?it/s]"
      ]
     },
     "metadata": {},
     "output_type": "display_data"
    },
    {
     "data": {
      "application/vnd.jupyter.widget-view+json": {
       "model_id": "d9c692b181f84688beb64767c657fcc4",
       "version_major": 2,
       "version_minor": 0
      },
      "text/plain": [
       "Русский Стандарт:   0%|          | 0/927 [00:00<?, ?it/s]"
      ]
     },
     "metadata": {},
     "output_type": "display_data"
    },
    {
     "data": {
      "application/vnd.jupyter.widget-view+json": {
       "model_id": "d8f20130fb694c22a911126734ca3c9f",
       "version_major": 2,
       "version_minor": 0
      },
      "text/plain": [
       "Русьуниверсалбанк:   0%|          | 0/1 [00:00<?, ?it/s]"
      ]
     },
     "metadata": {},
     "output_type": "display_data"
    },
    {
     "data": {
      "application/vnd.jupyter.widget-view+json": {
       "model_id": "580f2ff89dc84a428b027e124ef87750",
       "version_major": 2,
       "version_minor": 0
      },
      "text/plain": [
       "Саммит Банк:   0%|          | 0/1 [00:00<?, ?it/s]"
      ]
     },
     "metadata": {},
     "output_type": "display_data"
    },
    {
     "data": {
      "application/vnd.jupyter.widget-view+json": {
       "model_id": "f4c5a4c5ab3947228e8ebe1cb8ce5887",
       "version_major": 2,
       "version_minor": 0
      },
      "text/plain": [
       "Санкт-Петербургский Банк Инвестиций:   0%|          | 0/1 [00:00<?, ?it/s]"
      ]
     },
     "metadata": {},
     "output_type": "display_data"
    },
    {
     "data": {
      "application/vnd.jupyter.widget-view+json": {
       "model_id": "f23b7f6941394ac9b0194f09b9811061",
       "version_major": 2,
       "version_minor": 0
      },
      "text/plain": [
       "Саровбизнесбанк:   0%|          | 0/3 [00:00<?, ?it/s]"
      ]
     },
     "metadata": {},
     "output_type": "display_data"
    },
    {
     "data": {
      "application/vnd.jupyter.widget-view+json": {
       "model_id": "ae950b4299fe4741b7547072c518aeea",
       "version_major": 2,
       "version_minor": 0
      },
      "text/plain": [
       "СберБанк:   0%|          | 0/4751 [00:00<?, ?it/s]"
      ]
     },
     "metadata": {},
     "output_type": "display_data"
    },
    {
     "data": {
      "application/vnd.jupyter.widget-view+json": {
       "model_id": "5abe86a17e424690a8fe86df7a7e7950",
       "version_major": 2,
       "version_minor": 0
      },
      "text/plain": [
       "СДМ-Банк:   0%|          | 0/15 [00:00<?, ?it/s]"
      ]
     },
     "metadata": {},
     "output_type": "display_data"
    },
    {
     "data": {
      "application/vnd.jupyter.widget-view+json": {
       "model_id": "8922889cfd6c4a66af3a12a3d2b436ed",
       "version_major": 2,
       "version_minor": 0
      },
      "text/plain": [
       "Севергазбанк:   0%|          | 0/5 [00:00<?, ?it/s]"
      ]
     },
     "metadata": {},
     "output_type": "display_data"
    },
    {
     "data": {
      "application/vnd.jupyter.widget-view+json": {
       "model_id": "5c4c287a520f43cfb72e75c58d4227df",
       "version_major": 2,
       "version_minor": 0
      },
      "text/plain": [
       "Северный Народный Банк:   0%|          | 0/1 [00:00<?, ?it/s]"
      ]
     },
     "metadata": {},
     "output_type": "display_data"
    },
    {
     "data": {
      "application/vnd.jupyter.widget-view+json": {
       "model_id": "f8205681f5e54b10941a3d9ffdad292c",
       "version_major": 2,
       "version_minor": 0
      },
      "text/plain": [
       "Сельмашбанк:   0%|          | 0/1 [00:00<?, ?it/s]"
      ]
     },
     "metadata": {},
     "output_type": "display_data"
    },
    {
     "data": {
      "application/vnd.jupyter.widget-view+json": {
       "model_id": "4d1e888cc6764fcabfabb247701e8dd2",
       "version_major": 2,
       "version_minor": 0
      },
      "text/plain": [
       "Сетелем Банк:   0%|          | 0/318 [00:00<?, ?it/s]"
      ]
     },
     "metadata": {},
     "output_type": "display_data"
    },
    {
     "data": {
      "application/vnd.jupyter.widget-view+json": {
       "model_id": "3275fc0281c24d839bab582fa6f44cc1",
       "version_major": 2,
       "version_minor": 0
      },
      "text/plain": [
       "СИАБ:   0%|          | 0/9 [00:00<?, ?it/s]"
      ]
     },
     "metadata": {},
     "output_type": "display_data"
    },
    {
     "data": {
      "application/vnd.jupyter.widget-view+json": {
       "model_id": "958169d2fccd496d816961325aa73e5c",
       "version_major": 2,
       "version_minor": 0
      },
      "text/plain": [
       "Сибсоцбанк:   0%|          | 0/1 [00:00<?, ?it/s]"
      ]
     },
     "metadata": {},
     "output_type": "display_data"
    },
    {
     "data": {
      "application/vnd.jupyter.widget-view+json": {
       "model_id": "a0218ae1c69e47a9baa8ae158d00f650",
       "version_major": 2,
       "version_minor": 0
      },
      "text/plain": [
       "Синко-Банк:   0%|          | 0/1 [00:00<?, ?it/s]"
      ]
     },
     "metadata": {},
     "output_type": "display_data"
    },
    {
     "data": {
      "application/vnd.jupyter.widget-view+json": {
       "model_id": "57dcddb8864c4286bebf863ae87206ef",
       "version_major": 2,
       "version_minor": 0
      },
      "text/plain": [
       "Система:   0%|          | 0/1 [00:00<?, ?it/s]"
      ]
     },
     "metadata": {},
     "output_type": "display_data"
    },
    {
     "data": {
      "application/vnd.jupyter.widget-view+json": {
       "model_id": "a2dd2e3be7b64030a62d1e7d0d3ee8f7",
       "version_major": 2,
       "version_minor": 0
      },
      "text/plain": [
       "Ситибанк:   0%|          | 0/299 [00:00<?, ?it/s]"
      ]
     },
     "metadata": {},
     "output_type": "display_data"
    },
    {
     "data": {
      "application/vnd.jupyter.widget-view+json": {
       "model_id": "952ca43550444b6ca0f68fa24569205e",
       "version_major": 2,
       "version_minor": 0
      },
      "text/plain": [
       "Сити Инвест Банк:   0%|          | 0/1 [00:00<?, ?it/s]"
      ]
     },
     "metadata": {},
     "output_type": "display_data"
    },
    {
     "data": {
      "application/vnd.jupyter.widget-view+json": {
       "model_id": "8350f1c094e8400b93d7553909403f00",
       "version_major": 2,
       "version_minor": 0
      },
      "text/plain": [
       "Славия:   0%|          | 0/2 [00:00<?, ?it/s]"
      ]
     },
     "metadata": {},
     "output_type": "display_data"
    },
    {
     "data": {
      "application/vnd.jupyter.widget-view+json": {
       "model_id": "30f2125e40a24cdfa07f741851e632ba",
       "version_major": 2,
       "version_minor": 0
      },
      "text/plain": [
       "СМП Банк:   0%|          | 0/56 [00:00<?, ?it/s]"
      ]
     },
     "metadata": {},
     "output_type": "display_data"
    },
    {
     "data": {
      "application/vnd.jupyter.widget-view+json": {
       "model_id": "f065ee7c314d46e384881c2a265cba87",
       "version_major": 2,
       "version_minor": 0
      },
      "text/plain": [
       "Снежинский:   0%|          | 0/1 [00:00<?, ?it/s]"
      ]
     },
     "metadata": {},
     "output_type": "display_data"
    },
    {
     "data": {
      "application/vnd.jupyter.widget-view+json": {
       "model_id": "5526d9626bb54d48a4a5c9a10072245f",
       "version_major": 2,
       "version_minor": 0
      },
      "text/plain": [
       "Совкомбанк:   0%|          | 0/1512 [00:00<?, ?it/s]"
      ]
     },
     "metadata": {},
     "output_type": "display_data"
    },
    {
     "data": {
      "application/vnd.jupyter.widget-view+json": {
       "model_id": "f6c2023f8da04d46977a5a8ca66d0e0b",
       "version_major": 2,
       "version_minor": 0
      },
      "text/plain": [
       "Солидарность:   0%|          | 0/9 [00:00<?, ?it/s]"
      ]
     },
     "metadata": {},
     "output_type": "display_data"
    },
    {
     "data": {
      "application/vnd.jupyter.widget-view+json": {
       "model_id": "49c7ed793c124c8fb598617c233addfa",
       "version_major": 2,
       "version_minor": 0
      },
      "text/plain": [
       "Солид Банк:   0%|          | 0/3 [00:00<?, ?it/s]"
      ]
     },
     "metadata": {},
     "output_type": "display_data"
    },
    {
     "data": {
      "application/vnd.jupyter.widget-view+json": {
       "model_id": "cf04b5802e04440997242fd715f8d225",
       "version_major": 2,
       "version_minor": 0
      },
      "text/plain": [
       "Союз:   0%|          | 0/31 [00:00<?, ?it/s]"
      ]
     },
     "metadata": {},
     "output_type": "display_data"
    },
    {
     "data": {
      "application/vnd.jupyter.widget-view+json": {
       "model_id": "8069543a811c4526be7bba53ca409dca",
       "version_major": 2,
       "version_minor": 0
      },
      "text/plain": [
       "СПБ Банк:   0%|          | 0/1 [00:00<?, ?it/s]"
      ]
     },
     "metadata": {},
     "output_type": "display_data"
    },
    {
     "data": {
      "application/vnd.jupyter.widget-view+json": {
       "model_id": "8e38440716a24c219349ff83ab77bbab",
       "version_major": 2,
       "version_minor": 0
      },
      "text/plain": [
       "Спецстройбанк:   0%|          | 0/1 [00:00<?, ?it/s]"
      ]
     },
     "metadata": {},
     "output_type": "display_data"
    },
    {
     "data": {
      "application/vnd.jupyter.widget-view+json": {
       "model_id": "af87568c534c47b38e02904866cefcd2",
       "version_major": 2,
       "version_minor": 0
      },
      "text/plain": [
       "Ставропольпромстройбанк:   0%|          | 0/1 [00:00<?, ?it/s]"
      ]
     },
     "metadata": {},
     "output_type": "display_data"
    },
    {
     "data": {
      "application/vnd.jupyter.widget-view+json": {
       "model_id": "0c13725026c548cdbdca860914cbd70d",
       "version_major": 2,
       "version_minor": 0
      },
      "text/plain": [
       "Столичный Кредит:   0%|          | 0/1 [00:00<?, ?it/s]"
      ]
     },
     "metadata": {},
     "output_type": "display_data"
    },
    {
     "data": {
      "application/vnd.jupyter.widget-view+json": {
       "model_id": "1d985e5a08d54cbe9768de1a564d4fce",
       "version_major": 2,
       "version_minor": 0
      },
      "text/plain": [
       "Стройлесбанк:   0%|          | 0/1 [00:00<?, ?it/s]"
      ]
     },
     "metadata": {},
     "output_type": "display_data"
    },
    {
     "data": {
      "application/vnd.jupyter.widget-view+json": {
       "model_id": "390b650f49244dd4860cd15ef0c30d10",
       "version_major": 2,
       "version_minor": 0
      },
      "text/plain": [
       "Сургутнефтегазбанк:   0%|          | 0/4 [00:00<?, ?it/s]"
      ]
     },
     "metadata": {},
     "output_type": "display_data"
    },
    {
     "data": {
      "application/vnd.jupyter.widget-view+json": {
       "model_id": "af098b408f7e47ffb7d90c9835070b4c",
       "version_major": 2,
       "version_minor": 0
      },
      "text/plain": [
       "СЭБ Банк:   0%|          | 0/1 [00:00<?, ?it/s]"
      ]
     },
     "metadata": {},
     "output_type": "display_data"
    },
    {
     "data": {
      "application/vnd.jupyter.widget-view+json": {
       "model_id": "563477b88885468893a620f49ed5724c",
       "version_major": 2,
       "version_minor": 0
      },
      "text/plain": [
       "Таврический Банк:   0%|          | 0/21 [00:00<?, ?it/s]"
      ]
     },
     "metadata": {},
     "output_type": "display_data"
    },
    {
     "data": {
      "application/vnd.jupyter.widget-view+json": {
       "model_id": "8666f27f81d0478f8b0f6844dbbfbbd3",
       "version_major": 2,
       "version_minor": 0
      },
      "text/plain": [
       "Тамбовкредитпромбанк:   0%|          | 0/1 [00:00<?, ?it/s]"
      ]
     },
     "metadata": {},
     "output_type": "display_data"
    },
    {
     "data": {
      "application/vnd.jupyter.widget-view+json": {
       "model_id": "635608808ab144caba0c21e47517398a",
       "version_major": 2,
       "version_minor": 0
      },
      "text/plain": [
       "Татсоцбанк:   0%|          | 0/8 [00:00<?, ?it/s]"
      ]
     },
     "metadata": {},
     "output_type": "display_data"
    },
    {
     "data": {
      "application/vnd.jupyter.widget-view+json": {
       "model_id": "d2c46f79c560486793ef8fddffc03828",
       "version_major": 2,
       "version_minor": 0
      },
      "text/plain": [
       "Тендер-Банк:   0%|          | 0/1 [00:00<?, ?it/s]"
      ]
     },
     "metadata": {},
     "output_type": "display_data"
    },
    {
     "data": {
      "application/vnd.jupyter.widget-view+json": {
       "model_id": "564ca964bc1141b58440308a2aeec199",
       "version_major": 2,
       "version_minor": 0
      },
      "text/plain": [
       "Тимер Банк:   0%|          | 0/4 [00:00<?, ?it/s]"
      ]
     },
     "metadata": {},
     "output_type": "display_data"
    },
    {
     "data": {
      "application/vnd.jupyter.widget-view+json": {
       "model_id": "0aaf508976d04a2aa1802b8d1b2fc3f2",
       "version_major": 2,
       "version_minor": 0
      },
      "text/plain": [
       "Тинькофф Банк:   0%|          | 0/3839 [00:00<?, ?it/s]"
      ]
     },
     "metadata": {},
     "output_type": "display_data"
    },
    {
     "data": {
      "application/vnd.jupyter.widget-view+json": {
       "model_id": "8543d20195e749b3b046aa42a0d76012",
       "version_major": 2,
       "version_minor": 0
      },
      "text/plain": [
       "Тойота Банк:   0%|          | 0/5 [00:00<?, ?it/s]"
      ]
     },
     "metadata": {},
     "output_type": "display_data"
    },
    {
     "data": {
      "application/vnd.jupyter.widget-view+json": {
       "model_id": "67ab301917a5414bbc72ebbcd4f27a53",
       "version_major": 2,
       "version_minor": 0
      },
      "text/plain": [
       "Тольяттихимбанк:   0%|          | 0/1 [00:00<?, ?it/s]"
      ]
     },
     "metadata": {},
     "output_type": "display_data"
    },
    {
     "data": {
      "application/vnd.jupyter.widget-view+json": {
       "model_id": "a6aeeb3a1ba64de1a9422b6c87affa9c",
       "version_major": 2,
       "version_minor": 0
      },
      "text/plain": [
       "Томскпромстройбанк:   0%|          | 0/1 [00:00<?, ?it/s]"
      ]
     },
     "metadata": {},
     "output_type": "display_data"
    },
    {
     "data": {
      "application/vnd.jupyter.widget-view+json": {
       "model_id": "8248affea0bc4b27b85c8ad5c70e380b",
       "version_major": 2,
       "version_minor": 0
      },
      "text/plain": [
       "Торжок (бывш. Торжокуниверсалбанк):   0%|          | 0/1 [00:00<?, ?it/s]"
      ]
     },
     "metadata": {},
     "output_type": "display_data"
    },
    {
     "data": {
      "application/vnd.jupyter.widget-view+json": {
       "model_id": "68e8cd15f78f45e7989e667a693c3278",
       "version_major": 2,
       "version_minor": 0
      },
      "text/plain": [
       "Точка:   0%|          | 0/77 [00:00<?, ?it/s]"
      ]
     },
     "metadata": {},
     "output_type": "display_data"
    },
    {
     "data": {
      "application/vnd.jupyter.widget-view+json": {
       "model_id": "776c4e82c59a490f80cdf930172785ac",
       "version_major": 2,
       "version_minor": 0
      },
      "text/plain": [
       "Транскапиталбанк:   0%|          | 0/84 [00:00<?, ?it/s]"
      ]
     },
     "metadata": {},
     "output_type": "display_data"
    },
    {
     "data": {
      "application/vnd.jupyter.widget-view+json": {
       "model_id": "c6584bd618ec477782beadd53517859d",
       "version_major": 2,
       "version_minor": 0
      },
      "text/plain": [
       "Трансстройбанк:   0%|          | 0/1 [00:00<?, ?it/s]"
      ]
     },
     "metadata": {},
     "output_type": "display_data"
    },
    {
     "data": {
      "application/vnd.jupyter.widget-view+json": {
       "model_id": "92acee15f1e14a52b31f642d1a9024fb",
       "version_major": 2,
       "version_minor": 0
      },
      "text/plain": [
       "Траст:   0%|          | 0/357 [00:00<?, ?it/s]"
      ]
     },
     "metadata": {},
     "output_type": "display_data"
    },
    {
     "data": {
      "application/vnd.jupyter.widget-view+json": {
       "model_id": "c10d0012ca2d4608b7b7285bffa24820",
       "version_major": 2,
       "version_minor": 0
      },
      "text/plain": [
       "Углеметбанк:   0%|          | 0/1 [00:00<?, ?it/s]"
      ]
     },
     "metadata": {},
     "output_type": "display_data"
    },
    {
     "data": {
      "application/vnd.jupyter.widget-view+json": {
       "model_id": "11fbc520a82a4d01a53d682d0239da38",
       "version_major": 2,
       "version_minor": 0
      },
      "text/plain": [
       "Унифондбанк:   0%|          | 0/1 [00:00<?, ?it/s]"
      ]
     },
     "metadata": {},
     "output_type": "display_data"
    },
    {
     "data": {
      "application/vnd.jupyter.widget-view+json": {
       "model_id": "039b613b54e04878aa93a4bc6f97d5c6",
       "version_major": 2,
       "version_minor": 0
      },
      "text/plain": [
       "Уралпромбанк:   0%|          | 0/1 [00:00<?, ?it/s]"
      ]
     },
     "metadata": {},
     "output_type": "display_data"
    },
    {
     "data": {
      "application/vnd.jupyter.widget-view+json": {
       "model_id": "88462ba9531249548267ae7e842e54da",
       "version_major": 2,
       "version_minor": 0
      },
      "text/plain": [
       "Урал ФД:   0%|          | 0/3 [00:00<?, ?it/s]"
      ]
     },
     "metadata": {},
     "output_type": "display_data"
    },
    {
     "data": {
      "application/vnd.jupyter.widget-view+json": {
       "model_id": "063d001fa428455286ad1eb653b3542f",
       "version_major": 2,
       "version_minor": 0
      },
      "text/plain": [
       "Уралфинанс:   0%|          | 0/1 [00:00<?, ?it/s]"
      ]
     },
     "metadata": {},
     "output_type": "display_data"
    },
    {
     "data": {
      "application/vnd.jupyter.widget-view+json": {
       "model_id": "8a54cc4094f141c09eb6e98f2982d032",
       "version_major": 2,
       "version_minor": 0
      },
      "text/plain": [
       "Уральский Банк Реконструкции и Развития:   0%|          | 0/210 [00:00<?, ?it/s]"
      ]
     },
     "metadata": {},
     "output_type": "display_data"
    },
    {
     "data": {
      "application/vnd.jupyter.widget-view+json": {
       "model_id": "b2f582b07f264657a90570f763f061b4",
       "version_major": 2,
       "version_minor": 0
      },
      "text/plain": [
       "Ури Банк:   0%|          | 0/1 [00:00<?, ?it/s]"
      ]
     },
     "metadata": {},
     "output_type": "display_data"
    },
    {
     "data": {
      "application/vnd.jupyter.widget-view+json": {
       "model_id": "6632c8b6a3f3494fa1d3815ba92ec4b0",
       "version_major": 2,
       "version_minor": 0
      },
      "text/plain": [
       "Финам Банк:   0%|          | 0/15 [00:00<?, ?it/s]"
      ]
     },
     "metadata": {},
     "output_type": "display_data"
    },
    {
     "data": {
      "application/vnd.jupyter.widget-view+json": {
       "model_id": "9d872b9b102d40e7b0afca7214eddfc7",
       "version_major": 2,
       "version_minor": 0
      },
      "text/plain": [
       "Фольксваген Банк Рус:   0%|          | 0/9 [00:00<?, ?it/s]"
      ]
     },
     "metadata": {},
     "output_type": "display_data"
    },
    {
     "data": {
      "application/vnd.jupyter.widget-view+json": {
       "model_id": "9d4da215c95b44098c7d73870b5d4aeb",
       "version_major": 2,
       "version_minor": 0
      },
      "text/plain": [
       "Фора-Банк:   0%|          | 0/20 [00:00<?, ?it/s]"
      ]
     },
     "metadata": {},
     "output_type": "display_data"
    },
    {
     "data": {
      "application/vnd.jupyter.widget-view+json": {
       "model_id": "f1732008ab0b4735a4f6890119be14c1",
       "version_major": 2,
       "version_minor": 0
      },
      "text/plain": [
       "Форштадт:   0%|          | 0/2 [00:00<?, ?it/s]"
      ]
     },
     "metadata": {},
     "output_type": "display_data"
    },
    {
     "data": {
      "application/vnd.jupyter.widget-view+json": {
       "model_id": "a95f6b7092bf4043a655fbe9c9529065",
       "version_major": 2,
       "version_minor": 0
      },
      "text/plain": [
       "Хакасский Муниципальный Банк:   0%|          | 0/1 [00:00<?, ?it/s]"
      ]
     },
     "metadata": {},
     "output_type": "display_data"
    },
    {
     "data": {
      "application/vnd.jupyter.widget-view+json": {
       "model_id": "cecc23743535487b8793864355acaa66",
       "version_major": 2,
       "version_minor": 0
      },
      "text/plain": [
       "Химик:   0%|          | 0/1 [00:00<?, ?it/s]"
      ]
     },
     "metadata": {},
     "output_type": "display_data"
    },
    {
     "data": {
      "application/vnd.jupyter.widget-view+json": {
       "model_id": "199aa6c67c6b4f62a758245edb84be3a",
       "version_major": 2,
       "version_minor": 0
      },
      "text/plain": [
       "Хлынов:   0%|          | 0/2 [00:00<?, ?it/s]"
      ]
     },
     "metadata": {},
     "output_type": "display_data"
    },
    {
     "data": {
      "application/vnd.jupyter.widget-view+json": {
       "model_id": "fc3642c6ddad4ad1a8690e8708f8d33f",
       "version_major": 2,
       "version_minor": 0
      },
      "text/plain": [
       "Холмск:   0%|          | 0/1 [00:00<?, ?it/s]"
      ]
     },
     "metadata": {},
     "output_type": "display_data"
    },
    {
     "data": {
      "application/vnd.jupyter.widget-view+json": {
       "model_id": "eb472a4d9d8946699554f2b2ae74a536",
       "version_major": 2,
       "version_minor": 0
      },
      "text/plain": [
       "Хоум Кредит Банк:   0%|          | 0/1502 [00:00<?, ?it/s]"
      ]
     },
     "metadata": {},
     "output_type": "display_data"
    },
    {
     "data": {
      "application/vnd.jupyter.widget-view+json": {
       "model_id": "025d2c77a10645d38ff79e8b7a370eba",
       "version_major": 2,
       "version_minor": 0
      },
      "text/plain": [
       "Центр-инвест:   0%|          | 0/47 [00:00<?, ?it/s]"
      ]
     },
     "metadata": {},
     "output_type": "display_data"
    },
    {
     "data": {
      "application/vnd.jupyter.widget-view+json": {
       "model_id": "dde285ffd78f49f1a0c90decd87ae187",
       "version_major": 2,
       "version_minor": 0
      },
      "text/plain": [
       "ЦентроКредит:   0%|          | 0/2 [00:00<?, ?it/s]"
      ]
     },
     "metadata": {},
     "output_type": "display_data"
    },
    {
     "data": {
      "application/vnd.jupyter.widget-view+json": {
       "model_id": "7ffcad9713bc40b4a824308b3fd39a5f",
       "version_major": 2,
       "version_minor": 0
      },
      "text/plain": [
       "ЦМРБанк:   0%|          | 0/1 [00:00<?, ?it/s]"
      ]
     },
     "metadata": {},
     "output_type": "display_data"
    },
    {
     "data": {
      "application/vnd.jupyter.widget-view+json": {
       "model_id": "df73436790b840c0b6885061c86cbf15",
       "version_major": 2,
       "version_minor": 0
      },
      "text/plain": [
       "Чайна Констракшн:   0%|          | 0/1 [00:00<?, ?it/s]"
      ]
     },
     "metadata": {},
     "output_type": "display_data"
    },
    {
     "data": {
      "application/vnd.jupyter.widget-view+json": {
       "model_id": "aed753518bb9486cae43bdcd256b0fd6",
       "version_major": 2,
       "version_minor": 0
      },
      "text/plain": [
       "Челиндбанк:   0%|          | 0/3 [00:00<?, ?it/s]"
      ]
     },
     "metadata": {},
     "output_type": "display_data"
    },
    {
     "data": {
      "application/vnd.jupyter.widget-view+json": {
       "model_id": "ca3fc165c052401fbd26438ff7171428",
       "version_major": 2,
       "version_minor": 0
      },
      "text/plain": [
       "Челябинвестбанк:   0%|          | 0/4 [00:00<?, ?it/s]"
      ]
     },
     "metadata": {},
     "output_type": "display_data"
    },
    {
     "data": {
      "application/vnd.jupyter.widget-view+json": {
       "model_id": "f8d85e69aae9447eabb524409da4ca2e",
       "version_major": 2,
       "version_minor": 0
      },
      "text/plain": [
       "Черноморский банк развития и реконструкции:   0%|          | 0/1 [00:00<?, ?it/s]"
      ]
     },
     "metadata": {},
     "output_type": "display_data"
    },
    {
     "data": {
      "application/vnd.jupyter.widget-view+json": {
       "model_id": "80de38c4c2fd4b62abdf84ac813c4503",
       "version_major": 2,
       "version_minor": 0
      },
      "text/plain": [
       "Эйч-Эс-Би-Си Банк (HSBC):   0%|          | 0/2 [00:00<?, ?it/s]"
      ]
     },
     "metadata": {},
     "output_type": "display_data"
    },
    {
     "data": {
      "application/vnd.jupyter.widget-view+json": {
       "model_id": "5e2ab54c64824d87a9bb49574836b738",
       "version_major": 2,
       "version_minor": 0
      },
      "text/plain": [
       "Экономбанк:   0%|          | 0/1 [00:00<?, ?it/s]"
      ]
     },
     "metadata": {},
     "output_type": "display_data"
    },
    {
     "data": {
      "application/vnd.jupyter.widget-view+json": {
       "model_id": "6d10011ad66b4ea5a19910a76ea3dd6d",
       "version_major": 2,
       "version_minor": 0
      },
      "text/plain": [
       "Экси-Банк:   0%|          | 0/1 [00:00<?, ?it/s]"
      ]
     },
     "metadata": {},
     "output_type": "display_data"
    },
    {
     "data": {
      "application/vnd.jupyter.widget-view+json": {
       "model_id": "40c89949be364624b1c83bf37328ea02",
       "version_major": 2,
       "version_minor": 0
      },
      "text/plain": [
       "Экспобанк:   0%|          | 0/46 [00:00<?, ?it/s]"
      ]
     },
     "metadata": {},
     "output_type": "display_data"
    },
    {
     "data": {
      "application/vnd.jupyter.widget-view+json": {
       "model_id": "2279995c1b9a45c08152d5bb226e5f50",
       "version_major": 2,
       "version_minor": 0
      },
      "text/plain": [
       "Элита:   0%|          | 0/1 [00:00<?, ?it/s]"
      ]
     },
     "metadata": {},
     "output_type": "display_data"
    },
    {
     "data": {
      "application/vnd.jupyter.widget-view+json": {
       "model_id": "d0ed320045734927932a9ae3d4188005",
       "version_major": 2,
       "version_minor": 0
      },
      "text/plain": [
       "Энергобанк:   0%|          | 0/2 [00:00<?, ?it/s]"
      ]
     },
     "metadata": {},
     "output_type": "display_data"
    },
    {
     "data": {
      "application/vnd.jupyter.widget-view+json": {
       "model_id": "e99401af78054d498ace74691ea038cc",
       "version_major": 2,
       "version_minor": 0
      },
      "text/plain": [
       "Энерготрансбанк:   0%|          | 0/2 [00:00<?, ?it/s]"
      ]
     },
     "metadata": {},
     "output_type": "display_data"
    },
    {
     "data": {
      "application/vnd.jupyter.widget-view+json": {
       "model_id": "d1f442c2e9204be8b262b48363f7a719",
       "version_major": 2,
       "version_minor": 0
      },
      "text/plain": [
       "Эс-Би-Ай Банк:   0%|          | 0/12 [00:00<?, ?it/s]"
      ]
     },
     "metadata": {},
     "output_type": "display_data"
    },
    {
     "data": {
      "application/vnd.jupyter.widget-view+json": {
       "model_id": "7a700fec3c204d7cb90ea6a69ac4eacf",
       "version_major": 2,
       "version_minor": 0
      },
      "text/plain": [
       "ЮBusiness:   0%|          | 0/1 [00:00<?, ?it/s]"
      ]
     },
     "metadata": {},
     "output_type": "display_data"
    },
    {
     "data": {
      "application/vnd.jupyter.widget-view+json": {
       "model_id": "e5f5f2416c574c99b1d0d63dc721f3c2",
       "version_major": 2,
       "version_minor": 0
      },
      "text/plain": [
       "Ю Би Эс Банк:   0%|          | 0/1 [00:00<?, ?it/s]"
      ]
     },
     "metadata": {},
     "output_type": "display_data"
    },
    {
     "data": {
      "application/vnd.jupyter.widget-view+json": {
       "model_id": "d121abbf0bb3419fa96673374bc78a55",
       "version_major": 2,
       "version_minor": 0
      },
      "text/plain": [
       "Юг-Инвестбанк:   0%|          | 0/2 [00:00<?, ?it/s]"
      ]
     },
     "metadata": {},
     "output_type": "display_data"
    },
    {
     "data": {
      "application/vnd.jupyter.widget-view+json": {
       "model_id": "77149d2a5f1d44e7ae3560a3214458df",
       "version_major": 2,
       "version_minor": 0
      },
      "text/plain": [
       "ЮниКредит Банк:   0%|          | 0/369 [00:00<?, ?it/s]"
      ]
     },
     "metadata": {},
     "output_type": "display_data"
    },
    {
     "data": {
      "application/vnd.jupyter.widget-view+json": {
       "model_id": "dba1c06047b54c89a93a5245dd8d2afb",
       "version_major": 2,
       "version_minor": 0
      },
      "text/plain": [
       "Юнистрим:   0%|          | 0/10 [00:00<?, ?it/s]"
      ]
     },
     "metadata": {},
     "output_type": "display_data"
    },
    {
     "data": {
      "application/vnd.jupyter.widget-view+json": {
       "model_id": "dbdb3c7c66f74b3ea6e03582ec93130c",
       "version_major": 2,
       "version_minor": 0
      },
      "text/plain": [
       "Яринтербанк:   0%|          | 0/1 [00:00<?, ?it/s]"
      ]
     },
     "metadata": {},
     "output_type": "display_data"
    }
   ],
   "source": [
    "reviews = []\n",
    "for bank in tqdm(banks):\n",
    "    browser.get(bank[\"url\"])\n",
    "    page = BeautifulSoup(browser.page_source, \"html.parser\")\n",
    "\n",
    "    reviews_num_elem_main = page.find(\"div\", class_=\"ui-pagination__description\")\n",
    "    if reviews_num_elem_main is None:\n",
    "        continue\n",
    "    reviews_num_elem = reviews_num_elem_main.find_all(\"span\")[1]\n",
    "    reviews_num = reviews_num_elem.text.strip().split()[-1]\n",
    "    page_num = ceil(int(reviews_num) / 25)\n",
    "\n",
    "    for i in tqdm(range(1, page_num + 1), desc=bank[\"name\"]):\n",
    "        if i != 1:\n",
    "            browser.get(f\"{bank['url']}?page={i}\")\n",
    "        page = BeautifulSoup(browser.page_source, \"html.parser\")\n",
    "        if page.find(\"div\", class_=\"responses-list\") is None:\n",
    "            continue\n",
    "\n",
    "        times = []\n",
    "        responses = page.find(\"div\", class_=\"responses-list\").find_all(\"article\")\n",
    "        for response in responses:\n",
    "            link = \"https://www.banki.ru\" + response.find(\"a\", {\"class\": \"header-h3\"})[\"href\"]\n",
    "            text = response.find(\"div\", class_=\"markup-inside-small\").text\n",
    "            time = datetime.strptime(response.find(\"time\", class_=\"display-inline-block\").text, \"%d.%m.%Y %H:%M\")\n",
    "            comments_num = response.find(\"span\", class_=\"responses__item__comment-count\")\n",
    "            rating_text = response.find(\"span\", class_=\"rating-grade\")\n",
    "            rating = int(rating_text.text) if rating_text is not None else None\n",
    "\n",
    "            if time < parsed_time:\n",
    "                continue\n",
    "\n",
    "            reviews.append(\n",
    "                {\n",
    "                    \"bank\": bank[\"name\"],\n",
    "                    \"link\": link,\n",
    "                    \"text\": re.sub(\"\\\\xa0|\\\\n|\\\\t\", \"\", text),\n",
    "                    \"time\": time,\n",
    "                    \"comments_num\": comments_num,\n",
    "                    \"rating\": rating,\n",
    "                }\n",
    "            )\n",
    "            times.append(time)\n",
    "\n",
    "        if len(times) == 0:\n",
    "            break\n",
    "\n",
    "        if max(times) < parsed_time:\n",
    "            break"
   ]
  },
  {
   "cell_type": "code",
   "execution_count": 15,
   "id": "7b0afc11-99a2-4485-8621-fd0e4f5beaad",
   "metadata": {},
   "outputs": [
    {
     "name": "stdout",
     "output_type": "stream",
     "text": [
      "None TalkBank\n",
      "None ВЭБ\n",
      "3539 Клиринговый центр МФБ\n",
      "None МодульКасса\n",
      "3540 РДК\n"
     ]
    }
   ],
   "source": [
    "cbr_license = [cbr[\"license_id\"] for cbr in cbr_bank]\n",
    "for cbr, bank in zip(cbr_bank, banks):\n",
    "    if bank[\"license\"] not in cbr_license:\n",
    "        print(bank[\"license\"], bank[\"name\"])"
   ]
  }
 ],
 "metadata": {
  "kernelspec": {
   "display_name": "Python 3 (ipykernel)",
   "language": "python",
   "name": "python3"
  },
  "language_info": {
   "codemirror_mode": {
    "name": "ipython",
    "version": 3
   },
   "file_extension": ".py",
   "mimetype": "text/x-python",
   "name": "python",
   "nbconvert_exporter": "python",
   "pygments_lexer": "ipython3",
   "version": "3.10.4"
  },
  "widgets": {
   "application/vnd.jupyter.widget-state+json": {
    "state": {},
    "version_major": 2,
    "version_minor": 0
   }
  }
 },
 "nbformat": 4,
 "nbformat_minor": 5
}
